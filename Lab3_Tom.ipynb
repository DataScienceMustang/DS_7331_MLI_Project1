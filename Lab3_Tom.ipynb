{
 "cells": [
  {
   "cell_type": "raw",
   "metadata": {},
   "source": [
    "# Lab 3 Clustering <br>\n",
    "Group Members: Thomas Pengilly, Quynh Chau, Anish Patel, Michael Weatherford <br>\n",
    "Date: 12/06/2020"
   ]
  },
  {
   "cell_type": "markdown",
   "metadata": {},
   "source": [
    "# <font color = 'blue'> I.BUSINESS UNDERSTANDING\n",
    "<font color = 'blue'>Real estate has traditionally been a staple asset for investors that offer potential benefits such as excellent cash flow and diversification of asset portfolios.  When well-chosen, real estates typically appreciate in value over time, thus providing protection against inflation.  For these reasons, data on real estate pricings based listings of properties for sale are collected because they useful to potential investors.  These listings can be used as a starting basis for property valuation given specific group(s) of features.  "
   ]
  },
  {
   "cell_type": "code",
   "execution_count": 1,
   "metadata": {},
   "outputs": [],
   "source": [
    "# Import libraries\n",
    "import numpy as np\n",
    "import pandas as pd\n",
    "from pandas import set_option\n",
    "set_option('display.max_columns',400)\n",
    "import matplotlib.pyplot as plt\n",
    "from sklearn.preprocessing import OneHotEncoder\n",
    "import scipy"
   ]
  },
  {
   "cell_type": "code",
   "execution_count": 2,
   "metadata": {},
   "outputs": [],
   "source": [
    "# Import libraries for clustering\n",
    "\n",
    "from sklearn.preprocessing import MinMaxScaler \n",
    "from sklearn.preprocessing import StandardScaler\n",
    "#from sklearn.preprocessing import normalize\n",
    "from sklearn.model_selection import StratifiedKFold\n",
    "from sklearn.model_selection import train_test_split\n",
    "from sklearn.model_selection import GridSearchCV\n",
    "#from sklearn.neighbors import KNeighborsClassifier\n",
    "from sklearn import metrics as mt\n",
    "from sklearn.decomposition import PCA\n",
    "from sklearn.pipeline import Pipeline\n",
    "#from sklearn.ensemble import RandomForestClassifier\n",
    "#from sklearn.ensemble import ExtraTreesClassifier\n",
    "#from sklearn.neighbors import KNeighborsRegressor\n",
    "\n",
    "import seaborn as sns\n",
    "from mpl_toolkits.mplot3d import Axes3D\n",
    "from matplotlib.colors import ListedColormap\n",
    "import plotly.express as px"
   ]
  },
  {
   "cell_type": "markdown",
   "metadata": {},
   "source": [
    "# <font color = 'blue'> II.DATA UNDERSTANDING\n",
    "<font color = 'blue'>A.Meaning and Type of Data for Attributes: Property_type and Country\n",
    "\n",
    "<font color = 'blue'>B.Data Quality: \n",
    "\n",
    "<font color= 'blue'>Outliers:  Outliers were included in the analysis because the dataset has over 400,000 entries, thus making any one outlier's effect on the data minimal.\n",
    "\n",
    "<font color = 'blue'>Missing Values:  the final dataset used in cluster analysis was an imputed dataset using XXXX values for each attribute with missing data.\n"
   ]
  },
  {
   "cell_type": "code",
   "execution_count": 3,
   "metadata": {},
   "outputs": [
    {
     "name": "stdout",
     "output_type": "stream",
     "text": [
      "<class 'pandas.core.frame.DataFrame'>\n",
      "RangeIndex: 463724 entries, 0 to 463723\n",
      "Data columns (total 20 columns):\n",
      " #   Column           Non-Null Count   Dtype  \n",
      "---  ------           --------------   -----  \n",
      " 0   lat              409210 non-null  float64\n",
      " 1   lon              409210 non-null  float64\n",
      " 2   rooms            463724 non-null  float64\n",
      " 3   bedrooms         463724 non-null  float64\n",
      " 4   bathrooms        463724 non-null  float64\n",
      " 5   surface_total    463724 non-null  float64\n",
      " 6   surface_covered  463724 non-null  float64\n",
      " 7   price            463723 non-null  float64\n",
      " 8   log_price        463724 non-null  float64\n",
      " 9   id               463723 non-null  object \n",
      " 10  start_date       463723 non-null  object \n",
      " 11  end_date         463723 non-null  object \n",
      " 12  created_on       463723 non-null  object \n",
      " 13  property_type    463723 non-null  object \n",
      " 14  l1               463723 non-null  object \n",
      " 15  l2               463723 non-null  object \n",
      " 16  l3               441216 non-null  object \n",
      " 17  title            463723 non-null  object \n",
      " 18  description      463717 non-null  object \n",
      " 19  price_class      463723 non-null  object \n",
      "dtypes: float64(9), object(11)\n",
      "memory usage: 70.8+ MB\n"
     ]
    }
   ],
   "source": [
    "# Read in the imputed dataset\n",
    "\n",
    "# Tom\n",
    "df = pd.read_csv('C:\\\\Users\\\\Tpeng\\\\OneDrive\\\\Documents\\\\SMU\\\\Term 3\\\\Machine Learning\\\\Lab1\\\\Imputed_Dataset.csv', sep = ',', header = 0)\n",
    "\n",
    "#Quynh\n",
    "#df = pd.read_csv('Imputed_Dataset.csv', sep = ',', header = 0)\n",
    "\n",
    "# Anish\n",
    "#df = pd.read_csv('filepath, sep = ',', header = 0)\n",
    "\n",
    "# Michael\n",
    "#df = pd.read_csv('filepath', sep = ',', header = 0)\n",
    "\n",
    "# Drop index column\n",
    "df = df.drop(columns = 'Unnamed: 0')\n",
    "df.info()"
   ]
  },
  {
   "cell_type": "code",
   "execution_count": 4,
   "metadata": {},
   "outputs": [],
   "source": [
    "# Remove some outliers (surface_covered) to improve normalization results and allow better visualization\n",
    "# Define Function for removing outliers of numeric columns \n",
    "def remove_outlier(df):\n",
    "    i = []\n",
    "    low = .05\n",
    "    high = .95\n",
    "    quant_df = df.quantile([low, high])\n",
    "    df.loc[(df['surface_covered'] < quant_df.loc[high, 'surface_covered']), 'keep'] = 1\n",
    "    df.loc[(df['surface_covered'] >= quant_df.loc[high, 'surface_covered']), 'keep'] = 0\n",
    "    # This next row also removes surface total outliers\n",
    "    df.loc[(df['surface_total'] >= quant_df.loc[high, 'surface_total']), 'keep'] = 0\n",
    "    df = df[df.keep == 1]\n",
    "        \n",
    "    #df = df[(df['surface_covered'] < quant_df.loc[high, 'surface_covered'])]\n",
    "    return df"
   ]
  },
  {
   "cell_type": "code",
   "execution_count": 5,
   "metadata": {},
   "outputs": [
    {
     "name": "stdout",
     "output_type": "stream",
     "text": [
      "<class 'pandas.core.frame.DataFrame'>\n",
      "RangeIndex: 427265 entries, 0 to 427264\n",
      "Data columns (total 22 columns):\n",
      " #   Column           Non-Null Count   Dtype  \n",
      "---  ------           --------------   -----  \n",
      " 0   index            427265 non-null  int64  \n",
      " 1   lat              378101 non-null  float64\n",
      " 2   lon              378101 non-null  float64\n",
      " 3   rooms            427265 non-null  float64\n",
      " 4   bedrooms         427265 non-null  float64\n",
      " 5   bathrooms        427265 non-null  float64\n",
      " 6   surface_total    427265 non-null  float64\n",
      " 7   surface_covered  427265 non-null  float64\n",
      " 8   price            427264 non-null  float64\n",
      " 9   log_price        427265 non-null  float64\n",
      " 10  id               427264 non-null  object \n",
      " 11  start_date       427264 non-null  object \n",
      " 12  end_date         427264 non-null  object \n",
      " 13  created_on       427264 non-null  object \n",
      " 14  property_type    427264 non-null  object \n",
      " 15  l1               427264 non-null  object \n",
      " 16  l2               427264 non-null  object \n",
      " 17  l3               408480 non-null  object \n",
      " 18  title            427264 non-null  object \n",
      " 19  description      427258 non-null  object \n",
      " 20  price_class      427264 non-null  object \n",
      " 21  keep             427265 non-null  float64\n",
      "dtypes: float64(10), int64(1), object(11)\n",
      "memory usage: 71.7+ MB\n"
     ]
    }
   ],
   "source": [
    "# Remove outliers and recast data for plotting\n",
    "df = remove_outlier(df)\n",
    "df.reset_index(inplace = True)\n",
    "df.info()"
   ]
  },
  {
   "cell_type": "code",
   "execution_count": 32,
   "metadata": {},
   "outputs": [],
   "source": [
    "# Reformat attributes, excluding categoricals, which aren't supported for the the dummy variable generation method used.\n",
    "ordinal_vars = ['rooms', 'bedrooms', 'bathrooms' ]\n",
    "continuous_vars = ['lat', 'lon', 'surface_total', 'surface_covered', 'price', 'log_price']\n",
    "string_vars = ['id', 'title', 'description','property_type', 'l1','description']\n",
    "time_vars = ['start_date', 'end_date', 'created_on']\n",
    "\n",
    "# Change data types\n",
    "df[ordinal_vars] = df[ordinal_vars].astype('uint8')\n",
    "df[continuous_vars] = df[continuous_vars].astype(np.float64)\n",
    "df[string_vars] = df[string_vars].astype(str)\n",
    "\n",
    "# Remove observations missing l3 and price before encoding \n",
    "df2 = df.dropna(axis = 0, subset = ['price', 'l3'])\n",
    "\n",
    "# Create dataset using numeric attributes, property type and country, make classification variable ordinal\n",
    "df_num = df.copy()\n",
    "#df_num.loc[(df_num['price_class'] == 'Low'), 'price_class_final'] = 0\n",
    "#df_num.loc[(df_num['price_class'] == 'Average'), 'price_class_final'] = 1\n",
    "#df_num.loc[(df_num['price_class'] == 'High'), 'price_class_final'] = 2\n",
    "\n",
    "df_num = df_num[['rooms', 'bedrooms', 'bathrooms', 'surface_total', 'surface_covered', 'price', 'log_price', 'property_type','l1', 'price_class']]\n",
    "df_num = df_num.dropna()"
   ]
  },
  {
   "cell_type": "code",
   "execution_count": 33,
   "metadata": {},
   "outputs": [
    {
     "name": "stdout",
     "output_type": "stream",
     "text": [
      "<class 'pandas.core.frame.DataFrame'>\n",
      "Int64Index: 427264 entries, 0 to 427263\n",
      "Data columns (total 10 columns):\n",
      " #   Column           Non-Null Count   Dtype  \n",
      "---  ------           --------------   -----  \n",
      " 0   rooms            427264 non-null  uint8  \n",
      " 1   bedrooms         427264 non-null  uint8  \n",
      " 2   bathrooms        427264 non-null  uint8  \n",
      " 3   surface_total    427264 non-null  float64\n",
      " 4   surface_covered  427264 non-null  float64\n",
      " 5   price            427264 non-null  float64\n",
      " 6   log_price        427264 non-null  float64\n",
      " 7   property_type    427264 non-null  object \n",
      " 8   l1               427264 non-null  object \n",
      " 9   price_class      427264 non-null  object \n",
      "dtypes: float64(4), object(3), uint8(3)\n",
      "memory usage: 27.3+ MB\n"
     ]
    }
   ],
   "source": [
    "df_num.info()"
   ]
  },
  {
   "cell_type": "markdown",
   "metadata": {},
   "source": [
    "<font color = 'blue'>C. Visualization of Important Attributes"
   ]
  },
  {
   "cell_type": "markdown",
   "metadata": {},
   "source": [
    "We will create multiple visualizations to explore the potential of clustering for our dataset. We foresee clustering as a useful way to impute missing data, and possibly as an effective alternative to price-classification. These visualizations include 3D Scatterplots, ...,"
   ]
  },
  {
   "cell_type": "code",
   "execution_count": null,
   "metadata": {},
   "outputs": [],
   "source": [
    "# 3D Scatter plot\n",
    "import plotly.express as px\n",
    "fig = px.scatter_3d(df_num, x = 'rooms', y = 'surface_covered', z = 'log_price', color = 'l1', size = 'bathrooms')\n",
    "fig.update_layout(margin=dict(l=0, r=0, b=0, t=0))\n",
    "\n",
    "fig.show()"
   ]
  },
  {
   "cell_type": "markdown",
   "metadata": {},
   "source": [
    "The clustering for each country seem to have a roughly common center, differing only slightly in the distribution of noise points. Clustering wouldn't likely be helpful classifying country on these attributes. We will explore a few more combinations."
   ]
  },
  {
   "cell_type": "code",
   "execution_count": null,
   "metadata": {},
   "outputs": [],
   "source": [
    "# Plot rooms, surface_covered, surface_total\n",
    "fig = px.scatter_3d(df_num, x = 'rooms', y = 'surface_covered', z = 'surface_total', color = 'l1', size = 'bathrooms')\n",
    "fig.update_layout(margin=dict(l=0, r=0, b=0, t=0))\n",
    "\n",
    "fig.show()"
   ]
  },
  {
   "cell_type": "markdown",
   "metadata": {},
   "source": [
    "Use latitude and longitude to cluster country."
   ]
  },
  {
   "cell_type": "code",
   "execution_count": 10,
   "metadata": {},
   "outputs": [],
   "source": [
    "## Reformat attributes, excluding categoricals, which aren't supported for the the dummy variable generation method used.\n",
    "# ordinal_vars = ['rooms', 'bedrooms', 'bathrooms' ]\n",
    "# continuous_vars = ['lat', 'lon', 'surface_total', 'surface_covered', 'price', 'log_price']\n",
    "# string_vars = ['id', 'title', 'description','property_type', 'l1','description']\n",
    "# time_vars = ['start_date', 'end_date', 'created_on']\n",
    "\n",
    "# # Change data types\n",
    "# df[ordinal_vars] = df[ordinal_vars].astype('uint8')\n",
    "# df[continuous_vars] = df[continuous_vars].astype(np.float64)\n",
    "# df[string_vars] = df[string_vars].astype(str)\n",
    "\n",
    "# Remove observations missing l3 and price before encoding \n",
    "df2 = df.dropna(axis = 0, subset = ['price', 'l3'])\n",
    "\n",
    "# Create dataset using numeric attributes, property type and country, make classification variable ordinal\n",
    "df_latlon = df.copy()\n",
    "#df_num.loc[(df_num['price_class'] == 'Low'), 'price_class_final'] = 0\n",
    "#df_num.loc[(df_num['price_class'] == 'Average'), 'price_class_final'] = 1\n",
    "#df_num.loc[(df_num['price_class'] == 'High'), 'price_class_final'] = 2\n",
    "\n",
    "df_latlon = df_latlon[['rooms', 'bedrooms', 'bathrooms', 'surface_total', 'surface_covered', 'price', 'log_price', 'property_type','l1', 'lat', 'lon']]\n",
    "df_latlon = df_latlon.dropna()"
   ]
  },
  {
   "cell_type": "code",
   "execution_count": 12,
   "metadata": {},
   "outputs": [
    {
     "data": {
      "text/html": [
       "<div>\n",
       "<style scoped>\n",
       "    .dataframe tbody tr th:only-of-type {\n",
       "        vertical-align: middle;\n",
       "    }\n",
       "\n",
       "    .dataframe tbody tr th {\n",
       "        vertical-align: top;\n",
       "    }\n",
       "\n",
       "    .dataframe thead th {\n",
       "        text-align: right;\n",
       "    }\n",
       "</style>\n",
       "<table border=\"1\" class=\"dataframe\">\n",
       "  <thead>\n",
       "    <tr style=\"text-align: right;\">\n",
       "      <th></th>\n",
       "      <th>rooms</th>\n",
       "      <th>bedrooms</th>\n",
       "      <th>bathrooms</th>\n",
       "      <th>surface_total</th>\n",
       "      <th>surface_covered</th>\n",
       "      <th>price</th>\n",
       "      <th>log_price</th>\n",
       "      <th>property_type</th>\n",
       "      <th>l1</th>\n",
       "      <th>lat</th>\n",
       "      <th>lon</th>\n",
       "    </tr>\n",
       "  </thead>\n",
       "  <tbody>\n",
       "    <tr>\n",
       "      <th>2</th>\n",
       "      <td>7</td>\n",
       "      <td>3</td>\n",
       "      <td>2</td>\n",
       "      <td>173.0</td>\n",
       "      <td>173.0</td>\n",
       "      <td>195000.0</td>\n",
       "      <td>12.180755</td>\n",
       "      <td>Casa</td>\n",
       "      <td>Argentina</td>\n",
       "      <td>-27.371199</td>\n",
       "      <td>-55.898454</td>\n",
       "    </tr>\n",
       "    <tr>\n",
       "      <th>4</th>\n",
       "      <td>3</td>\n",
       "      <td>3</td>\n",
       "      <td>1</td>\n",
       "      <td>49.0</td>\n",
       "      <td>40.0</td>\n",
       "      <td>85000.0</td>\n",
       "      <td>11.350407</td>\n",
       "      <td>Casa</td>\n",
       "      <td>Argentina</td>\n",
       "      <td>-32.951146</td>\n",
       "      <td>-60.571979</td>\n",
       "    </tr>\n",
       "    <tr>\n",
       "      <th>5</th>\n",
       "      <td>4</td>\n",
       "      <td>3</td>\n",
       "      <td>3</td>\n",
       "      <td>400.0</td>\n",
       "      <td>400.0</td>\n",
       "      <td>570000.0</td>\n",
       "      <td>13.253392</td>\n",
       "      <td>Casa</td>\n",
       "      <td>Argentina</td>\n",
       "      <td>-32.961060</td>\n",
       "      <td>-68.877991</td>\n",
       "    </tr>\n",
       "    <tr>\n",
       "      <th>6</th>\n",
       "      <td>4</td>\n",
       "      <td>2</td>\n",
       "      <td>3</td>\n",
       "      <td>193.0</td>\n",
       "      <td>175.0</td>\n",
       "      <td>935000.0</td>\n",
       "      <td>13.748302</td>\n",
       "      <td>Departamento</td>\n",
       "      <td>Argentina</td>\n",
       "      <td>-34.572445</td>\n",
       "      <td>-58.420624</td>\n",
       "    </tr>\n",
       "    <tr>\n",
       "      <th>7</th>\n",
       "      <td>2</td>\n",
       "      <td>2</td>\n",
       "      <td>1</td>\n",
       "      <td>31.0</td>\n",
       "      <td>31.0</td>\n",
       "      <td>89000.0</td>\n",
       "      <td>11.396392</td>\n",
       "      <td>Departamento</td>\n",
       "      <td>Argentina</td>\n",
       "      <td>-34.578547</td>\n",
       "      <td>-58.430038</td>\n",
       "    </tr>\n",
       "  </tbody>\n",
       "</table>\n",
       "</div>"
      ],
      "text/plain": [
       "   rooms  bedrooms  bathrooms  surface_total  surface_covered     price  \\\n",
       "2      7         3          2          173.0            173.0  195000.0   \n",
       "4      3         3          1           49.0             40.0   85000.0   \n",
       "5      4         3          3          400.0            400.0  570000.0   \n",
       "6      4         2          3          193.0            175.0  935000.0   \n",
       "7      2         2          1           31.0             31.0   89000.0   \n",
       "\n",
       "   log_price property_type         l1        lat        lon  \n",
       "2  12.180755          Casa  Argentina -27.371199 -55.898454  \n",
       "4  11.350407          Casa  Argentina -32.951146 -60.571979  \n",
       "5  13.253392          Casa  Argentina -32.961060 -68.877991  \n",
       "6  13.748302  Departamento  Argentina -34.572445 -58.420624  \n",
       "7  11.396392  Departamento  Argentina -34.578547 -58.430038  "
      ]
     },
     "execution_count": 12,
     "metadata": {},
     "output_type": "execute_result"
    }
   ],
   "source": [
    "df_latlon.head()"
   ]
  },
  {
   "cell_type": "code",
   "execution_count": null,
   "metadata": {},
   "outputs": [],
   "source": [
    "# Plot lat, lon, country color by property type\n",
    "fig = px.scatter_3d(df_latlon, x = 'lat', y = 'lon', z = 'l1', color = 'property_type', size = 'rooms', \n",
    "                    title = 'Country Clustering by Latitude and Longitude')\n",
    "fig.update_layout(margin=dict(l=0, r=0, b=0, t=0))\n",
    "\n",
    "fig.show()"
   ]
  },
  {
   "cell_type": "markdown",
   "metadata": {},
   "source": [
    "The plot above shows that latitude and longitude could effectively be used to impute an observation's country value in case of missing data. It appears that Ecuador may prove tricky using clustering since it is equidistant between Peru and Colombia, and has few data points. We may want to extend this analysis to a larger subset of the data. This method extends to imputing missing l2 (province) and l3 (department) values as well. If we wanted to include department in the model, this would be worth pursuing."
   ]
  },
  {
   "cell_type": "code",
   "execution_count": null,
   "metadata": {},
   "outputs": [],
   "source": []
  },
  {
   "cell_type": "code",
   "execution_count": null,
   "metadata": {},
   "outputs": [],
   "source": []
  },
  {
   "cell_type": "code",
   "execution_count": 34,
   "metadata": {},
   "outputs": [
    {
     "data": {
      "text/html": [
       "<div>\n",
       "<style scoped>\n",
       "    .dataframe tbody tr th:only-of-type {\n",
       "        vertical-align: middle;\n",
       "    }\n",
       "\n",
       "    .dataframe tbody tr th {\n",
       "        vertical-align: top;\n",
       "    }\n",
       "\n",
       "    .dataframe thead th {\n",
       "        text-align: right;\n",
       "    }\n",
       "</style>\n",
       "<table border=\"1\" class=\"dataframe\">\n",
       "  <thead>\n",
       "    <tr style=\"text-align: right;\">\n",
       "      <th></th>\n",
       "      <th>rooms</th>\n",
       "      <th>bedrooms</th>\n",
       "      <th>bathrooms</th>\n",
       "      <th>surface_total</th>\n",
       "      <th>surface_covered</th>\n",
       "      <th>price</th>\n",
       "      <th>log_price</th>\n",
       "      <th>property_type</th>\n",
       "      <th>l1</th>\n",
       "      <th>price_class</th>\n",
       "      <th>lat</th>\n",
       "      <th>lon</th>\n",
       "      <th>surface_ratio</th>\n",
       "    </tr>\n",
       "  </thead>\n",
       "  <tbody>\n",
       "    <tr>\n",
       "      <th>2</th>\n",
       "      <td>7</td>\n",
       "      <td>3</td>\n",
       "      <td>2</td>\n",
       "      <td>173.0</td>\n",
       "      <td>173.0</td>\n",
       "      <td>195000.0</td>\n",
       "      <td>12.180755</td>\n",
       "      <td>Casa</td>\n",
       "      <td>Argentina</td>\n",
       "      <td>Average</td>\n",
       "      <td>-27.371199</td>\n",
       "      <td>-55.898454</td>\n",
       "      <td>1.000000</td>\n",
       "    </tr>\n",
       "    <tr>\n",
       "      <th>4</th>\n",
       "      <td>3</td>\n",
       "      <td>3</td>\n",
       "      <td>1</td>\n",
       "      <td>49.0</td>\n",
       "      <td>40.0</td>\n",
       "      <td>85000.0</td>\n",
       "      <td>11.350407</td>\n",
       "      <td>Casa</td>\n",
       "      <td>Argentina</td>\n",
       "      <td>Low</td>\n",
       "      <td>-32.951146</td>\n",
       "      <td>-60.571979</td>\n",
       "      <td>0.816327</td>\n",
       "    </tr>\n",
       "    <tr>\n",
       "      <th>5</th>\n",
       "      <td>4</td>\n",
       "      <td>3</td>\n",
       "      <td>3</td>\n",
       "      <td>400.0</td>\n",
       "      <td>400.0</td>\n",
       "      <td>570000.0</td>\n",
       "      <td>13.253392</td>\n",
       "      <td>Casa</td>\n",
       "      <td>Argentina</td>\n",
       "      <td>High</td>\n",
       "      <td>-32.961060</td>\n",
       "      <td>-68.877991</td>\n",
       "      <td>1.000000</td>\n",
       "    </tr>\n",
       "    <tr>\n",
       "      <th>6</th>\n",
       "      <td>4</td>\n",
       "      <td>2</td>\n",
       "      <td>3</td>\n",
       "      <td>193.0</td>\n",
       "      <td>175.0</td>\n",
       "      <td>935000.0</td>\n",
       "      <td>13.748302</td>\n",
       "      <td>Departamento</td>\n",
       "      <td>Argentina</td>\n",
       "      <td>High</td>\n",
       "      <td>-34.572445</td>\n",
       "      <td>-58.420624</td>\n",
       "      <td>0.906736</td>\n",
       "    </tr>\n",
       "    <tr>\n",
       "      <th>7</th>\n",
       "      <td>2</td>\n",
       "      <td>2</td>\n",
       "      <td>1</td>\n",
       "      <td>31.0</td>\n",
       "      <td>31.0</td>\n",
       "      <td>89000.0</td>\n",
       "      <td>11.396392</td>\n",
       "      <td>Departamento</td>\n",
       "      <td>Argentina</td>\n",
       "      <td>Low</td>\n",
       "      <td>-34.578547</td>\n",
       "      <td>-58.430038</td>\n",
       "      <td>1.000000</td>\n",
       "    </tr>\n",
       "    <tr>\n",
       "      <th>...</th>\n",
       "      <td>...</td>\n",
       "      <td>...</td>\n",
       "      <td>...</td>\n",
       "      <td>...</td>\n",
       "      <td>...</td>\n",
       "      <td>...</td>\n",
       "      <td>...</td>\n",
       "      <td>...</td>\n",
       "      <td>...</td>\n",
       "      <td>...</td>\n",
       "      <td>...</td>\n",
       "      <td>...</td>\n",
       "      <td>...</td>\n",
       "    </tr>\n",
       "    <tr>\n",
       "      <th>427259</th>\n",
       "      <td>5</td>\n",
       "      <td>2</td>\n",
       "      <td>1</td>\n",
       "      <td>214.0</td>\n",
       "      <td>107.0</td>\n",
       "      <td>129000.0</td>\n",
       "      <td>11.502875</td>\n",
       "      <td>Departamento</td>\n",
       "      <td>Uruguay</td>\n",
       "      <td>Average</td>\n",
       "      <td>-34.908546</td>\n",
       "      <td>-56.187075</td>\n",
       "      <td>0.500000</td>\n",
       "    </tr>\n",
       "    <tr>\n",
       "      <th>427260</th>\n",
       "      <td>2</td>\n",
       "      <td>2</td>\n",
       "      <td>1</td>\n",
       "      <td>63.0</td>\n",
       "      <td>62.0</td>\n",
       "      <td>210000.0</td>\n",
       "      <td>11.767568</td>\n",
       "      <td>Departamento</td>\n",
       "      <td>Uruguay</td>\n",
       "      <td>High</td>\n",
       "      <td>-34.907481</td>\n",
       "      <td>-56.187290</td>\n",
       "      <td>0.984127</td>\n",
       "    </tr>\n",
       "    <tr>\n",
       "      <th>427261</th>\n",
       "      <td>4</td>\n",
       "      <td>2</td>\n",
       "      <td>2</td>\n",
       "      <td>255.0</td>\n",
       "      <td>128.0</td>\n",
       "      <td>150000.0</td>\n",
       "      <td>12.254863</td>\n",
       "      <td>Otro</td>\n",
       "      <td>Uruguay</td>\n",
       "      <td>Low</td>\n",
       "      <td>-34.908144</td>\n",
       "      <td>-56.197043</td>\n",
       "      <td>0.501961</td>\n",
       "    </tr>\n",
       "    <tr>\n",
       "      <th>427262</th>\n",
       "      <td>4</td>\n",
       "      <td>3</td>\n",
       "      <td>2</td>\n",
       "      <td>114.0</td>\n",
       "      <td>114.0</td>\n",
       "      <td>98500.0</td>\n",
       "      <td>11.918391</td>\n",
       "      <td>Departamento</td>\n",
       "      <td>Uruguay</td>\n",
       "      <td>Average</td>\n",
       "      <td>-34.879144</td>\n",
       "      <td>-56.178020</td>\n",
       "      <td>1.000000</td>\n",
       "    </tr>\n",
       "    <tr>\n",
       "      <th>427263</th>\n",
       "      <td>2</td>\n",
       "      <td>2</td>\n",
       "      <td>1</td>\n",
       "      <td>54.0</td>\n",
       "      <td>45.0</td>\n",
       "      <td>105000.0</td>\n",
       "      <td>11.497812</td>\n",
       "      <td>Departamento</td>\n",
       "      <td>Uruguay</td>\n",
       "      <td>Average</td>\n",
       "      <td>-34.908537</td>\n",
       "      <td>-56.163676</td>\n",
       "      <td>0.833333</td>\n",
       "    </tr>\n",
       "  </tbody>\n",
       "</table>\n",
       "<p>378101 rows × 13 columns</p>\n",
       "</div>"
      ],
      "text/plain": [
       "        rooms  bedrooms  bathrooms  surface_total  surface_covered     price  \\\n",
       "2           7         3          2          173.0            173.0  195000.0   \n",
       "4           3         3          1           49.0             40.0   85000.0   \n",
       "5           4         3          3          400.0            400.0  570000.0   \n",
       "6           4         2          3          193.0            175.0  935000.0   \n",
       "7           2         2          1           31.0             31.0   89000.0   \n",
       "...       ...       ...        ...            ...              ...       ...   \n",
       "427259      5         2          1          214.0            107.0  129000.0   \n",
       "427260      2         2          1           63.0             62.0  210000.0   \n",
       "427261      4         2          2          255.0            128.0  150000.0   \n",
       "427262      4         3          2          114.0            114.0   98500.0   \n",
       "427263      2         2          1           54.0             45.0  105000.0   \n",
       "\n",
       "        log_price property_type         l1 price_class        lat        lon  \\\n",
       "2       12.180755          Casa  Argentina     Average -27.371199 -55.898454   \n",
       "4       11.350407          Casa  Argentina         Low -32.951146 -60.571979   \n",
       "5       13.253392          Casa  Argentina        High -32.961060 -68.877991   \n",
       "6       13.748302  Departamento  Argentina        High -34.572445 -58.420624   \n",
       "7       11.396392  Departamento  Argentina         Low -34.578547 -58.430038   \n",
       "...           ...           ...        ...         ...        ...        ...   \n",
       "427259  11.502875  Departamento    Uruguay     Average -34.908546 -56.187075   \n",
       "427260  11.767568  Departamento    Uruguay        High -34.907481 -56.187290   \n",
       "427261  12.254863          Otro    Uruguay         Low -34.908144 -56.197043   \n",
       "427262  11.918391  Departamento    Uruguay     Average -34.879144 -56.178020   \n",
       "427263  11.497812  Departamento    Uruguay     Average -34.908537 -56.163676   \n",
       "\n",
       "        surface_ratio  \n",
       "2            1.000000  \n",
       "4            0.816327  \n",
       "5            1.000000  \n",
       "6            0.906736  \n",
       "7            1.000000  \n",
       "...               ...  \n",
       "427259       0.500000  \n",
       "427260       0.984127  \n",
       "427261       0.501961  \n",
       "427262       1.000000  \n",
       "427263       0.833333  \n",
       "\n",
       "[378101 rows x 13 columns]"
      ]
     },
     "execution_count": 34,
     "metadata": {},
     "output_type": "execute_result"
    }
   ],
   "source": [
    "# Create a temporary dataframe for data exploration\n",
    "# Create a surface_covered/surface_total ratio variable\n",
    "df_tmp = df.copy()\n",
    "df_tmp['surface_ratio'] = df_tmp['surface_covered'] / df_tmp['surface_total']\n",
    "\n",
    "df_tmp = df_tmp[['rooms', 'bedrooms', 'bathrooms', 'surface_total', 'surface_covered', 'price', 'log_price', 'property_type','l1', 'price_class', 'lat', 'lon', 'surface_ratio']]\n",
    "df_tmp = df_tmp.dropna()\n",
    "df_tmp"
   ]
  },
  {
   "cell_type": "code",
   "execution_count": null,
   "metadata": {},
   "outputs": [],
   "source": [
    "# Explore price, log_price, and property type\n",
    "fig = px.scatter_3d(df_tmp, x = 'price', y = 'log_price', z = 'property_type', color = 'price_class', \n",
    "                    title = 'Country Clustering by Latitude and Longitude')\n",
    "fig.update_layout(margin=dict(l=0, r=0, b=0, t=0))\n",
    "\n",
    "fig.show()"
   ]
  },
  {
   "cell_type": "code",
   "execution_count": null,
   "metadata": {},
   "outputs": [],
   "source": [
    "# Explore log_price, rooms, and property type\n",
    "fig = px.scatter_3d(df_tmp, x = 'rooms', y = 'log_price', z = 'property_type', color = 'price_class', \n",
    "                    title = 'Country Clustering by Latitude and Longitude')\n",
    "fig.update_layout(margin=dict(l=0, r=0, b=0, t=0))\n",
    "\n",
    "fig.show()"
   ]
  },
  {
   "cell_type": "code",
   "execution_count": null,
   "metadata": {},
   "outputs": [],
   "source": []
  },
  {
   "cell_type": "code",
   "execution_count": null,
   "metadata": {},
   "outputs": [],
   "source": []
  },
  {
   "cell_type": "code",
   "execution_count": null,
   "metadata": {},
   "outputs": [],
   "source": []
  },
  {
   "cell_type": "code",
   "execution_count": null,
   "metadata": {},
   "outputs": [],
   "source": []
  },
  {
   "cell_type": "code",
   "execution_count": null,
   "metadata": {},
   "outputs": [],
   "source": []
  },
  {
   "cell_type": "code",
   "execution_count": null,
   "metadata": {},
   "outputs": [],
   "source": []
  },
  {
   "cell_type": "code",
   "execution_count": null,
   "metadata": {},
   "outputs": [],
   "source": []
  },
  {
   "cell_type": "code",
   "execution_count": null,
   "metadata": {},
   "outputs": [],
   "source": []
  },
  {
   "cell_type": "code",
   "execution_count": null,
   "metadata": {},
   "outputs": [],
   "source": []
  },
  {
   "cell_type": "code",
   "execution_count": 25,
   "metadata": {},
   "outputs": [
    {
     "name": "stderr",
     "output_type": "stream",
     "text": [
      "No handles with labels found to put in legend.\n"
     ]
    },
    {
     "data": {
      "image/png": "[encoded data removed]",
      "text/plain": [
       "<Figure size 1080x360 with 1 Axes>"
      ]
     },
     "metadata": {
      "needs_background": "light"
     },
     "output_type": "display_data"
    }
   ],
   "source": [
    "#Plot the dataset: price vs. property_type\n",
    "import seaborn as sns\n",
    "plt.figure(figsize=(15,5))\n",
    "plt.legend(bbox_to_anchor=(1.01, 1),borderaxespad=0)\n",
    "plt.title(\"Price by Property Type\")\n",
    "plt.tight_layout()\n",
    "plt.savefig(\"Price_by_PropertyType_Feature.png\",\n",
    "                    format='png',dpi=150)\n",
    "sns.scatterplot('property_type', 'price', data=df, hue='property_type')\n",
    "plt.show()"
   ]
  },
  {
   "cell_type": "code",
   "execution_count": 31,
   "metadata": {},
   "outputs": [
    {
     "name": "stderr",
     "output_type": "stream",
     "text": [
      "No handles with labels found to put in legend.\n"
     ]
    },
    {
     "data": {
      "image/png": "[encoded data removed]",
      "text/plain": [
       "<Figure size 1080x360 with 1 Axes>"
      ]
     },
     "metadata": {
      "needs_background": "light"
     },
     "output_type": "display_data"
    }
   ],
   "source": [
    "#Plot the Dataset on Property Type\n",
    "import seaborn as sns\n",
    "plt.figure(figsize=(15,5))\n",
    "plt.legend(bbox_to_anchor=(1.01, 1.15),borderaxespad=0)\n",
    "plt.title(\"Price by Country\")\n",
    "plt.tight_layout()\n",
    "plt.savefig(\"Price_by_Country_by_PropertyType_Feature.png\",\n",
    "                    format='png',dpi=150)\n",
    "sns.scatterplot('l1', 'price', data=df, hue='property_type')\n",
    "plt.show()"
   ]
  },
  {
   "cell_type": "markdown",
   "metadata": {},
   "source": [
    "Create a transformed dataset with numeric variables square-root transformed to better meet model assumptions of feature distributions. This reduces the number and magnitude of outliers. In addition to this, both datasets will have the property_type, country, province, and department dummified, and all other attributes will be scaled. Both the transformed and non-transformed datasets will be used to create competing models."
   ]
  },
  {
   "cell_type": "code",
   "execution_count": 6,
   "metadata": {},
   "outputs": [],
   "source": [
    "# Get dummy variables for non-transformed dataset\n",
    "data = pd.get_dummies(df_num, columns = ['l1', 'property_type'], \n",
    "                      prefix = {'l1':'Country', 'property_type': 'Property_type'}, \n",
    "                      sparse = True, drop_first = False)\n",
    "\n",
    "# Drop reference levels for each dummified feature and unimportant or currently unusable features. \n",
    "data = data.drop(columns = ['Country_Argentina', 'Property_type_Casa'])\n",
    "data = data.drop(columns = ['id', 'start_date', 'end_date', 'created_on', 'lat', 'lon', 'title', 'description', 'price'])"
   ]
  },
  {
   "cell_type": "markdown",
   "metadata": {},
   "source": [
    "# <font color = 'blue'>III. MODELING AND EVALUATION: CLUSTER ANALYSIS - Train and Adjust Parameters\n",
    "\n",
    "\n"
   ]
  },
  {
   "cell_type": "markdown",
   "metadata": {},
   "source": [
    "# <font color = 'blue'>III. MODELING AND EVALUATION: CLUSTER ANALYSIS - Evaluate and Compare\n",
    "\n"
   ]
  },
  {
   "cell_type": "markdown",
   "metadata": {},
   "source": [
    "# <font color = 'blue'>III. MODELING AND EVALUATION: CLUSTER ANALYSIS - Visualize Results\n",
    "\n"
   ]
  },
  {
   "cell_type": "markdown",
   "metadata": {},
   "source": [
    "# <font color = 'blue'>III. MODELING AND EVALUATION: Summarize the Rammications from Cluster Analysis"
   ]
  },
  {
   "cell_type": "markdown",
   "metadata": {},
   "source": [
    "# <font color = 'blue'>IV. Deployment\n",
    "<font color = 'blue'>Our model can be used by potential investors wanting to do due diligence on properties for sale in South America.  In order to stay relevant, the model will need to be updated on a quarterly basis to reflect market fluctuations.  In addition, there is a high degree of data wrangling and preprocessing needed in terms of combining data sets from different countries and quality checks for missing or invalid data values.  Given this detailed maintenance and since regular updates are needed, a user subscription based deployment would be ideal to keep our model accurate and end-user friendly."
   ]
  },
  {
   "cell_type": "markdown",
   "metadata": {},
   "source": [
    "# <font color = 'blue'>V.  Exceptional Work\n",
    "\n",
    "\n"
   ]
  },
  {
   "cell_type": "code",
   "execution_count": null,
   "metadata": {},
   "outputs": [],
   "source": []
  }
 ],
 "metadata": {
  "kernelspec": {
   "display_name": "Python 3",
   "language": "python",
   "name": "python3"
  },
  "language_info": {
   "codemirror_mode": {
    "name": "ipython",
    "version": 3
   },
   "file_extension": ".py",
   "mimetype": "text/x-python",
   "name": "python",
   "nbconvert_exporter": "python",
   "pygments_lexer": "ipython3",
   "version": "3.7.1"
  }
 },
 "nbformat": 4,
 "nbformat_minor": 4
}
