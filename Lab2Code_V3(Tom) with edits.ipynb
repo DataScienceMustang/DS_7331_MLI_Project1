{
 "cells": [
  {
   "cell_type": "raw",
   "metadata": {},
   "source": [
    "# Lab 2 Classification <br>\n",
    "Group Members: Thomas Pengilly, Quynh Chau, Anish Patel, Michael Weatherford <br>\n",
    "Date: 10/11/2020"
   ]
  },
  {
   "cell_type": "markdown",
   "metadata": {},
   "source": [
    "# <font color = 'blue'> I.Data Preparation Part 1\n",
    "<font color = 'blue'>The classification variable,\"price_class\", is a stratified log price of \"Low\", \"Average\", and \"High\", with threshold prices being defined based on property-type. The data will be scaled so that feature importance may be determined using class weights, and dimensionality reduction will be explored (PCA). In addition to this, several variables that are not thought to be important will be removed from the dataset.   In order to determine the most appropriate features to use, multiple datasets were explored in the modeling process. These include: the full dataset with numeric variables square-root transformed,  geographical location and property type attributes one-hot encoded, and a set of interaction terms between property type and log price; a reduced dataset with the same transformations and interations, but excluding the L3 department (county) attributes to improve computation time, and a third dataset using only the numeric variables."
   ]
  },
  {
   "cell_type": "code",
   "execution_count": 17,
   "metadata": {},
   "outputs": [],
   "source": [
    "# Import libraries\n",
    "import numpy as np\n",
    "import pandas as pd\n",
    "from pandas import set_option\n",
    "set_option('display.max_columns',400)\n",
    "import matplotlib.pyplot as plt\n",
    "from sklearn.preprocessing import OneHotEncoder\n",
    "import scipy\n",
    "\n",
    "\n",
    "from sklearn.preprocessing import MinMaxScaler \n",
    "from sklearn.preprocessing import StandardScaler\n",
    "#from sklearn.preprocessing import normalize\n",
    "from sklearn.model_selection import StratifiedKFold\n",
    "from sklearn.model_selection import train_test_split\n",
    "from sklearn.model_selection import GridSearchCV\n",
    "from sklearn.neighbors import KNeighborsClassifier\n",
    "from sklearn import metrics as mt\n",
    "from sklearn.decomposition import PCA\n",
    "from sklearn.pipeline import Pipeline\n",
    "from sklearn.ensemble import RandomForestClassifier\n",
    "from sklearn.ensemble import ExtraTreesClassifier"
   ]
  },
  {
   "cell_type": "code",
   "execution_count": 2,
   "metadata": {},
   "outputs": [],
   "source": [
    "# Read in the imputed dataset\n",
    "\n",
    "# Tom\n",
    "df = pd.read_csv('C:\\\\Users\\\\Tpeng\\\\OneDrive\\\\Documents\\\\SMU\\\\Term 3\\\\Machine Learning\\\\Lab1\\\\Imputed_Dataset.csv', sep = ',', header = 0)\n",
    "\n",
    "#Quynh\n",
    "#df = pd.read_csv('Imputed_Dataset.csv', sep = ',', header = 0)\n",
    "\n",
    "# Anish\n",
    "#df = pd.read_csv('filepath, sep = ',', header = 0)\n",
    "\n",
    "# Michael\n",
    "#df = pd.read_csv('filepath', sep = ',', header = 0)\n",
    "\n",
    "# Drop index column\n",
    "df = df.drop(columns = 'Unnamed: 0')"
   ]
  },
  {
   "cell_type": "code",
   "execution_count": 3,
   "metadata": {},
   "outputs": [],
   "source": [
    "# Reformat attributes, excluding categoricals, which aren't supported for the the dummy variable generation method used.\n",
    "ordinal_vars = ['rooms', 'bedrooms', 'bathrooms' ]\n",
    "continuous_vars = ['lat', 'lon', 'surface_total', 'surface_covered', 'price', 'log_price']\n",
    "string_vars = ['id', 'title', 'description']\n",
    "time_vars = ['start_date', 'end_date', 'created_on']\n",
    "\n",
    "# Change data types\n",
    "df[ordinal_vars] = df[ordinal_vars].astype('uint8')\n",
    "df[continuous_vars] = df[continuous_vars].astype(np.float64)\n",
    "df[string_vars] = df[string_vars].astype(str)\n",
    "\n",
    "# Remove observations missing l3 and price before encoding \n",
    "df2 = df.dropna(axis = 0, subset = ['price', 'l3'])\n",
    "\n",
    "# Create dataset using numeric attributes only, make classification variable ordinal\n",
    "df_num = df.copy()\n",
    "df_num.loc[(df_num['price_class'] == 'Low'), 'price_class_final'] = 0\n",
    "df_num.loc[(df_num['price_class'] == 'Average'), 'price_class_final'] = 1\n",
    "df_num.loc[(df_num['price_class'] == 'High'), 'price_class_final'] = 2\n",
    "\n",
    "df_num = df_num[['rooms', 'bedrooms', 'bathrooms', 'surface_total', 'surface_covered', 'price', 'log_price', 'price_class_final']]\n",
    "df_num = df_num.dropna()\n"
   ]
  },
  {
   "cell_type": "markdown",
   "metadata": {},
   "source": [
    "Create a transformed dataset with numeric variables square-root transformed to better meet model assumptions of feature distributions. This reduces the number and magnitude of outliers. In addition to this, both datasets will have the property_type, country, province, and department dummified, and all other attributes will be scaled. Both the transformed and non-transformed datasets will be used to create competing models."
   ]
  },
  {
   "cell_type": "code",
   "execution_count": 4,
   "metadata": {},
   "outputs": [],
   "source": [
    "# Create datasets with transformed variables for model selection methods\n",
    "# Transform rooms, bedrooms, bathrooms, surface_total, and surface_covered using square root\n",
    "df_transform = df2.copy()\n",
    "df_transform['sqrt_surface_total'] = df_transform.surface_total.transform(func = 'sqrt')\n",
    "df_transform['sqrt_surface_covered'] = df_transform.surface_covered.transform(func = 'sqrt')\n",
    "df_transform['sqrt_bedrooms'] = df_transform.bedrooms.transform(func = 'sqrt')\n",
    "df_transform['sqrt_bathrooms'] = df_transform.bathrooms.transform(func = 'sqrt')\n",
    "df_transform['sqrt_rooms'] = df_transform.rooms.transform(func = 'sqrt')\n",
    "\n",
    "df_transform = df_transform.drop(columns = ['surface_total', 'surface_covered', 'bedrooms', 'bathrooms', 'rooms'])"
   ]
  },
  {
   "cell_type": "code",
   "execution_count": 6,
   "metadata": {},
   "outputs": [],
   "source": [
    "# Get dummy variables for non-transformed dataset\n",
    "data = pd.get_dummies(df2, columns = ['l1', 'l2', 'l3', 'property_type'], \n",
    "                      prefix = {'l1':'Country', 'l2':'Province', 'l3': 'Department', 'property_type': 'Property_type'}, \n",
    "                      sparse = True, drop_first = False)\n",
    "\n",
    "# Drop reference levels for each dummified feature and unimportant or currently unusable features. \n",
    "data = data.drop(columns = ['Country_Argentina', 'Province_Misiones', 'Department_Posadas', 'Property_type_Casa'])\n",
    "data = data.drop(columns = ['id', 'start_date', 'end_date', 'created_on', 'lat', 'lon', 'title', 'description', 'price'])\n",
    "\n",
    "# Get dummy variables for transformed dataset\n",
    "trans = pd.get_dummies(df_transform, columns = ['l1', 'l2', 'l3', 'property_type'], \n",
    "                          prefix = {'l1':'Country', 'l2':'Province', 'l3': 'Department', 'property_type': 'Property_type'}, \n",
    "                          sparse = True, drop_first = False)\n",
    "\n",
    "# Drop reference levels for each dummified feature (same references as non-transformed data) and unimportant or currently unusable features. \n",
    "trans = trans.drop(columns = ['Country_Argentina', 'Province_Misiones', 'Department_Posadas', 'Property_type_Casa'])\n",
    "trans = trans.drop(columns = ['id', 'start_date', 'end_date', 'created_on', 'lat', 'lon', 'title', 'description', 'price'])"
   ]
  },
  {
   "cell_type": "markdown",
   "metadata": {},
   "source": [
    "# <font color ='blue'>II.Data Preparation Part 2\n",
    "<font color = 'blue'> The final data set has 441,216 rows with 1,214 features considered relevant to the classification of price categories: Low, Average, High and also to price predictions. Numerical features include:  \n",
    "\n",
    "<font color = 'blue'>price   \n",
    "\n",
    "<font color = 'blue'>surface_total  \n",
    "\n",
    "<font color = 'blue'>surface_covered\n",
    "\n",
    "<font color = 'blue'>bedrooms        \n",
    "\n",
    "<font color = 'blue'>bathrooms       \n",
    "\n",
    "<font color = 'blue'>In addition dummy variables for country types, region types and property types were created for purposes of building our models.  \n",
    "\n",
    "</font> <font color = 'blue'>Models were trained using each dataset described above, and the results of this analysis indicated that the numeric dataset performed far better than the other two datasets (accuracy of ~92% vs ~60%).  The final dataset used was the numeric feature dataset. For classification tasks, the target variable will be price classification and the data are rooms counts, property areas, price, and log price.  For regression tasks the target will be log price and the data are room counts and property areas.\n"
   ]
  },
  {
   "cell_type": "raw",
   "metadata": {},
   "source": [
    "trans.head(5)"
   ]
  },
  {
   "cell_type": "code",
   "execution_count": 23,
   "metadata": {},
   "outputs": [
    {
     "data": {
      "text/plain": [
       "(441216, 1214)"
      ]
     },
     "execution_count": 23,
     "metadata": {},
     "output_type": "execute_result"
    }
   ],
   "source": [
    "X=trans.drop(['price_class'], axis =1)\n",
    "X=np.asarray(X)\n",
    "y=np.asarray(trans['price_class'])\n",
    "X.shape"
   ]
  },
  {
   "cell_type": "markdown",
   "metadata": {},
   "source": [
    "# <font color = 'blue'>III. Modeling and Evaluation 1: Evaluation Metrics\n",
    "<font color = 'blue'>Evaluation metrics used to evaluate our models include F1 scores, accuracy, and precision for classification tasks, and MSE for regression tasks.  Since our dataset is to be used by investors to make decisions on how good a property is for investment from a price point perspective, it is important to be accurate.  It is also important for the model to have a high precision, which indicates how trustworthy the models predictions are.  Since customers are using the models to determine whether an individual property is under/over priced, it is more important that the model's prediction for an individual property is correct (precision) than the model correctly identifying the majority of a given price classification (recall).  For the classification tasks, F1 scores will be our first metric because it blends both accuracy and precision measures. Among those with the top F1 scores, we looked at accuracy as our next measure of importance because we have a balanced dataset.  For the price prediction tasks, MSE will be used to evaluate models.\n",
    "\n",
    "# <font color = 'blue'>IV. Modeling and Evaluation 2: Train-Test Split Data\n",
    "<font color = 'blue'>Stratified 5-fold cross validation was used to split the data into 80-20 train-test split before normalization to prevent the test set data from influencing the training data scale.  In addition, this cross validation will adjust for any imbalance features in the data set including the overrepresentations or underrepresentations of properties by country, and regional differences like province, department.  "
   ]
  },
  {
   "cell_type": "markdown",
   "metadata": {},
   "source": [
    "from sklearn.model_selection import train_test_split\n",
    "X_train, X_test, y_train, y_test = train_test_split(X,y, test_size = 0.20, random_state = 6)"
   ]
  },
  {
   "cell_type": "code",
   "execution_count": 51,
   "metadata": {},
   "outputs": [
    {
     "name": "stderr",
     "output_type": "stream",
     "text": [
      "C:\\Users\\Tpeng\\AppData\\Roaming\\Python\\Python37\\site-packages\\sklearn\\model_selection\\_split.py:297: FutureWarning: Setting a random_state has no effect since shuffle is False. This will raise an error in 0.24. You should leave random_state to its default (None), or set shuffle=True.\n",
      "  FutureWarning\n"
     ]
    }
   ],
   "source": [
    "from sklearn.model_selection import StratifiedKFold\n",
    "cv_obj = StratifiedKFold(n_splits = 5, random_state = 6)"
   ]
  },
  {
   "cell_type": "markdown",
   "metadata": {},
   "source": [
    "## IV.Modeling and Evaluation 3\n",
    "Two tasks were carried out using the transformed data set containing numerical features:\n",
    "1. Classification of Properties into price categories : Low, Average, High  using 3 models- KNN, Randomforest Classifier, and ExtraTrees Classifier\n",
    "2. Prediction of Property Prices: price prediction using KNN regression, Randomforest regression and XXXXXX\n",
    "\n",
    "Model selection and hyperparameter tuning were done using a combination of AutoML (TPOT) and grid searches.  TPOT was run to find the best models and parameters, which were then selected based on accuracy and F1 scores, or MSE. The tuning of selected models' hyperparameters were carried out using GridSearchCV to find the optimal parameters for both classification and prediction tasks. "
   ]
  },
  {
   "cell_type": "code",
   "execution_count": 33,
   "metadata": {},
   "outputs": [],
   "source": [
    "# Run TPOT Code for model selection\n",
    "from tpot import TPOTClassifier\n",
    "#from tpot import TPOTRegression\n",
    "\n",
    "# Split data into features and target\n",
    "X = df_num.drop('price_class_final', axis = 1).values\n",
    "y = df_num.price_class_final.values\n",
    "\n",
    "# Normalize features\n",
    "X = preprocessing.normalize(X, norm = 'max', axis = 0, copy = False)\n",
    "\n",
    "# Split the data using 80-20 split for initial TPOT model/grid search\n",
    "X_train, X_test, y_train, y_test = train_test_split(X.astype(np.float64),\n",
    "    y.astype(np.float64), train_size=0.8, test_size=0.2, random_state=6)"
   ]
  },
  {
   "cell_type": "code",
   "execution_count": 35,
   "metadata": {},
   "outputs": [
    {
     "data": {
      "text/plain": [
       "array([1.00000000e-01, 2.70270270e-02, 1.00000000e-01, 3.96000000e-04,\n",
       "       1.64703945e-06, 8.04186068e-03, 7.27263667e-01])"
      ]
     },
     "execution_count": 35,
     "metadata": {},
     "output_type": "execute_result"
    }
   ],
   "source": [
    "X[0]"
   ]
  },
  {
   "cell_type": "code",
   "execution_count": 6,
   "metadata": {},
   "outputs": [
    {
     "name": "stdout",
     "output_type": "stream",
     "text": [
      "Warning: xgboost.XGBClassifier is not available and will not be used by TPOT.\n",
      "Best pipeline: RandomForestClassifier(input_matrix, bootstrap=True, criterion=entropy, max_features=0.15000000000000002, min_samples_leaf=12, min_samples_split=3, n_estimators=100)\n",
      "0.9293654644455227\n"
     ]
    }
   ],
   "source": [
    "# Run TPOT Classifier\n",
    "tpot = TPOTClassifier(generations = 2, population_size = 20, verbosity = 1, n_jobs = -1, random_state = 6)\n",
    "tpot.fit(X_train, y_train)\n",
    "print(tpot.score(X_test, y_test))\n",
    "tpot.export('tpot_pipeline.py')"
   ]
  },
  {
   "cell_type": "code",
   "execution_count": 8,
   "metadata": {},
   "outputs": [
    {
     "name": "stdout",
     "output_type": "stream",
     "text": [
      "32 operators have been imported by TPOT.\n"
     ]
    },
    {
     "data": {
      "application/vnd.jupyter.widget-view+json": {
       "model_id": "",
       "version_major": 2,
       "version_minor": 0
      },
      "text/plain": [
       "HBox(children=(HTML(value='Optimization Progress'), FloatProgress(value=0.0, max=60.0), HTML(value='')))"
      ]
     },
     "metadata": {},
     "output_type": "display_data"
    },
    {
     "name": "stdout",
     "output_type": "stream",
     "text": [
      "Skipped pipeline #3 due to time out. Continuing to the next pipeline.\n",
      "Skipped pipeline #5 due to time out. Continuing to the next pipeline.\n",
      "Skipped pipeline #7 due to time out. Continuing to the next pipeline.\n",
      "Skipped pipeline #14 due to time out. Continuing to the next pipeline.\n",
      "Skipped pipeline #17 due to time out. Continuing to the next pipeline.\n",
      "Skipped pipeline #22 due to time out. Continuing to the next pipeline.\n",
      "Skipped pipeline #26 due to time out. Continuing to the next pipeline.\n",
      "Skipped pipeline #29 due to time out. Continuing to the next pipeline.\n",
      "Skipped pipeline #31 due to time out. Continuing to the next pipeline.\n",
      "Skipped pipeline #33 due to time out. Continuing to the next pipeline.\n",
      "Skipped pipeline #35 due to time out. Continuing to the next pipeline.\n",
      "Skipped pipeline #39 due to time out. Continuing to the next pipeline.\n",
      "Skipped pipeline #41 due to time out. Continuing to the next pipeline.\n",
      "Skipped pipeline #45 due to time out. Continuing to the next pipeline.\n",
      "Skipped pipeline #47 due to time out. Continuing to the next pipeline.\n",
      "Skipped pipeline #52 due to time out. Continuing to the next pipeline.\n",
      "Skipped pipeline #54 due to time out. Continuing to the next pipeline.\n",
      "Skipped pipeline #57 due to time out. Continuing to the next pipeline.\n",
      "\n",
      "Generation 1 - Current Pareto front scores:\n",
      "Skipped pipeline #61 due to time out. Continuing to the next pipeline.ssifier__bootstrap=True, ExtraTreesClassifier__criterion=gini, ExtraTreesClassifier__max_features=0.8500000000000001, ExtraTreesClassifier__min_samples_leaf=17, ExtraTreesClassifier__min_samples_split=19, ExtraTreesClassifier__n_estimators=100)\n",
      "Skipped pipeline #66 due to time out. Continuing to the next pipeline.\n",
      "Skipped pipeline #70 due to time out. Continuing to the next pipeline.\n",
      "\n",
      "Generation 2 - Current Pareto front scores:\n",
      "-1\t0.9280577269107454\tXGBClassifier(input_matrix, XGBClassifier__learning_rate=0.1, XGBClassifier__max_depth=5, XGBClassifier__min_child_weight=17, XGBClassifier__n_estimators=100, XGBClassifier__nthread=1, XGBClassifier__subsample=0.5)0.9264326917893148\n"
     ]
    }
   ],
   "source": [
    "# Run TPOT Classifier\n",
    "tpot = TPOTClassifier(generations = 2, population_size = 20, verbosity = 3, n_jobs = -1, random_state = 6)\n",
    "tpot.fit(X_train, y_train)\n",
    "print(tpot.score(X_test, y_test))\n",
    "tpot.export('tpot_pipeline2.py')\n"
   ]
  },
  {
   "cell_type": "code",
   "execution_count": 12,
   "metadata": {},
   "outputs": [
    {
     "data": {
      "text/plain": [
       "{'MLPClassifier(input_matrix, MLPClassifier__alpha=0.1, MLPClassifier__learning_rate_init=1.0)': {'generation': 0,\n",
       "  'mutation_count': 0,\n",
       "  'crossover_count': 0,\n",
       "  'predecessor': ('ROOT',),\n",
       "  'operator_count': 1,\n",
       "  'internal_cv_score': 0.3336370846209284},\n",
       " 'ExtraTreesClassifier(input_matrix, ExtraTreesClassifier__bootstrap=False, ExtraTreesClassifier__criterion=entropy, ExtraTreesClassifier__max_features=0.1, ExtraTreesClassifier__min_samples_leaf=3, ExtraTreesClassifier__min_samples_split=10, ExtraTreesClassifier__n_estimators=100)': {'generation': 0,\n",
       "  'mutation_count': 0,\n",
       "  'crossover_count': 0,\n",
       "  'predecessor': ('ROOT',),\n",
       "  'operator_count': 1,\n",
       "  'internal_cv_score': 0.5679232252692458},\n",
       " 'MLPClassifier(RobustScaler(input_matrix), MLPClassifier__alpha=0.01, MLPClassifier__learning_rate_init=0.001)': {'generation': 0,\n",
       "  'mutation_count': 0,\n",
       "  'crossover_count': 0,\n",
       "  'predecessor': ('ROOT',),\n",
       "  'operator_count': 2,\n",
       "  'internal_cv_score': -inf},\n",
       " 'LinearSVC(MultinomialNB(input_matrix, MultinomialNB__alpha=1.0, MultinomialNB__fit_prior=True), LinearSVC__C=25.0, LinearSVC__dual=True, LinearSVC__loss=squared_hinge, LinearSVC__penalty=l2, LinearSVC__tol=0.001)': {'generation': 0,\n",
       "  'mutation_count': 0,\n",
       "  'crossover_count': 0,\n",
       "  'predecessor': ('ROOT',),\n",
       "  'operator_count': 2,\n",
       "  'internal_cv_score': -inf},\n",
       " 'GradientBoostingClassifier(BernoulliNB(input_matrix, BernoulliNB__alpha=0.001, BernoulliNB__fit_prior=True), GradientBoostingClassifier__learning_rate=0.001, GradientBoostingClassifier__max_depth=4, GradientBoostingClassifier__max_features=0.25, GradientBoostingClassifier__min_samples_leaf=3, GradientBoostingClassifier__min_samples_split=6, GradientBoostingClassifier__n_estimators=100, GradientBoostingClassifier__subsample=0.7000000000000001)': {'generation': 0,\n",
       "  'mutation_count': 0,\n",
       "  'crossover_count': 0,\n",
       "  'predecessor': ('ROOT',),\n",
       "  'operator_count': 2,\n",
       "  'internal_cv_score': -inf},\n",
       " 'GaussianNB(GaussianNB(input_matrix))': {'generation': 0,\n",
       "  'mutation_count': 0,\n",
       "  'crossover_count': 0,\n",
       "  'predecessor': ('ROOT',),\n",
       "  'operator_count': 2,\n",
       "  'internal_cv_score': 0.7224876479031533},\n",
       " 'GaussianNB(LinearSVC(input_matrix, LinearSVC__C=25.0, LinearSVC__dual=True, LinearSVC__loss=hinge, LinearSVC__penalty=l2, LinearSVC__tol=0.01))': {'generation': 0,\n",
       "  'mutation_count': 0,\n",
       "  'crossover_count': 0,\n",
       "  'predecessor': ('ROOT',),\n",
       "  'operator_count': 2,\n",
       "  'internal_cv_score': 0.7392110193791315},\n",
       " 'GaussianNB(input_matrix)': {'generation': 0,\n",
       "  'mutation_count': 0,\n",
       "  'crossover_count': 0,\n",
       "  'predecessor': ('ROOT',),\n",
       "  'operator_count': 1,\n",
       "  'internal_cv_score': 0.6045668263880903},\n",
       " 'BernoulliNB(MLPClassifier(input_matrix, MLPClassifier__alpha=0.0001, MLPClassifier__learning_rate_init=0.5), BernoulliNB__alpha=10.0, BernoulliNB__fit_prior=True)': {'generation': 0,\n",
       "  'mutation_count': 0,\n",
       "  'crossover_count': 0,\n",
       "  'predecessor': ('ROOT',),\n",
       "  'operator_count': 2,\n",
       "  'internal_cv_score': 0.46897053082676593},\n",
       " 'SGDClassifier(input_matrix, SGDClassifier__alpha=0.0, SGDClassifier__eta0=0.01, SGDClassifier__fit_intercept=True, SGDClassifier__l1_ratio=0.25, SGDClassifier__learning_rate=constant, SGDClassifier__loss=modified_huber, SGDClassifier__penalty=elasticnet, SGDClassifier__power_t=0.0)': {'generation': 0,\n",
       "  'mutation_count': 0,\n",
       "  'crossover_count': 0,\n",
       "  'predecessor': ('ROOT',),\n",
       "  'operator_count': 1,\n",
       "  'internal_cv_score': 0.7248678303412037},\n",
       " 'MLPClassifier(CombineDFs(input_matrix, input_matrix), MLPClassifier__alpha=0.0001, MLPClassifier__learning_rate_init=0.001)': {'generation': 0,\n",
       "  'mutation_count': 0,\n",
       "  'crossover_count': 0,\n",
       "  'predecessor': ('ROOT',),\n",
       "  'operator_count': 1,\n",
       "  'internal_cv_score': -inf},\n",
       " 'ExtraTreesClassifier(input_matrix, ExtraTreesClassifier__bootstrap=True, ExtraTreesClassifier__criterion=gini, ExtraTreesClassifier__max_features=0.8500000000000001, ExtraTreesClassifier__min_samples_leaf=17, ExtraTreesClassifier__min_samples_split=19, ExtraTreesClassifier__n_estimators=100)': {'generation': 0,\n",
       "  'mutation_count': 0,\n",
       "  'crossover_count': 0,\n",
       "  'predecessor': ('ROOT',),\n",
       "  'operator_count': 1,\n",
       "  'internal_cv_score': 0.9153184299992707},\n",
       " 'GradientBoostingClassifier(input_matrix, GradientBoostingClassifier__learning_rate=0.01, GradientBoostingClassifier__max_depth=3, GradientBoostingClassifier__max_features=0.4, GradientBoostingClassifier__min_samples_leaf=19, GradientBoostingClassifier__min_samples_split=13, GradientBoostingClassifier__n_estimators=100, GradientBoostingClassifier__subsample=0.9000000000000001)': {'generation': 0,\n",
       "  'mutation_count': 0,\n",
       "  'crossover_count': 0,\n",
       "  'predecessor': ('ROOT',),\n",
       "  'operator_count': 1,\n",
       "  'internal_cv_score': -inf},\n",
       " 'LinearSVC(input_matrix, LinearSVC__C=25.0, LinearSVC__dual=True, LinearSVC__loss=hinge, LinearSVC__penalty=l2, LinearSVC__tol=1e-05)': {'generation': 0,\n",
       "  'mutation_count': 0,\n",
       "  'crossover_count': 0,\n",
       "  'predecessor': ('ROOT',),\n",
       "  'operator_count': 1,\n",
       "  'internal_cv_score': 0.6742556120655591},\n",
       " 'BernoulliNB(input_matrix, BernoulliNB__alpha=0.01, BernoulliNB__fit_prior=False)': {'generation': 0,\n",
       "  'mutation_count': 0,\n",
       "  'crossover_count': 0,\n",
       "  'predecessor': ('ROOT',),\n",
       "  'operator_count': 1,\n",
       "  'internal_cv_score': 0.3437697113755826},\n",
       " 'MLPClassifier(input_matrix, MLPClassifier__alpha=0.1, MLPClassifier__learning_rate_init=0.5)': {'generation': 0,\n",
       "  'mutation_count': 0,\n",
       "  'crossover_count': 0,\n",
       "  'predecessor': ('ROOT',),\n",
       "  'operator_count': 1,\n",
       "  'internal_cv_score': 0.3384163180027818},\n",
       " 'GradientBoostingClassifier(input_matrix, GradientBoostingClassifier__learning_rate=0.5, GradientBoostingClassifier__max_depth=3, GradientBoostingClassifier__max_features=0.8500000000000001, GradientBoostingClassifier__min_samples_leaf=20, GradientBoostingClassifier__min_samples_split=18, GradientBoostingClassifier__n_estimators=100, GradientBoostingClassifier__subsample=0.8500000000000001)': {'generation': 0,\n",
       "  'mutation_count': 0,\n",
       "  'crossover_count': 0,\n",
       "  'predecessor': ('ROOT',),\n",
       "  'operator_count': 1,\n",
       "  'internal_cv_score': -inf},\n",
       " 'MultinomialNB(input_matrix, MultinomialNB__alpha=0.001, MultinomialNB__fit_prior=False)': {'generation': 0,\n",
       "  'mutation_count': 0,\n",
       "  'crossover_count': 0,\n",
       "  'predecessor': ('ROOT',),\n",
       "  'operator_count': 1,\n",
       "  'internal_cv_score': 0.5286755532074239},\n",
       " 'XGBClassifier(input_matrix, XGBClassifier__learning_rate=0.001, XGBClassifier__max_depth=1, XGBClassifier__min_child_weight=15, XGBClassifier__n_estimators=100, XGBClassifier__nthread=1, XGBClassifier__subsample=0.6500000000000001)': {'generation': 0,\n",
       "  'mutation_count': 0,\n",
       "  'crossover_count': 0,\n",
       "  'predecessor': ('ROOT',),\n",
       "  'operator_count': 1,\n",
       "  'internal_cv_score': 0.8390281877208092},\n",
       " 'RandomForestClassifier(KNeighborsClassifier(input_matrix, KNeighborsClassifier__n_neighbors=24, KNeighborsClassifier__p=1, KNeighborsClassifier__weights=uniform), RandomForestClassifier__bootstrap=True, RandomForestClassifier__criterion=entropy, RandomForestClassifier__max_features=0.55, RandomForestClassifier__min_samples_leaf=2, RandomForestClassifier__min_samples_split=12, RandomForestClassifier__n_estimators=100)': {'generation': 0,\n",
       "  'mutation_count': 0,\n",
       "  'crossover_count': 0,\n",
       "  'predecessor': ('ROOT',),\n",
       "  'operator_count': 2,\n",
       "  'internal_cv_score': -inf},\n",
       " 'GaussianNB(LinearSVC(input_matrix, LinearSVC__C=25.0, LinearSVC__dual=True, LinearSVC__loss=hinge, LinearSVC__penalty=l2, LinearSVC__tol=1e-05))': {'generation': 1,\n",
       "  'mutation_count': 0,\n",
       "  'crossover_count': 1,\n",
       "  'predecessor': ('GaussianNB(LinearSVC(input_matrix, LinearSVC__C=25.0, LinearSVC__dual=True, LinearSVC__loss=hinge, LinearSVC__penalty=l2, LinearSVC__tol=0.01))',\n",
       "   'LinearSVC(input_matrix, LinearSVC__C=25.0, LinearSVC__dual=True, LinearSVC__loss=hinge, LinearSVC__penalty=l2, LinearSVC__tol=1e-05)'),\n",
       "  'operator_count': 2,\n",
       "  'internal_cv_score': 0.7392191054144865},\n",
       " 'KNeighborsClassifier(input_matrix, KNeighborsClassifier__n_neighbors=55, KNeighborsClassifier__p=1, KNeighborsClassifier__weights=distance)': {'generation': 1,\n",
       "  'mutation_count': 1,\n",
       "  'crossover_count': 0,\n",
       "  'predecessor': ('GaussianNB(input_matrix)',),\n",
       "  'operator_count': 1,\n",
       "  'internal_cv_score': -inf},\n",
       " 'ExtraTreesClassifier(XGBClassifier(input_matrix, XGBClassifier__learning_rate=0.001, XGBClassifier__max_depth=1, XGBClassifier__min_child_weight=5, XGBClassifier__n_estimators=100, XGBClassifier__nthread=1, XGBClassifier__subsample=0.55), ExtraTreesClassifier__bootstrap=True, ExtraTreesClassifier__criterion=gini, ExtraTreesClassifier__max_features=0.8500000000000001, ExtraTreesClassifier__min_samples_leaf=17, ExtraTreesClassifier__min_samples_split=19, ExtraTreesClassifier__n_estimators=100)': {'generation': 1,\n",
       "  'mutation_count': 1,\n",
       "  'crossover_count': 0,\n",
       "  'predecessor': ('ExtraTreesClassifier(input_matrix, ExtraTreesClassifier__bootstrap=True, ExtraTreesClassifier__criterion=gini, ExtraTreesClassifier__max_features=0.8500000000000001, ExtraTreesClassifier__min_samples_leaf=17, ExtraTreesClassifier__min_samples_split=19, ExtraTreesClassifier__n_estimators=100)',),\n",
       "  'operator_count': 2,\n",
       "  'internal_cv_score': -inf},\n",
       " 'GaussianNB(LinearSVC(input_matrix, LinearSVC__C=25.0, LinearSVC__dual=True, LinearSVC__loss=squared_hinge, LinearSVC__penalty=l2, LinearSVC__tol=0.01))': {'generation': 1,\n",
       "  'mutation_count': 1,\n",
       "  'crossover_count': 0,\n",
       "  'predecessor': ('GaussianNB(LinearSVC(input_matrix, LinearSVC__C=25.0, LinearSVC__dual=True, LinearSVC__loss=hinge, LinearSVC__penalty=l2, LinearSVC__tol=0.01))',),\n",
       "  'operator_count': 2,\n",
       "  'internal_cv_score': -inf},\n",
       " 'MLPClassifier(input_matrix, MLPClassifier__alpha=0.0001, MLPClassifier__learning_rate_init=0.001)': {'generation': 1,\n",
       "  'mutation_count': 1,\n",
       "  'crossover_count': 0,\n",
       "  'predecessor': ('MLPClassifier(CombineDFs(input_matrix, input_matrix), MLPClassifier__alpha=0.0001, MLPClassifier__learning_rate_init=0.001)',),\n",
       "  'operator_count': 1,\n",
       "  'internal_cv_score': -inf},\n",
       " 'MLPClassifier(CombineDFs(input_matrix, input_matrix), MLPClassifier__alpha=0.001, MLPClassifier__learning_rate_init=1.0)': {'generation': 1,\n",
       "  'mutation_count': 1,\n",
       "  'crossover_count': 0,\n",
       "  'predecessor': ('MLPClassifier(CombineDFs(input_matrix, input_matrix), MLPClassifier__alpha=0.0001, MLPClassifier__learning_rate_init=0.001)',),\n",
       "  'operator_count': 1,\n",
       "  'internal_cv_score': 0.3288604997538026},\n",
       " 'LinearSVC(input_matrix, LinearSVC__C=25.0, LinearSVC__dual=True, LinearSVC__loss=hinge, LinearSVC__penalty=l2, LinearSVC__tol=0.001)': {'generation': 1,\n",
       "  'mutation_count': 0,\n",
       "  'crossover_count': 1,\n",
       "  'predecessor': ('LinearSVC(input_matrix, LinearSVC__C=25.0, LinearSVC__dual=True, LinearSVC__loss=hinge, LinearSVC__penalty=l2, LinearSVC__tol=1e-05)',\n",
       "   'LinearSVC(MultinomialNB(input_matrix, MultinomialNB__alpha=1.0, MultinomialNB__fit_prior=True), LinearSVC__C=25.0, LinearSVC__dual=True, LinearSVC__loss=squared_hinge, LinearSVC__penalty=l2, LinearSVC__tol=0.001)'),\n",
       "  'operator_count': 1,\n",
       "  'internal_cv_score': 0.6743203108843299},\n",
       " 'MLPClassifier(StandardScaler(RobustScaler(input_matrix)), MLPClassifier__alpha=0.01, MLPClassifier__learning_rate_init=0.001)': {'generation': 1,\n",
       "  'mutation_count': 1,\n",
       "  'crossover_count': 0,\n",
       "  'predecessor': ('MLPClassifier(RobustScaler(input_matrix), MLPClassifier__alpha=0.01, MLPClassifier__learning_rate_init=0.001)',),\n",
       "  'operator_count': 3,\n",
       "  'internal_cv_score': -inf},\n",
       " 'MLPClassifier(GaussianNB(RobustScaler(input_matrix)), MLPClassifier__alpha=0.01, MLPClassifier__learning_rate_init=0.001)': {'generation': 1,\n",
       "  'mutation_count': 1,\n",
       "  'crossover_count': 0,\n",
       "  'predecessor': ('MLPClassifier(RobustScaler(input_matrix), MLPClassifier__alpha=0.01, MLPClassifier__learning_rate_init=0.001)',),\n",
       "  'operator_count': 3,\n",
       "  'internal_cv_score': -inf},\n",
       " 'ExtraTreesClassifier(Normalizer(input_matrix, Normalizer__norm=l2), ExtraTreesClassifier__bootstrap=False, ExtraTreesClassifier__criterion=entropy, ExtraTreesClassifier__max_features=0.1, ExtraTreesClassifier__min_samples_leaf=3, ExtraTreesClassifier__min_samples_split=10, ExtraTreesClassifier__n_estimators=100)': {'generation': 1,\n",
       "  'mutation_count': 1,\n",
       "  'crossover_count': 0,\n",
       "  'predecessor': ('ExtraTreesClassifier(input_matrix, ExtraTreesClassifier__bootstrap=False, ExtraTreesClassifier__criterion=entropy, ExtraTreesClassifier__max_features=0.1, ExtraTreesClassifier__min_samples_leaf=3, ExtraTreesClassifier__min_samples_split=10, ExtraTreesClassifier__n_estimators=100)',),\n",
       "  'operator_count': 2,\n",
       "  'internal_cv_score': 0.6298890731913629},\n",
       " 'BernoulliNB(MLPClassifier(input_matrix, MLPClassifier__alpha=0.0001, MLPClassifier__learning_rate_init=0.5), BernoulliNB__alpha=0.1, BernoulliNB__fit_prior=True)': {'generation': 1,\n",
       "  'mutation_count': 1,\n",
       "  'crossover_count': 0,\n",
       "  'predecessor': ('BernoulliNB(MLPClassifier(input_matrix, MLPClassifier__alpha=0.0001, MLPClassifier__learning_rate_init=0.5), BernoulliNB__alpha=10.0, BernoulliNB__fit_prior=True)',),\n",
       "  'operator_count': 2,\n",
       "  'internal_cv_score': 0.46897053082676593},\n",
       " 'GradientBoostingClassifier(RBFSampler(BernoulliNB(input_matrix, BernoulliNB__alpha=0.001, BernoulliNB__fit_prior=True), RBFSampler__gamma=0.15000000000000002), GradientBoostingClassifier__learning_rate=0.001, GradientBoostingClassifier__max_depth=4, GradientBoostingClassifier__max_features=0.25, GradientBoostingClassifier__min_samples_leaf=3, GradientBoostingClassifier__min_samples_split=6, GradientBoostingClassifier__n_estimators=100, GradientBoostingClassifier__subsample=0.7000000000000001)': {'generation': 1,\n",
       "  'mutation_count': 1,\n",
       "  'crossover_count': 0,\n",
       "  'predecessor': ('GradientBoostingClassifier(BernoulliNB(input_matrix, BernoulliNB__alpha=0.001, BernoulliNB__fit_prior=True), GradientBoostingClassifier__learning_rate=0.001, GradientBoostingClassifier__max_depth=4, GradientBoostingClassifier__max_features=0.25, GradientBoostingClassifier__min_samples_leaf=3, GradientBoostingClassifier__min_samples_split=6, GradientBoostingClassifier__n_estimators=100, GradientBoostingClassifier__subsample=0.7000000000000001)',),\n",
       "  'operator_count': 3,\n",
       "  'internal_cv_score': -inf},\n",
       " 'GradientBoostingClassifier(RandomForestClassifier(BernoulliNB(input_matrix, BernoulliNB__alpha=0.001, BernoulliNB__fit_prior=True), RandomForestClassifier__bootstrap=True, RandomForestClassifier__criterion=entropy, RandomForestClassifier__max_features=0.5, RandomForestClassifier__min_samples_leaf=7, RandomForestClassifier__min_samples_split=14, RandomForestClassifier__n_estimators=100), GradientBoostingClassifier__learning_rate=0.001, GradientBoostingClassifier__max_depth=4, GradientBoostingClassifier__max_features=0.25, GradientBoostingClassifier__min_samples_leaf=3, GradientBoostingClassifier__min_samples_split=6, GradientBoostingClassifier__n_estimators=100, GradientBoostingClassifier__subsample=0.7000000000000001)': {'generation': 1,\n",
       "  'mutation_count': 1,\n",
       "  'crossover_count': 0,\n",
       "  'predecessor': ('GradientBoostingClassifier(BernoulliNB(input_matrix, BernoulliNB__alpha=0.001, BernoulliNB__fit_prior=True), GradientBoostingClassifier__learning_rate=0.001, GradientBoostingClassifier__max_depth=4, GradientBoostingClassifier__max_features=0.25, GradientBoostingClassifier__min_samples_leaf=3, GradientBoostingClassifier__min_samples_split=6, GradientBoostingClassifier__n_estimators=100, GradientBoostingClassifier__subsample=0.7000000000000001)',),\n",
       "  'operator_count': 3,\n",
       "  'internal_cv_score': -inf},\n",
       " 'DecisionTreeClassifier(input_matrix, DecisionTreeClassifier__criterion=gini, DecisionTreeClassifier__max_depth=6, DecisionTreeClassifier__min_samples_leaf=4, DecisionTreeClassifier__min_samples_split=2)': {'generation': 1,\n",
       "  'mutation_count': 1,\n",
       "  'crossover_count': 0,\n",
       "  'predecessor': ('MultinomialNB(input_matrix, MultinomialNB__alpha=0.001, MultinomialNB__fit_prior=False)',),\n",
       "  'operator_count': 1,\n",
       "  'internal_cv_score': 0.9134369164173549},\n",
       " 'GaussianNB(MLPClassifier(input_matrix, MLPClassifier__alpha=0.1, MLPClassifier__learning_rate_init=1.0))': {'generation': 1,\n",
       "  'mutation_count': 1,\n",
       "  'crossover_count': 0,\n",
       "  'predecessor': ('GaussianNB(input_matrix)',),\n",
       "  'operator_count': 2,\n",
       "  'internal_cv_score': 0.6045668263880903},\n",
       " 'MLPClassifier(CombineDFs(input_matrix, input_matrix), MLPClassifier__alpha=0.0001, MLPClassifier__learning_rate_init=0.1)': {'generation': 1,\n",
       "  'mutation_count': 1,\n",
       "  'crossover_count': 0,\n",
       "  'predecessor': ('MLPClassifier(CombineDFs(input_matrix, input_matrix), MLPClassifier__alpha=0.0001, MLPClassifier__learning_rate_init=0.001)',),\n",
       "  'operator_count': 1,\n",
       "  'internal_cv_score': 0.8441793901731988},\n",
       " 'MLPClassifier(FastICA(input_matrix, FastICA__tol=0.35000000000000003), MLPClassifier__alpha=0.01, MLPClassifier__learning_rate_init=0.001)': {'generation': 1,\n",
       "  'mutation_count': 1,\n",
       "  'crossover_count': 0,\n",
       "  'predecessor': ('MLPClassifier(RobustScaler(input_matrix), MLPClassifier__alpha=0.01, MLPClassifier__learning_rate_init=0.001)',),\n",
       "  'operator_count': 2,\n",
       "  'internal_cv_score': -inf},\n",
       " 'GradientBoostingClassifier(BernoulliNB(XGBClassifier(input_matrix, XGBClassifier__learning_rate=0.01, XGBClassifier__max_depth=7, XGBClassifier__min_child_weight=20, XGBClassifier__n_estimators=100, XGBClassifier__nthread=1, XGBClassifier__subsample=0.7500000000000001), BernoulliNB__alpha=0.001, BernoulliNB__fit_prior=True), GradientBoostingClassifier__learning_rate=0.001, GradientBoostingClassifier__max_depth=4, GradientBoostingClassifier__max_features=0.25, GradientBoostingClassifier__min_samples_leaf=3, GradientBoostingClassifier__min_samples_split=6, GradientBoostingClassifier__n_estimators=100, GradientBoostingClassifier__subsample=0.7000000000000001)': {'generation': 1,\n",
       "  'mutation_count': 1,\n",
       "  'crossover_count': 0,\n",
       "  'predecessor': ('GradientBoostingClassifier(BernoulliNB(input_matrix, BernoulliNB__alpha=0.001, BernoulliNB__fit_prior=True), GradientBoostingClassifier__learning_rate=0.001, GradientBoostingClassifier__max_depth=4, GradientBoostingClassifier__max_features=0.25, GradientBoostingClassifier__min_samples_leaf=3, GradientBoostingClassifier__min_samples_split=6, GradientBoostingClassifier__n_estimators=100, GradientBoostingClassifier__subsample=0.7000000000000001)',),\n",
       "  'operator_count': 3,\n",
       "  'internal_cv_score': -inf},\n",
       " 'ExtraTreesClassifier(input_matrix, ExtraTreesClassifier__bootstrap=True, ExtraTreesClassifier__criterion=entropy, ExtraTreesClassifier__max_features=0.1, ExtraTreesClassifier__min_samples_leaf=3, ExtraTreesClassifier__min_samples_split=10, ExtraTreesClassifier__n_estimators=100)': {'generation': 1,\n",
       "  'mutation_count': 1,\n",
       "  'crossover_count': 0,\n",
       "  'predecessor': ('ExtraTreesClassifier(input_matrix, ExtraTreesClassifier__bootstrap=False, ExtraTreesClassifier__criterion=entropy, ExtraTreesClassifier__max_features=0.1, ExtraTreesClassifier__min_samples_leaf=3, ExtraTreesClassifier__min_samples_split=10, ExtraTreesClassifier__n_estimators=100)',),\n",
       "  'operator_count': 1,\n",
       "  'internal_cv_score': 0.5699313535500458},\n",
       " 'LinearSVC(DecisionTreeClassifier(MultinomialNB(input_matrix, MultinomialNB__alpha=1.0, MultinomialNB__fit_prior=True), DecisionTreeClassifier__criterion=entropy, DecisionTreeClassifier__max_depth=2, DecisionTreeClassifier__min_samples_leaf=17, DecisionTreeClassifier__min_samples_split=15), LinearSVC__C=25.0, LinearSVC__dual=True, LinearSVC__loss=squared_hinge, LinearSVC__penalty=l2, LinearSVC__tol=0.001)': {'generation': 1,\n",
       "  'mutation_count': 1,\n",
       "  'crossover_count': 0,\n",
       "  'predecessor': ('LinearSVC(MultinomialNB(input_matrix, MultinomialNB__alpha=1.0, MultinomialNB__fit_prior=True), LinearSVC__C=25.0, LinearSVC__dual=True, LinearSVC__loss=squared_hinge, LinearSVC__penalty=l2, LinearSVC__tol=0.001)',),\n",
       "  'operator_count': 3,\n",
       "  'internal_cv_score': -inf},\n",
       " 'SGDClassifier(input_matrix, SGDClassifier__alpha=0.0, SGDClassifier__eta0=1.0, SGDClassifier__fit_intercept=True, SGDClassifier__l1_ratio=0.25, SGDClassifier__learning_rate=constant, SGDClassifier__loss=modified_huber, SGDClassifier__penalty=elasticnet, SGDClassifier__power_t=0.0)': {'generation': 2,\n",
       "  'mutation_count': 1,\n",
       "  'crossover_count': 0,\n",
       "  'predecessor': ('SGDClassifier(input_matrix, SGDClassifier__alpha=0.0, SGDClassifier__eta0=0.01, SGDClassifier__fit_intercept=True, SGDClassifier__l1_ratio=0.25, SGDClassifier__learning_rate=constant, SGDClassifier__loss=modified_huber, SGDClassifier__penalty=elasticnet, SGDClassifier__power_t=0.0)',),\n",
       "  'operator_count': 1,\n",
       "  'internal_cv_score': 0.6805013569714253},\n",
       " 'XGBClassifier(input_matrix, XGBClassifier__learning_rate=0.001, XGBClassifier__max_depth=7, XGBClassifier__min_child_weight=15, XGBClassifier__n_estimators=100, XGBClassifier__nthread=1, XGBClassifier__subsample=0.6500000000000001)': {'generation': 2,\n",
       "  'mutation_count': 1,\n",
       "  'crossover_count': 0,\n",
       "  'predecessor': ('XGBClassifier(input_matrix, XGBClassifier__learning_rate=0.001, XGBClassifier__max_depth=1, XGBClassifier__min_child_weight=15, XGBClassifier__n_estimators=100, XGBClassifier__nthread=1, XGBClassifier__subsample=0.6500000000000001)',),\n",
       "  'operator_count': 1,\n",
       "  'internal_cv_score': -inf},\n",
       " 'GaussianNB(LinearSVC(input_matrix, LinearSVC__C=25.0, LinearSVC__dual=True, LinearSVC__loss=hinge, LinearSVC__penalty=l2, LinearSVC__tol=0.001))': {'generation': 2,\n",
       "  'mutation_count': 0,\n",
       "  'crossover_count': 2,\n",
       "  'predecessor': ('GaussianNB(LinearSVC(input_matrix, LinearSVC__C=25.0, LinearSVC__dual=True, LinearSVC__loss=hinge, LinearSVC__penalty=l2, LinearSVC__tol=0.01))',\n",
       "   'LinearSVC(input_matrix, LinearSVC__C=25.0, LinearSVC__dual=True, LinearSVC__loss=hinge, LinearSVC__penalty=l2, LinearSVC__tol=0.001)'),\n",
       "  'operator_count': 2,\n",
       "  'internal_cv_score': 0.7393943172705058},\n",
       " 'ExtraTreesClassifier(input_matrix, ExtraTreesClassifier__bootstrap=False, ExtraTreesClassifier__criterion=gini, ExtraTreesClassifier__max_features=0.9500000000000001, ExtraTreesClassifier__min_samples_leaf=16, ExtraTreesClassifier__min_samples_split=5, ExtraTreesClassifier__n_estimators=100)': {'generation': 2,\n",
       "  'mutation_count': 1,\n",
       "  'crossover_count': 0,\n",
       "  'predecessor': ('ExtraTreesClassifier(input_matrix, ExtraTreesClassifier__bootstrap=True, ExtraTreesClassifier__criterion=gini, ExtraTreesClassifier__max_features=0.8500000000000001, ExtraTreesClassifier__min_samples_leaf=17, ExtraTreesClassifier__min_samples_split=19, ExtraTreesClassifier__n_estimators=100)',),\n",
       "  'operator_count': 1,\n",
       "  'internal_cv_score': 0.9216907746720654},\n",
       " 'BernoulliNB(MultinomialNB(input_matrix, MultinomialNB__alpha=1.0, MultinomialNB__fit_prior=True), BernoulliNB__alpha=0.01, BernoulliNB__fit_prior=False)': {'generation': 2,\n",
       "  'mutation_count': 1,\n",
       "  'crossover_count': 0,\n",
       "  'predecessor': ('BernoulliNB(input_matrix, BernoulliNB__alpha=0.01, BernoulliNB__fit_prior=False)',),\n",
       "  'operator_count': 2,\n",
       "  'internal_cv_score': 0.3437670158124795},\n",
       " 'KNeighborsClassifier(input_matrix, KNeighborsClassifier__n_neighbors=55, KNeighborsClassifier__p=2, KNeighborsClassifier__weights=distance)': {'generation': 2,\n",
       "  'mutation_count': 2,\n",
       "  'crossover_count': 0,\n",
       "  'predecessor': ('DecisionTreeClassifier(input_matrix, DecisionTreeClassifier__criterion=gini, DecisionTreeClassifier__max_depth=6, DecisionTreeClassifier__min_samples_leaf=4, DecisionTreeClassifier__min_samples_split=2)',),\n",
       "  'operator_count': 1,\n",
       "  'internal_cv_score': -inf},\n",
       " 'GaussianNB(BernoulliNB(input_matrix, BernoulliNB__alpha=100.0, BernoulliNB__fit_prior=True))': {'generation': 2,\n",
       "  'mutation_count': 1,\n",
       "  'crossover_count': 0,\n",
       "  'predecessor': ('GaussianNB(GaussianNB(input_matrix))',),\n",
       "  'operator_count': 2,\n",
       "  'internal_cv_score': 0.5622864901214706},\n",
       " 'MultinomialNB(input_matrix, MultinomialNB__alpha=0.001, MultinomialNB__fit_prior=True)': {'generation': 2,\n",
       "  'mutation_count': 1,\n",
       "  'crossover_count': 0,\n",
       "  'predecessor': ('MultinomialNB(input_matrix, MultinomialNB__alpha=0.001, MultinomialNB__fit_prior=False)',),\n",
       "  'operator_count': 1,\n",
       "  'internal_cv_score': 0.342826259275837},\n",
       " 'MLPClassifier(MLPClassifier(input_matrix, MLPClassifier__alpha=0.1, MLPClassifier__learning_rate_init=1.0), MLPClassifier__alpha=0.01, MLPClassifier__learning_rate_init=0.01)': {'generation': 2,\n",
       "  'mutation_count': 2,\n",
       "  'crossover_count': 0,\n",
       "  'predecessor': ('GaussianNB(MLPClassifier(input_matrix, MLPClassifier__alpha=0.1, MLPClassifier__learning_rate_init=1.0))',),\n",
       "  'operator_count': 2,\n",
       "  'internal_cv_score': -inf},\n",
       " 'MLPClassifier(input_matrix, MLPClassifier__alpha=0.1, MLPClassifier__learning_rate_init=0.1)': {'generation': 2,\n",
       "  'mutation_count': 1,\n",
       "  'crossover_count': 0,\n",
       "  'predecessor': ('MLPClassifier(input_matrix, MLPClassifier__alpha=0.1, MLPClassifier__learning_rate_init=0.5)',),\n",
       "  'operator_count': 1,\n",
       "  'internal_cv_score': 0.6288782394255206},\n",
       " 'GaussianNB(Normalizer(input_matrix, Normalizer__norm=l2))': {'generation': 2,\n",
       "  'mutation_count': 1,\n",
       "  'crossover_count': 0,\n",
       "  'predecessor': ('GaussianNB(input_matrix)',),\n",
       "  'operator_count': 2,\n",
       "  'internal_cv_score': 0.5787241967226494},\n",
       " 'GaussianNB(MLPClassifier(input_matrix, MLPClassifier__alpha=0.01, MLPClassifier__learning_rate_init=1.0))': {'generation': 2,\n",
       "  'mutation_count': 2,\n",
       "  'crossover_count': 0,\n",
       "  'predecessor': ('GaussianNB(MLPClassifier(input_matrix, MLPClassifier__alpha=0.1, MLPClassifier__learning_rate_init=1.0))',),\n",
       "  'operator_count': 2,\n",
       "  'internal_cv_score': 0.6045668263880903},\n",
       " 'LinearSVC(input_matrix, LinearSVC__C=0.001, LinearSVC__dual=True, LinearSVC__loss=hinge, LinearSVC__penalty=l2, LinearSVC__tol=1e-05)': {'generation': 2,\n",
       "  'mutation_count': 1,\n",
       "  'crossover_count': 0,\n",
       "  'predecessor': ('LinearSVC(input_matrix, LinearSVC__C=25.0, LinearSVC__dual=True, LinearSVC__loss=hinge, LinearSVC__penalty=l2, LinearSVC__tol=1e-05)',),\n",
       "  'operator_count': 1,\n",
       "  'internal_cv_score': 0.5233949166050469},\n",
       " 'XGBClassifier(input_matrix, XGBClassifier__learning_rate=0.1, XGBClassifier__max_depth=5, XGBClassifier__min_child_weight=17, XGBClassifier__n_estimators=100, XGBClassifier__nthread=1, XGBClassifier__subsample=0.5)': {'generation': 2,\n",
       "  'mutation_count': 1,\n",
       "  'crossover_count': 0,\n",
       "  'predecessor': ('MultinomialNB(input_matrix, MultinomialNB__alpha=0.001, MultinomialNB__fit_prior=False)',),\n",
       "  'operator_count': 1,\n",
       "  'internal_cv_score': 0.9280577269107454},\n",
       " 'LinearSVC(input_matrix, LinearSVC__C=25.0, LinearSVC__dual=True, LinearSVC__loss=hinge, LinearSVC__penalty=l2, LinearSVC__tol=0.1)': {'generation': 2,\n",
       "  'mutation_count': 1,\n",
       "  'crossover_count': 0,\n",
       "  'predecessor': ('LinearSVC(input_matrix, LinearSVC__C=25.0, LinearSVC__dual=True, LinearSVC__loss=hinge, LinearSVC__penalty=l2, LinearSVC__tol=1e-05)',),\n",
       "  'operator_count': 1,\n",
       "  'internal_cv_score': 0.6734361626624159},\n",
       " 'BernoulliNB(input_matrix, BernoulliNB__alpha=0.1, BernoulliNB__fit_prior=True)': {'generation': 2,\n",
       "  'mutation_count': 2,\n",
       "  'crossover_count': 0,\n",
       "  'predecessor': ('BernoulliNB(MLPClassifier(input_matrix, MLPClassifier__alpha=0.0001, MLPClassifier__learning_rate_init=0.5), BernoulliNB__alpha=0.1, BernoulliNB__fit_prior=True)',),\n",
       "  'operator_count': 1,\n",
       "  'internal_cv_score': 0.3437697113755826},\n",
       " 'XGBClassifier(RobustScaler(input_matrix), XGBClassifier__learning_rate=0.001, XGBClassifier__max_depth=1, XGBClassifier__min_child_weight=15, XGBClassifier__n_estimators=100, XGBClassifier__nthread=1, XGBClassifier__subsample=0.6500000000000001)': {'generation': 2,\n",
       "  'mutation_count': 1,\n",
       "  'crossover_count': 0,\n",
       "  'predecessor': ('XGBClassifier(input_matrix, XGBClassifier__learning_rate=0.001, XGBClassifier__max_depth=1, XGBClassifier__min_child_weight=15, XGBClassifier__n_estimators=100, XGBClassifier__nthread=1, XGBClassifier__subsample=0.6500000000000001)',),\n",
       "  'operator_count': 2,\n",
       "  'internal_cv_score': 0.8390281877208092},\n",
       " 'ExtraTreesClassifier(input_matrix, ExtraTreesClassifier__bootstrap=False, ExtraTreesClassifier__criterion=entropy, ExtraTreesClassifier__max_features=0.1, ExtraTreesClassifier__min_samples_leaf=2, ExtraTreesClassifier__min_samples_split=10, ExtraTreesClassifier__n_estimators=100)': {'generation': 2,\n",
       "  'mutation_count': 1,\n",
       "  'crossover_count': 0,\n",
       "  'predecessor': ('ExtraTreesClassifier(input_matrix, ExtraTreesClassifier__bootstrap=False, ExtraTreesClassifier__criterion=entropy, ExtraTreesClassifier__max_features=0.1, ExtraTreesClassifier__min_samples_leaf=3, ExtraTreesClassifier__min_samples_split=10, ExtraTreesClassifier__n_estimators=100)',),\n",
       "  'operator_count': 1,\n",
       "  'internal_cv_score': 0.682396234217509},\n",
       " 'GaussianNB(BernoulliNB(MLPClassifier(input_matrix, MLPClassifier__alpha=0.1, MLPClassifier__learning_rate_init=1.0), BernoulliNB__alpha=10.0, BernoulliNB__fit_prior=False))': {'generation': 2,\n",
       "  'mutation_count': 2,\n",
       "  'crossover_count': 0,\n",
       "  'predecessor': ('GaussianNB(MLPClassifier(input_matrix, MLPClassifier__alpha=0.1, MLPClassifier__learning_rate_init=1.0))',),\n",
       "  'operator_count': 3,\n",
       "  'internal_cv_score': 0.5622864901214706}}"
      ]
     },
     "execution_count": 12,
     "metadata": {},
     "output_type": "execute_result"
    }
   ],
   "source": [
    "tpot.evaluated_individuals_"
   ]
  },
  {
   "cell_type": "code",
   "execution_count": 37,
   "metadata": {},
   "outputs": [
    {
     "name": "stdout",
     "output_type": "stream",
     "text": [
      "32 operators have been imported by TPOT.\n"
     ]
    },
    {
     "data": {
      "application/vnd.jupyter.widget-view+json": {
       "model_id": "",
       "version_major": 2,
       "version_minor": 0
      },
      "text/plain": [
       "HBox(children=(HTML(value='Optimization Progress'), FloatProgress(value=0.0), HTML(value='')))"
      ]
     },
     "metadata": {},
     "output_type": "display_data"
    },
    {
     "name": "stdout",
     "output_type": "stream",
     "text": [
      "Skipped pipeline #5 due to time out. Continuing to the next pipeline.\n",
      "Skipped pipeline #13 due to time out. Continuing to the next pipeline.\n",
      "Skipped pipeline #20 due to time out. Continuing to the next pipeline.\n",
      "Skipped pipeline #24 due to time out. Continuing to the next pipeline.\n",
      "Skipped pipeline #28 due to time out. Continuing to the next pipeline.\n",
      "_pre_test decorator: _random_mutation_operator: num_test=0 Solver lbfgs supports only 'l2' or 'none' penalties, got l1 penalty..\n",
      "_pre_test decorator: _random_mutation_operator: num_test=0 Unsupported set of arguments: The combination of penalty='l2' and loss='hinge' are not supported when dual=False, Parameters: penalty='l2', loss='hinge', dual=False.\n",
      "_pre_test decorator: _random_mutation_operator: num_test=0 No feature in X meets the variance threshold 0.10000.\n",
      "Pipeline encountered that has previously been evaluated during the optimization process. Using the score from the previous evaluation.\n",
      "Skipped pipeline #34 due to time out. Continuing to the next pipeline.\n",
      "Skipped pipeline #37 due to time out. Continuing to the next pipeline.\n",
      "Skipped pipeline #41 due to time out. Continuing to the next pipeline.\n",
      "Skipped pipeline #46 due to time out. Continuing to the next pipeline.\n",
      "Skipped pipeline #49 due to time out. Continuing to the next pipeline.\n",
      "Skipped pipeline #51 due to time out. Continuing to the next pipeline.\n",
      "Skipped pipeline #53 due to time out. Continuing to the next pipeline.\n",
      "Skipped pipeline #58 due to time out. Continuing to the next pipeline.\n",
      "Skipped pipeline #60 due to time out. Continuing to the next pipeline.\n",
      "\n",
      "Generation 1 - Current Pareto front scores:\n",
      "Skipped pipeline #70 due to time out. Continuing to the next pipeline.tClassifier__bootstrap=True, RandomForestClassifier__criterion=gini, RandomForestClassifier__max_features=0.35000000000000003, RandomForestClassifier__min_samples_leaf=2, RandomForestClassifier__min_samples_split=16, RandomForestClassifier__n_estimators=100)\n",
      "Skipped pipeline #74 due to time out. Continuing to the next pipeline.\n",
      "Skipped pipeline #81 due to time out. Continuing to the next pipeline.\n",
      "\n",
      "Generation 2 - Current Pareto front scores:\n",
      "-1\t0.9336213998062007\tRandomForestClassifier(input_matrix, RandomForestClassifier__bootstrap=True, RandomForestClassifier__criterion=gini, RandomForestClassifier__max_features=0.35000000000000003, RandomForestClassifier__min_samples_leaf=2, RandomForestClassifier__min_samples_split=16, RandomForestClassifier__n_estimators=100)\n",
      "Pipeline encountered that has previously been evaluated during the optimization process. Using the score from the previous evaluation.restClassifier__bootstrap=True, RandomForestClassifier__criterion=gini, RandomForestClassifier__max_features=0.6500000000000001, RandomForestClassifier__min_samples_leaf=2, RandomForestClassifier__min_samples_split=16, RandomForestClassifier__n_estimators=100)\n",
      "Skipped pipeline #102 due to time out. Continuing to the next pipeline.\n",
      "\n",
      "Generation 3 - Current Pareto front scores:\n",
      "-1\t0.9336213998062007\tRandomForestClassifier(input_matrix, RandomForestClassifier__bootstrap=True, RandomForestClassifier__criterion=gini, RandomForestClassifier__max_features=0.35000000000000003, RandomForestClassifier__min_samples_leaf=2, RandomForestClassifier__min_samples_split=16, RandomForestClassifier__n_estimators=100)\n",
      "-2\t0.9341281658657747\tRandomForestClassifier(MinMaxScaler(input_matrix), RandomForestClassifier__bootstrap=True, RandomForestClassifier__criterion=gini, RandomForestClassifier__max_features=0.35000000000000003, RandomForestClassifier__min_samples_leaf=2, RandomForestClassifier__min_samples_split=16, RandomForestClassifier__n_estimators=100)\n",
      "-3\t0.9341443396149657\tRandomForestClassifier(MinMaxScaler(BernoulliNB(input_matrix, BernoulliNB__alpha=10.0, BernoulliNB__fit_prior=True)), RandomForestClassifier__bootstrap=True, RandomForestClassifier__criterion=gini, RandomForestClassifier__max_features=0.35000000000000003, RandomForestClassifier__min_samples_leaf=2, RandomForestClassifier__min_samples_split=16, RandomForestClassifier__n_estimators=100)0.9342929537980484\n"
     ]
    }
   ],
   "source": [
    "# Run TPOT Classifier with 3-fold CV to save time\n",
    "tpot = TPOTClassifier(generations = 3, population_size = 25, verbosity = 3, n_jobs = -1, random_state = 6, cv = 3)\n",
    "tpot.fit(X_train, y_train)\n",
    "print(tpot.score(X_test, y_test))\n",
    "tpot.export('tpot_pipeline3.py')"
   ]
  },
  {
   "cell_type": "markdown",
   "metadata": {},
   "source": [
    "TPOT suggests that the most appropriate model is a Random Forest Classifier."
   ]
  },
  {
   "cell_type": "markdown",
   "metadata": {},
   "source": [
    "## KNN Classification\n",
    "The following stratified 5-fold cross-validated model uses KNN classifier on our numeric dataset. A grid search is conducted over a range of k-values and weighting parameters to determine the optimum model parameters. These will then be used to train our final KNN model which will be explored further below."
   ]
  },
  {
   "cell_type": "code",
   "execution_count": 43,
   "metadata": {},
   "outputs": [
    {
     "name": "stdout",
     "output_type": "stream",
     "text": [
      "Fitting 5 folds for each of 16 candidates, totalling 80 fits\n"
     ]
    },
    {
     "name": "stderr",
     "output_type": "stream",
     "text": [
      "[Parallel(n_jobs=-1)]: Using backend LokyBackend with 32 concurrent workers.\n",
      "[Parallel(n_jobs=-1)]: Done  58 out of  80 | elapsed: 33.1min remaining: 12.5min\n",
      "[Parallel(n_jobs=-1)]: Done  80 out of  80 | elapsed: 39.0min finished\n"
     ]
    },
    {
     "name": "stdout",
     "output_type": "stream",
     "text": [
      "Wall time: 41min 56s\n",
      "The optimum parameters were:  {'KNN__n_neighbors': 21, 'KNN__weights': 'distance'} \n",
      "\n",
      "The best estimator was:  Pipeline(steps=[('Scaler', MinMaxScaler(copy=False)),\n",
      "                ('KNN',\n",
      "                 KNeighborsClassifier(n_jobs=-1, n_neighbors=21,\n",
      "                                      weights='distance'))]) \n",
      "\n",
      "With an accuracy of:  0.8332881774081102\n"
     ]
    }
   ],
   "source": [
    "# Create a grid search object to optimize KNN parameter values\n",
    "clf_pipe = Pipeline([('Scaler', MinMaxScaler(copy = False)),\n",
    "                     ('KNN', KNeighborsClassifier(n_jobs = -1))])\n",
    "\n",
    "params = dict(KNN__n_neighbors = [21, 31, 41, 51, 55, 57, 61, 65],\n",
    "             KNN__weights = ['uniform', 'distance'])\n",
    "grid = GridSearchCV(clf_pipe, param_grid = params, cv = 5, n_jobs = -1, verbose = 2, scoring = 'accuracy')\n",
    "\n",
    "%time grid.fit(X,y)\n",
    "print('The optimum parameters were: ', grid.best_params_, '\\n')\n",
    "print('The best estimator was: ', grid.best_estimator_, '\\n')\n",
    "print('With an accuracy of: ', grid.best_score_)"
   ]
  },
  {
   "cell_type": "markdown",
   "metadata": {},
   "source": [
    "The final KNN model is trained below using the previously found optimum parameter values. Model performance will be visualized using a confusion matrix, and feature importance will be determined using."
   ]
  },
  {
   "cell_type": "code",
   "execution_count": 47,
   "metadata": {},
   "outputs": [
    {
     "name": "stdout",
     "output_type": "stream",
     "text": [
      "######## CV SPLIT  0  #######\n",
      "\n",
      "Wall time: 1min 8s\n",
      "Wall time: 8.28 s\n",
      "[[26379  3483   323]\n",
      " [ 1706 26168  2933]\n",
      " [  256  2772 28725]]\n",
      "KNN Accuracy: k = 21  0.876295218071055\n",
      "Precision:  [0.93077167 0.80708139 0.89818955]\n",
      "Recall:  [0.87391088 0.84941734 0.90463893]\n",
      "F Score:  [0.90144551 0.82770837 0.9014027 ] \n",
      "\n",
      "#############################\n",
      "\n",
      "######## CV SPLIT  1  #######\n",
      "\n",
      "Wall time: 1min 21s\n",
      "Wall time: 5.52 s\n",
      "[[26188  3556   441]\n",
      " [ 2006 25428  3374]\n",
      " [  377  2962 28413]]\n",
      "KNN Accuracy: k = 21  0.8628928783222816\n",
      "Precision:  [0.91659375 0.7959682  0.88162467]\n",
      "Recall:  [0.86758324 0.82537003 0.89484127]\n",
      "F Score:  [0.89141534 0.81040252 0.88818381] \n",
      "\n",
      "#############################\n",
      "\n",
      "######## CV SPLIT  2  #######\n",
      "\n",
      "Wall time: 1min 10s\n",
      "Wall time: 6.04 s\n",
      "[[26185  3639   361]\n",
      " [ 1918 25803  3087]\n",
      " [  336  2977 28439]]\n",
      "KNN Accuracy: k = 21  0.8671842147824681\n",
      "Precision:  [0.92074264 0.79592214 0.89186816]\n",
      "Recall:  [0.86748385 0.8375422  0.89566012]\n",
      "F Score:  [0.89332014 0.81620194 0.89376012] \n",
      "\n",
      "#############################\n",
      "\n",
      "######## CV SPLIT  3  #######\n",
      "\n",
      "Wall time: 1min 10s\n",
      "Wall time: 6.81 s\n",
      "[[24941  4437   806]\n",
      " [ 3905 23285  3618]\n",
      " [  573  4246 26933]]\n",
      "KNN Accuracy: k = 21  0.8103920469248684\n",
      "Precision:  [0.84778544 0.72838463 0.85891507]\n",
      "Recall:  [0.8262987  0.75581018 0.84823003]\n",
      "F Score:  [0.83690418 0.74184402 0.85353911] \n",
      "\n",
      "#############################\n",
      "\n",
      "######## CV SPLIT  4  #######\n",
      "\n",
      "Wall time: 1min 11s\n",
      "Wall time: 8.58 s\n",
      "[[26744  2735   705]\n",
      " [ 8951 18063  3794]\n",
      " [ 1905  5126 24721]]\n",
      "KNN Accuracy: k = 21  0.7496765289398775\n",
      "Precision:  [0.7112766  0.69676747 0.84603012]\n",
      "Recall:  [0.88603234 0.58630875 0.77856513]\n",
      "F Score:  [0.78909477 0.63678347 0.81089681] \n",
      "\n",
      "#############################\n",
      "\n"
     ]
    }
   ],
   "source": [
    "# Final KNN model with cross-validation\n",
    "it = 0\n",
    "\n",
    "for train, test in cv_obj.split(X,y):\n",
    "    print('######## CV SPLIT ', it, ' #######\\n')\n",
    "    clf_pipe = Pipeline([('Scaler', MinMaxScaler(copy = False)),\n",
    "                        ('KNN', KNeighborsClassifier(n_neighbors = 21, weights = 'distance', n_jobs = -1))])\n",
    "        \n",
    "    %time clf_pipe.fit(X[train],y[train])\n",
    "    %time yhat = clf_pipe.predict(X[test])\n",
    "    total_acc = mt.accuracy_score(y[test],yhat)\n",
    "    precision, recall, f_score, support = mt.precision_recall_fscore_support(y[test],yhat, \n",
    "                                                                            labels = [0, 1, 2])\n",
    "        \n",
    "    print(mt.confusion_matrix(y[test], yhat))\n",
    "    print('KNN Accuracy: k = 21 ', total_acc)\n",
    "    print('Precision: ', precision)\n",
    "    print('Recall: ', recall)\n",
    "    print('F Score: ', f_score, '\\n')\n",
    "    it += 1\n",
    "    print('#############################\\n')"
   ]
  },
  {
   "cell_type": "markdown",
   "metadata": {},
   "source": [
    "Below we define a function that allows us to plot the results of the KNN classifier using a multiclass confusion matrix. The model is run on a sample data split and the results are plotted below."
   ]
  },
  {
   "cell_type": "code",
   "execution_count": 48,
   "metadata": {},
   "outputs": [],
   "source": [
    "# Plot confusion matrix \n",
    "import seaborn as sns\n",
    "\n",
    "# Function was from https://github.com/DTrimarchi10/confusion_matrix/blob/master/cf_matrix.py\n",
    "\n",
    "def make_confusion_matrix(cf,\n",
    "                          group_names=None,\n",
    "                          categories='auto',\n",
    "                          count=True,\n",
    "                          percent=True,\n",
    "                          cbar=True,\n",
    "                          xyticks=True,\n",
    "                          xyplotlabels=True,\n",
    "                          sum_stats=True,\n",
    "                          figsize=None,\n",
    "                          cmap='Blues',\n",
    "                          title=None):\n",
    "    '''\n",
    "    This function will make a pretty plot of an sklearn Confusion Matrix cm using a Seaborn heatmap visualization.\n",
    "    Arguments\n",
    "    ---------\n",
    "    cf:            confusion matrix to be passed in\n",
    "    group_names:   List of strings that represent the labels row by row to be shown in each square.\n",
    "    categories:    List of strings containing the categories to be displayed on the x,y axis. Default is 'auto'\n",
    "    count:         If True, show the raw number in the confusion matrix. Default is True.\n",
    "    normalize:     If True, show the proportions for each category. Default is True.\n",
    "    cbar:          If True, show the color bar. The cbar values are based off the values in the confusion matrix.\n",
    "                   Default is True.\n",
    "    xyticks:       If True, show x and y ticks. Default is True.\n",
    "    xyplotlabels:  If True, show 'True Label' and 'Predicted Label' on the figure. Default is True.\n",
    "    sum_stats:     If True, display summary statistics below the figure. Default is True.\n",
    "    figsize:       Tuple representing the figure size. Default will be the matplotlib rcParams value.\n",
    "    cmap:          Colormap of the values displayed from matplotlib.pyplot.cm. Default is 'Blues'\n",
    "                   See http://matplotlib.org/examples/color/colormaps_reference.html\n",
    "                   \n",
    "    title:         Title for the heatmap. Default is None.\n",
    "    '''\n",
    "\n",
    "\n",
    "    # CODE TO GENERATE TEXT INSIDE EACH SQUARE\n",
    "    blanks = ['' for i in range(cf.size)]\n",
    "\n",
    "    if group_names and len(group_names)==cf.size:\n",
    "        group_labels = [\"{}\\n\".format(value) for value in group_names]\n",
    "    else:\n",
    "        group_labels = blanks\n",
    "\n",
    "    if count:\n",
    "        group_counts = [\"{0:0.0f}\\n\".format(value) for value in cf.flatten()]\n",
    "    else:\n",
    "        group_counts = blanks\n",
    "\n",
    "    if percent:\n",
    "        group_percentages = [\"{0:.2%}\".format(value) for value in cf.flatten()/np.sum(cf)]\n",
    "    else:\n",
    "        group_percentages = blanks\n",
    "\n",
    "    box_labels = [f\"{v1}{v2}{v3}\".strip() for v1, v2, v3 in zip(group_labels,group_counts,group_percentages)]\n",
    "    box_labels = np.asarray(box_labels).reshape(cf.shape[0],cf.shape[1])\n",
    "\n",
    "\n",
    "    # CODE TO GENERATE SUMMARY STATISTICS & TEXT FOR SUMMARY STATS\n",
    "    if sum_stats:\n",
    "        #Accuracy is sum of diagonal divided by total observations\n",
    "        accuracy  = np.trace(cf) / float(np.sum(cf))\n",
    "\n",
    "        #if it is a binary confusion matrix, show some more stats\n",
    "        if len(cf)==2:\n",
    "            #Metrics for Binary Confusion Matrices\n",
    "            precision = cf[1,1] / sum(cf[:,1])\n",
    "            recall    = cf[1,1] / sum(cf[1,:])\n",
    "            f1_score  = 2*precision*recall / (precision + recall)\n",
    "            stats_text = \"\\n\\nAccuracy={:0.3f}\\nPrecision={:0.3f}\\nRecall={:0.3f}\\nF1 Score={:0.3f}\".format(\n",
    "                accuracy,precision,recall,f1_score)\n",
    "        else:\n",
    "            stats_text = \"\\n\\nAccuracy={:0.3f}\".format(accuracy)\n",
    "    else:\n",
    "        stats_text = \"\"\n",
    "\n",
    "\n",
    "    # SET FIGURE PARAMETERS ACCORDING TO OTHER ARGUMENTS\n",
    "    if figsize==None:\n",
    "        #Get default figure size if not set\n",
    "        figsize = plt.rcParams.get('figure.figsize')\n",
    "\n",
    "    if xyticks==False:\n",
    "        #Do not show categories if xyticks is False\n",
    "        categories=False\n",
    "\n",
    "\n",
    "    # MAKE THE HEATMAP VISUALIZATION\n",
    "    plt.figure(figsize=figsize)\n",
    "    sns.heatmap(cf,annot=box_labels,fmt=\"\",cmap=cmap,cbar=cbar,xticklabels=categories,yticklabels=categories)\n",
    "\n",
    "    if xyplotlabels:\n",
    "        plt.ylabel('True label')\n",
    "        plt.xlabel('Predicted label' + stats_text)\n",
    "    else:\n",
    "        plt.xlabel(stats_text)\n",
    "    \n",
    "    if title:\n",
    "        plt.title(title)"
   ]
  },
  {
   "cell_type": "code",
   "execution_count": 53,
   "metadata": {},
   "outputs": [
    {
     "name": "stdout",
     "output_type": "stream",
     "text": [
      "######## CV SPLIT  0  #######\n",
      "\n",
      "Wall time: 1min 47s\n",
      "Wall time: 4.98 s\n"
     ]
    },
    {
     "data": {
      "image/png": "[encoded data removed]",
      "text/plain": [
       "<Figure size 576x432 with 2 Axes>"
      ]
     },
     "metadata": {
      "needs_background": "light"
     },
     "output_type": "display_data"
    }
   ],
   "source": [
    "# Run model and output confusion matrix\n",
    "from sklearn.model_selection import ShuffleSplit\n",
    "cv_obj_viz = ShuffleSplit(n_splits = 1, test_size = .2, random_state = 6)\n",
    "\n",
    "# Final KNN model with cross-validation\n",
    "it = 0\n",
    "\n",
    "for train, test in cv_obj_viz.split(X,y):\n",
    "    print('######## CV SPLIT ', it, ' #######\\n')\n",
    "    clf_pipe = Pipeline([('Scaler', MinMaxScaler(copy = False)),\n",
    "                        ('KNN', KNeighborsClassifier(n_neighbors = 21, weights = 'distance', n_jobs = -1))])\n",
    "        \n",
    "    %time clf_pipe.fit(X[train],y[train])\n",
    "    %time yhat = clf_pipe.predict(X[test])\n",
    "    total_acc = mt.accuracy_score(y[test],yhat)\n",
    "    precision, recall, f_score, support = mt.precision_recall_fscore_support(y[test],yhat, \n",
    "                                                                            labels = [0, 1, 2])\n",
    "        \n",
    "    cf_matrix = mt.confusion_matrix(y[test], yhat)\n",
    "    #print('KNN Accuracy: k = 21 ', total_acc)\n",
    "    #print('Precision: ', precision)\n",
    "    #print('Recall: ', recall)\n",
    "    #print('F Score: ', f_score, '\\n')\n",
    "    #it += 1\n",
    "    #print('#############################\\n')\n",
    "\n",
    "    categories = ['Low', 'Average', 'High']\n",
    "    make_confusion_matrix(cf_matrix, figsize=(8,6), cbar=True, sum_stats=True, categories=categories )"
   ]
  },
  {
   "cell_type": "code",
   "execution_count": 54,
   "metadata": {},
   "outputs": [
    {
     "name": "stdout",
     "output_type": "stream",
     "text": [
      "Fitting 5 folds for each of 1 candidates, totalling 5 fits\n"
     ]
    },
    {
     "name": "stderr",
     "output_type": "stream",
     "text": [
      "[Parallel(n_jobs=-1)]: Using backend LokyBackend with 32 concurrent workers.\n",
      "[Parallel(n_jobs=-1)]: Done   2 out of   5 | elapsed:  2.2min remaining:  3.3min\n",
      "[Parallel(n_jobs=-1)]: Done   5 out of   5 | elapsed:  2.6min remaining:    0.0s\n",
      "[Parallel(n_jobs=-1)]: Done   5 out of   5 | elapsed:  2.6min finished\n"
     ]
    },
    {
     "name": "stdout",
     "output_type": "stream",
     "text": [
      "Wall time: 5min 30s\n"
     ]
    },
    {
     "data": {
      "text/plain": [
       "GridSearchCV(cv=5,\n",
       "             estimator=Pipeline(steps=[('Scaler', MinMaxScaler(copy=False)),\n",
       "                                       ('KNN',\n",
       "                                        KNeighborsClassifier(n_jobs=-1))]),\n",
       "             n_jobs=-1,\n",
       "             param_grid={'KNN__n_neighbors': [21],\n",
       "                         'KNN__weights': ['distance']},\n",
       "             scoring='accuracy', verbose=2)"
      ]
     },
     "execution_count": 54,
     "metadata": {},
     "output_type": "execute_result"
    }
   ],
   "source": [
    "# Must use GridSearchCV on final model to get fit times and performance metrics\n",
    "clf_pipe = Pipeline([('Scaler', MinMaxScaler(copy = False)),\n",
    "                     ('KNN', KNeighborsClassifier(n_jobs = -1))])\n",
    "\n",
    "params = dict(KNN__n_neighbors = [21],\n",
    "             KNN__weights = ['distance'])\n",
    "grid = GridSearchCV(clf_pipe, param_grid = params, cv = 5, n_jobs = -1, verbose = 2, scoring = 'accuracy')\n",
    "\n",
    "%time grid.fit(X,y)"
   ]
  },
  {
   "cell_type": "code",
   "execution_count": 55,
   "metadata": {},
   "outputs": [],
   "source": [
    "# Export model performance metrics to CSV file\n",
    "cvres = pd.DataFrame(grid.cv_results_)\n",
    "cvres.to_csv('KNNClassification_Results 1.csv', index = False)"
   ]
  },
  {
   "cell_type": "markdown",
   "metadata": {},
   "source": [
    "## Random Forest Classification\n",
    "The results of the TPOT analysis indicated that the best model for our dataset was random forest classifier with the following parameters: the gini coefficient as the classification criterion, max_features = .35, min_samples_leaf = 2, min_samples_split = 16, n_estimators = 100. This model will be built below."
   ]
  },
  {
   "cell_type": "code",
   "execution_count": 57,
   "metadata": {},
   "outputs": [
    {
     "name": "stdout",
     "output_type": "stream",
     "text": [
      "Fitting 5 folds for each of 1 candidates, totalling 5 fits\n"
     ]
    },
    {
     "name": "stderr",
     "output_type": "stream",
     "text": [
      "[Parallel(n_jobs=-1)]: Using backend LokyBackend with 32 concurrent workers.\n",
      "[Parallel(n_jobs=-1)]: Done   2 out of   5 | elapsed:   22.6s remaining:   34.0s\n",
      "[Parallel(n_jobs=-1)]: Done   5 out of   5 | elapsed:   22.8s remaining:    0.0s\n",
      "[Parallel(n_jobs=-1)]: Done   5 out of   5 | elapsed:   22.8s finished\n"
     ]
    },
    {
     "name": "stdout",
     "output_type": "stream",
     "text": [
      "Wall time: 29.2 s\n"
     ]
    },
    {
     "data": {
      "text/plain": [
       "GridSearchCV(cv=5,\n",
       "             estimator=Pipeline(steps=[('Scaler', MinMaxScaler(copy=False)),\n",
       "                                       ('CLF',\n",
       "                                        RandomForestClassifier(n_jobs=-1))]),\n",
       "             n_jobs=-1,\n",
       "             param_grid={'CLF__criterion': ['gini'],\n",
       "                         'CLF__max_features': [0.35],\n",
       "                         'CLF__min_samples_leaf': [2],\n",
       "                         'CLF__min_samples_split': [16],\n",
       "                         'CLF__n_estimators': [100]},\n",
       "             scoring='accuracy', verbose=2)"
      ]
     },
     "execution_count": 57,
     "metadata": {},
     "output_type": "execute_result"
    }
   ],
   "source": [
    "# Must use GridSearchCV on final model to get fit times and performance metrics\n",
    "clf_pipe = Pipeline([('Scaler', MinMaxScaler(copy = False)),\n",
    "                     ('CLF', RandomForestClassifier(n_jobs = -1))])\n",
    "\n",
    "params = dict(CLF__criterion = ['gini'],\n",
    "              CLF__max_features = [.35],\n",
    "              CLF__min_samples_leaf = [2],\n",
    "              CLF__min_samples_split = [16],\n",
    "              CLF__n_estimators = [100])\n",
    "\n",
    "grid = GridSearchCV(clf_pipe, param_grid = params, cv = 5, n_jobs = -1, verbose = 2, scoring = 'accuracy')\n",
    "\n",
    "%time grid.fit(X,y)"
   ]
  },
  {
   "cell_type": "code",
   "execution_count": 58,
   "metadata": {},
   "outputs": [],
   "source": [
    "# Export model performance metrics to CSV file\n",
    "cvres = pd.DataFrame(grid.cv_results_)\n",
    "cvres.to_csv('RFClassification_Results 1.csv', index = False)"
   ]
  },
  {
   "cell_type": "code",
   "execution_count": 62,
   "metadata": {},
   "outputs": [
    {
     "name": "stdout",
     "output_type": "stream",
     "text": [
      "######## CV SPLIT  0  #######\n",
      "\n",
      "Wall time: 5.64 s\n",
      "Wall time: 238 ms\n",
      "Random Forest Accuracy:  0.9344331230794113\n",
      "Precision:  [0.96472568 0.90608526 0.9335397 ]\n",
      "Recall:  [0.94850751 0.8997318  0.9549715 ]\n",
      "F Score:  [0.95654786 0.90289735 0.94413399] \n",
      "\n",
      "#############################\n",
      "\n"
     ]
    },
    {
     "data": {
      "image/png": "[encoded data removed]",
      "text/plain": [
       "<Figure size 576x432 with 2 Axes>"
      ]
     },
     "metadata": {
      "needs_background": "light"
     },
     "output_type": "display_data"
    }
   ],
   "source": [
    "# Must use GridSearchCV on final model to get fit times and performance metrics\n",
    "# Run model and output confusion matrix\n",
    "from sklearn.model_selection import ShuffleSplit\n",
    "cv_obj_viz = ShuffleSplit(n_splits = 1, test_size = .2, random_state = 6)\n",
    "\n",
    "# Final KNN model with cross-validation\n",
    "it = 0\n",
    "\n",
    "for train, test in cv_obj_viz.split(X,y):\n",
    "    print('######## CV SPLIT ', it, ' #######\\n')\n",
    "    clf_pipe = Pipeline([('Scaler', MinMaxScaler(copy = False)),\n",
    "                     ('CLF', RandomForestClassifier(criterion = 'gini', max_features = .35, min_samples_leaf = 2,\n",
    "                                                    min_samples_split = 16, n_estimators = 100, n_jobs = -1))])\n",
    "        \n",
    "    %time clf_pipe.fit(X[train],y[train])\n",
    "    %time yhat = clf_pipe.predict(X[test])\n",
    "    total_acc = mt.accuracy_score(y[test],yhat)\n",
    "    precision, recall, f_score, support = mt.precision_recall_fscore_support(y[test],yhat, \n",
    "                                                                            labels = [0, 1, 2])\n",
    "        \n",
    "    cf_matrix = mt.confusion_matrix(y[test], yhat)\n",
    "    print('Random Forest Accuracy: ', total_acc)\n",
    "    print('Precision: ', precision)\n",
    "    print('Recall: ', recall)\n",
    "    print('F Score: ', f_score, '\\n')\n",
    "    #it += 1\n",
    "    print('#############################\\n')\n",
    "\n",
    "    categories = ['Low', 'Average', 'High']\n",
    "    make_confusion_matrix(cf_matrix, figsize=(8,6), cbar=True, sum_stats=True, categories=categories )"
   ]
  },
  {
   "cell_type": "markdown",
   "metadata": {},
   "source": [
    "## Extra Trees Classifier\n",
    "The TPOT analysis indicated that the extra trees classifier also performed very well on our numeric dataset, with an accuracy of ~90%. We will build an extra trees classifer using the optimum parameters found by TPOT."
   ]
  },
  {
   "cell_type": "code",
   "execution_count": 60,
   "metadata": {},
   "outputs": [
    {
     "name": "stdout",
     "output_type": "stream",
     "text": [
      "Fitting 5 folds for each of 1 candidates, totalling 5 fits\n"
     ]
    },
    {
     "name": "stderr",
     "output_type": "stream",
     "text": [
      "[Parallel(n_jobs=-1)]: Using backend LokyBackend with 32 concurrent workers.\n",
      "[Parallel(n_jobs=-1)]: Done   2 out of   5 | elapsed:   30.3s remaining:   45.6s\n",
      "[Parallel(n_jobs=-1)]: Done   5 out of   5 | elapsed:   30.6s remaining:    0.0s\n",
      "[Parallel(n_jobs=-1)]: Done   5 out of   5 | elapsed:   30.6s finished\n"
     ]
    },
    {
     "name": "stdout",
     "output_type": "stream",
     "text": [
      "Wall time: 37.3 s\n"
     ]
    },
    {
     "data": {
      "text/plain": [
       "GridSearchCV(cv=5,\n",
       "             estimator=Pipeline(steps=[('Scaler', MinMaxScaler(copy=False)),\n",
       "                                       ('CLF',\n",
       "                                        ExtraTreesClassifier(n_jobs=-1))]),\n",
       "             n_jobs=-1,\n",
       "             param_grid={'CLF__criterion': ['gini'],\n",
       "                         'CLF__max_features': [0.85],\n",
       "                         'CLF__min_samples_leaf': [17],\n",
       "                         'CLF__min_samples_split': [19],\n",
       "                         'CLF__n_estimators': [100]},\n",
       "             scoring='accuracy', verbose=2)"
      ]
     },
     "execution_count": 60,
     "metadata": {},
     "output_type": "execute_result"
    }
   ],
   "source": [
    "from sklearn.ensemble import ExtraTreesClassifier\n",
    "\n",
    "# Must use GridSearchCV on final model to get fit times and performance metrics\n",
    "clf_pipe = Pipeline([('Scaler', MinMaxScaler(copy = False)),\n",
    "                     ('CLF', ExtraTreesClassifier(n_jobs = -1))])\n",
    "\n",
    "params = dict(CLF__criterion = ['gini'],\n",
    "              CLF__max_features = [.85],\n",
    "              CLF__min_samples_leaf = [17],\n",
    "              CLF__min_samples_split = [19],\n",
    "              CLF__n_estimators = [100])\n",
    "\n",
    "grid = GridSearchCV(clf_pipe, param_grid = params, cv = 5, n_jobs = -1, verbose = 2, scoring = 'accuracy')\n",
    "\n",
    "%time grid.fit(X,y)"
   ]
  },
  {
   "cell_type": "code",
   "execution_count": 61,
   "metadata": {},
   "outputs": [],
   "source": [
    "# Export model performance metrics to CSV file\n",
    "cvres = pd.DataFrame(grid.cv_results_)\n",
    "cvres.to_csv('ETCClassification_Results 1.csv', index = False)"
   ]
  },
  {
   "cell_type": "code",
   "execution_count": 63,
   "metadata": {},
   "outputs": [
    {
     "name": "stdout",
     "output_type": "stream",
     "text": [
      "######## CV SPLIT  0  #######\n",
      "\n",
      "Wall time: 5.93 s\n",
      "Wall time: 238 ms\n",
      "Extra Trees Classification Accuracy:  0.9195320502452963\n",
      "Precision:  [0.95766711 0.8820883  0.92056681]\n",
      "Recall:  [0.93354954 0.88063463 0.94423686]\n",
      "F Score:  [0.94545455 0.88136087 0.93225161] \n",
      "\n",
      "#############################\n",
      "\n"
     ]
    },
    {
     "data": {
      "image/png": "[encoded data removed]",
      "text/plain": [
       "<Figure size 576x432 with 2 Axes>"
      ]
     },
     "metadata": {
      "needs_background": "light"
     },
     "output_type": "display_data"
    }
   ],
   "source": [
    "# Must use GridSearchCV on final model to get fit times and performance metrics\n",
    "# Run model and output confusion matrix\n",
    "from sklearn.model_selection import ShuffleSplit\n",
    "cv_obj_viz = ShuffleSplit(n_splits = 1, test_size = .2, random_state = 6)\n",
    "\n",
    "# Final KNN model with cross-validation\n",
    "it = 0\n",
    "\n",
    "for train, test in cv_obj_viz.split(X,y):\n",
    "    print('######## CV SPLIT ', it, ' #######\\n')\n",
    "    clf_pipe = Pipeline([('Scaler', MinMaxScaler(copy = False)),\n",
    "                     ('CLF', ExtraTreesClassifier(criterion = 'gini', max_features = .85, min_samples_leaf = 17,\n",
    "                                                    min_samples_split = 19, n_estimators = 100, n_jobs = -1))])\n",
    "        \n",
    "    %time clf_pipe.fit(X[train],y[train])\n",
    "    %time yhat = clf_pipe.predict(X[test])\n",
    "    total_acc = mt.accuracy_score(y[test],yhat)\n",
    "    precision, recall, f_score, support = mt.precision_recall_fscore_support(y[test],yhat, \n",
    "                                                                            labels = [0, 1, 2])\n",
    "        \n",
    "    cf_matrix = mt.confusion_matrix(y[test], yhat)\n",
    "    print('Extra Trees Classification Accuracy: ', total_acc)\n",
    "    print('Precision: ', precision)\n",
    "    print('Recall: ', recall)\n",
    "    print('F Score: ', f_score, '\\n')\n",
    "    #it += 1\n",
    "    print('#############################\\n')\n",
    "\n",
    "    categories = ['Low', 'Average', 'High']\n",
    "    make_confusion_matrix(cf_matrix, figsize=(8,6), cbar=True, sum_stats=True, categories=categories )"
   ]
  },
  {
   "cell_type": "markdown",
   "metadata": {},
   "source": [
    "## <font color = 'blue'>Price Prediction using Regression Modeling\n",
    "<font color = 'blue'>The second task of predicting price was done using TPOTRegressor to determine which type of regression model and related parameters perform best with our numerical data set."
   ]
  },
  {
   "cell_type": "code",
   "execution_count": 65,
   "metadata": {},
   "outputs": [],
   "source": [
    "# Create a new dataset for regression model to predict log_price\n",
    "X = df_num.drop(columns = ['price_class_final', 'log_price', 'price'], axis = 1).values\n",
    "y = df_num.log_price.values\n",
    "\n",
    "# Split the data using 80-20 split for initial TPOT model/grid search\n",
    "X_train, X_test, y_train, y_test = train_test_split(X.astype(np.float64),\n",
    "    y.astype(np.float64), train_size=0.8, test_size=0.2, random_state=6)"
   ]
  },
  {
   "cell_type": "code",
   "execution_count": 67,
   "metadata": {},
   "outputs": [
    {
     "name": "stdout",
     "output_type": "stream",
     "text": [
      "30 operators have been imported by TPOT.\n"
     ]
    },
    {
     "data": {
      "application/vnd.jupyter.widget-view+json": {
       "model_id": "",
       "version_major": 2,
       "version_minor": 0
      },
      "text/plain": [
       "HBox(children=(HTML(value='Optimization Progress'), FloatProgress(value=0.0), HTML(value='')))"
      ]
     },
     "metadata": {},
     "output_type": "display_data"
    },
    {
     "name": "stdout",
     "output_type": "stream",
     "text": [
      "Skipped pipeline #1 due to time out. Continuing to the next pipeline.\n",
      "Skipped pipeline #6 due to time out. Continuing to the next pipeline.\n",
      "Skipped pipeline #13 due to time out. Continuing to the next pipeline.\n",
      "Skipped pipeline #32 due to time out. Continuing to the next pipeline.\n",
      "Skipped pipeline #39 due to time out. Continuing to the next pipeline.\n",
      "\n",
      "Generation 1 - Current Pareto front scores:\n",
      "-1\t-0.350570079073184\tKNeighborsRegressor(input_matrix, KNeighborsRegressor__n_neighbors=75, KNeighborsRegressor__p=1, KNeighborsRegressor__weights=distance)\n",
      "_pre_test decorator: _random_mutation_operator: num_test=0 cosine was provided as affinity. Ward can only work with euclidean distances..ootstrap=False, RandomForestRegressor__max_features=0.25, RandomForestRegressor__min_samples_leaf=5, RandomForestRegressor__min_samples_split=12, RandomForestRegressor__n_estimators=100)\n",
      "Invalid pipeline encountered. Skipping its evaluation.\n",
      "\n",
      "Generation 2 - Current Pareto front scores:\n",
      "-1\t-0.350570079073184\tKNeighborsRegressor(input_matrix, KNeighborsRegressor__n_neighbors=75, KNeighborsRegressor__p=1, KNeighborsRegressor__weights=distance)\n",
      "_pre_test decorator: _random_mutation_operator: num_test=0 Automatic alpha grid generation is not supported for l1_ratio=0. Please supply a grid by providing your estimator with the appropriate `alphas=` argument..or__min_samples_leaf=5, RandomForestRegressor__min_samples_split=12, RandomForestRegressor__n_estimators=100)\n",
      "_pre_test decorator: _random_mutation_operator: num_test=0 Found array with 0 feature(s) (shape=(50, 0)) while a minimum of 1 is required..\n",
      "_pre_test decorator: _random_mutation_operator: num_test=0 array must not contain infs or NaNs.\n",
      "_pre_test decorator: _random_mutation_operator: num_test=1 array must not contain infs or NaNs.\n",
      "Skipped pipeline #99 due to time out. Continuing to the next pipeline.\n",
      "Skipped pipeline #103 due to time out. Continuing to the next pipeline.\n",
      "Skipped pipeline #105 due to time out. Continuing to the next pipeline.\n",
      "\n",
      "Generation 3 - Current Pareto front scores:\n",
      "-1\t-0.350570079073184\tKNeighborsRegressor(input_matrix, KNeighborsRegressor__n_neighbors=75, KNeighborsRegressor__p=1, KNeighborsRegressor__weights=distance)\n",
      "-2\t-0.32222747284181974\tRandomForestRegressor(VarianceThreshold(input_matrix, VarianceThreshold__threshold=0.1), RandomForestRegressor__bootstrap=False, RandomForestRegressor__max_features=0.25, RandomForestRegressor__min_samples_leaf=5, RandomForestRegressor__min_samples_split=12, RandomForestRegressor__n_estimators=100)-0.31175689720837496\n"
     ]
    }
   ],
   "source": [
    "from tpot import TPOTRegressor\n",
    "\n",
    "# Run TPOT Regressor\n",
    "tpot = TPOTRegressor(generations = 3, population_size = 25, verbosity = 3, n_jobs = -1, random_state = 6)\n",
    "tpot.fit(X_train, y_train)\n",
    "print(tpot.score(X_test, y_test))\n",
    "tpot.export('tpot_reg_pipeline.py')"
   ]
  },
  {
   "cell_type": "markdown",
   "metadata": {},
   "source": [
    "<font color = 'blue'>The TPOT Regressor analysis indicated that the both K-Neighbors and Random Forest regression models may be effective in predicting log price.  The recommended hyperparameters will be used to train our regression models.\n",
    "\n",
    "## <font color = 'blue'>K-Neighbors Regression"
   ]
  },
  {
   "cell_type": "code",
   "execution_count": 72,
   "metadata": {},
   "outputs": [
    {
     "name": "stdout",
     "output_type": "stream",
     "text": [
      "Fitting 5 folds for each of 1 candidates, totalling 5 fits\n"
     ]
    },
    {
     "name": "stderr",
     "output_type": "stream",
     "text": [
      "[Parallel(n_jobs=-1)]: Using backend LokyBackend with 32 concurrent workers.\n",
      "[Parallel(n_jobs=-1)]: Done   2 out of   5 | elapsed:  2.1min remaining:  3.2min\n",
      "[Parallel(n_jobs=-1)]: Done   5 out of   5 | elapsed:  2.5min remaining:    0.0s\n",
      "[Parallel(n_jobs=-1)]: Done   5 out of   5 | elapsed:  2.5min finished\n"
     ]
    },
    {
     "name": "stdout",
     "output_type": "stream",
     "text": [
      "Wall time: 4min 53s\n"
     ]
    },
    {
     "data": {
      "text/plain": [
       "GridSearchCV(cv=5,\n",
       "             estimator=Pipeline(steps=[('Scaler', MinMaxScaler(copy=False)),\n",
       "                                       ('REG',\n",
       "                                        KNeighborsRegressor(n_jobs=-1))]),\n",
       "             n_jobs=-1,\n",
       "             param_grid={'REG__n_neighbors': [75], 'REG__p': [1],\n",
       "                         'REG__weights': ['distance']},\n",
       "             scoring='neg_mean_squared_error', verbose=2)"
      ]
     },
     "execution_count": 72,
     "metadata": {},
     "output_type": "execute_result"
    }
   ],
   "source": [
    "# Using TPOT hyperparameters, train the model\n",
    "from sklearn.neighbors import KNeighborsRegressor\n",
    "\n",
    "# Must use GridSearchCV on final model to get fit times and performance metrics\n",
    "reg_pipe = Pipeline([('Scaler', MinMaxScaler(copy = False)),\n",
    "                     ('REG', KNeighborsRegressor(n_jobs = -1))])\n",
    "\n",
    "params = dict(REG__n_neighbors = [75],\n",
    "              REG__weights = ['distance'],\n",
    "              REG__p = [1])\n",
    "\n",
    "grid = GridSearchCV(reg_pipe, param_grid = params, cv = 5, n_jobs = -1, verbose = 2, scoring = 'neg_mean_squared_error')\n",
    "\n",
    "%time grid.fit(X,y)"
   ]
  },
  {
   "cell_type": "code",
   "execution_count": 73,
   "metadata": {},
   "outputs": [],
   "source": [
    "# Export model performance metrics to CSV file\n",
    "cvres = pd.DataFrame(grid.cv_results_)\n",
    "cvres.to_csv('KNNRegression_Results 1.csv', index = False)"
   ]
  },
  {
   "cell_type": "code",
   "execution_count": 78,
   "metadata": {},
   "outputs": [],
   "source": [
    "# Run a KNeighborsRegressor in cv_obj loop to gather visualization data\n",
    "cv_obj = ShuffleSplit(n_splits = 5, random_state = 6)\n",
    "\n"
   ]
  },
  {
   "cell_type": "markdown",
   "metadata": {},
   "source": [
    "## <font color = 'blue'>Random Forest Regression\n",
    "<font color = 'blue'>Using the TPOT recommended hyperparameters a random forest regression model will be trained on our data."
   ]
  },
  {
   "cell_type": "code",
   "execution_count": 75,
   "metadata": {},
   "outputs": [
    {
     "name": "stdout",
     "output_type": "stream",
     "text": [
      "Fitting 5 folds for each of 1 candidates, totalling 5 fits\n"
     ]
    },
    {
     "name": "stderr",
     "output_type": "stream",
     "text": [
      "[Parallel(n_jobs=-1)]: Using backend LokyBackend with 32 concurrent workers.\n",
      "[Parallel(n_jobs=-1)]: Done   2 out of   5 | elapsed:   11.4s remaining:   17.2s\n",
      "[Parallel(n_jobs=-1)]: Done   5 out of   5 | elapsed:   11.8s remaining:    0.0s\n",
      "[Parallel(n_jobs=-1)]: Done   5 out of   5 | elapsed:   11.8s finished\n"
     ]
    },
    {
     "name": "stdout",
     "output_type": "stream",
     "text": [
      "Wall time: 14.1 s\n"
     ]
    },
    {
     "data": {
      "text/plain": [
       "GridSearchCV(cv=5,\n",
       "             estimator=Pipeline(steps=[('Scaler', MinMaxScaler(copy=False)),\n",
       "                                       ('REG',\n",
       "                                        RandomForestRegressor(n_jobs=-1))]),\n",
       "             n_jobs=-1,\n",
       "             param_grid={'REG__bootstrap': [False], 'REG__max_features': [0.25],\n",
       "                         'REG__min_samples_leaf': [5],\n",
       "                         'REG__min_samples_split': [12],\n",
       "                         'REG__n_estimators': [100]},\n",
       "             scoring='neg_mean_squared_error', verbose=2)"
      ]
     },
     "execution_count": 75,
     "metadata": {},
     "output_type": "execute_result"
    }
   ],
   "source": [
    "# Using TPOT hyperparameters, train the model\n",
    "from sklearn.ensemble import RandomForestRegressor\n",
    "\n",
    "# Must use GridSearchCV on final model to get fit times and performance metrics\n",
    "reg_pipe = Pipeline([('Scaler', MinMaxScaler(copy = False)),\n",
    "                     ('REG', RandomForestRegressor(n_jobs = -1))])\n",
    "\n",
    "params = dict(REG__bootstrap = [False],\n",
    "              REG__max_features = [0.25],\n",
    "              REG__min_samples_leaf = [5],\n",
    "              REG__min_samples_split = [12],\n",
    "              REG__n_estimators = [100])\n",
    "\n",
    "grid = GridSearchCV(reg_pipe, param_grid = params, cv = 5, n_jobs = -1, verbose = 2, scoring = 'neg_mean_squared_error')\n",
    "\n",
    "%time grid.fit(X,y)"
   ]
  },
  {
   "cell_type": "code",
   "execution_count": 76,
   "metadata": {},
   "outputs": [],
   "source": [
    "# Export model performance metrics to CSV file\n",
    "cvres = pd.DataFrame(grid.cv_results_)\n",
    "cvres.to_csv('RFRegression_Results 1.csv', index = False)"
   ]
  },
  {
   "cell_type": "code",
   "execution_count": null,
   "metadata": {},
   "outputs": [],
   "source": [
    "#######################################\n",
    "# Can get feature_importances_, MSE\n",
    "# Use CV Loop to gather visualization data\n",
    "for train, test in cv_obj.split(X,y):\n",
    "    "
   ]
  },
  {
   "cell_type": "markdown",
   "metadata": {},
   "source": [
    "## Deep Learning Regression"
   ]
  },
  {
   "cell_type": "code",
   "execution_count": 5,
   "metadata": {},
   "outputs": [],
   "source": [
    "# Create a new dataset for regression model to predict log_price\n",
    "X = df_num.drop(columns = ['price_class_final', 'log_price', 'price'], axis = 1).values\n",
    "y = df_num.log_price.values\n"
   ]
  },
  {
   "cell_type": "code",
   "execution_count": 9,
   "metadata": {},
   "outputs": [
    {
     "name": "stdout",
     "output_type": "stream",
     "text": [
      "Epoch 1/10\n",
      "370978/370978 [==============================] - 79s 214us/step - loss: 3.1863\n",
      "Epoch 2/10\n",
      "370978/370978 [==============================] - 79s 213us/step - loss: 0.9545\n",
      "Epoch 3/10\n",
      "370978/370978 [==============================] - 83s 223us/step - loss: 1.1446\n",
      "Epoch 4/10\n",
      "370978/370978 [==============================] - 81s 219us/step - loss: 0.6322\n",
      "Epoch 5/10\n",
      "370978/370978 [==============================] - 82s 221us/step - loss: 0.6508\n",
      "Epoch 6/10\n",
      "370978/370978 [==============================] - 83s 223us/step - loss: 0.7758\n",
      "Epoch 7/10\n",
      "370978/370978 [==============================] - 85s 228us/step - loss: 0.5575\n",
      "Epoch 8/10\n",
      "370978/370978 [==============================] - 86s 232us/step - loss: 0.5396\n",
      "Epoch 9/10\n",
      "370978/370978 [==============================] - 85s 230us/step - loss: 0.71000s - loss: 0.\n",
      "Epoch 10/10\n",
      "370978/370978 [==============================] - 85s 229us/step - loss: 0.6098\n",
      "92745/92745 [==============================] - 7s 74us/step\n",
      "Epoch 1/10\n",
      "370978/370978 [==============================] - 85s 229us/step - loss: 4.4923\n",
      "Epoch 2/10\n",
      "370978/370978 [==============================] - 83s 225us/step - loss: 0.7616\n",
      "Epoch 3/10\n",
      "370978/370978 [==============================] - 84s 225us/step - loss: 0.5985\n",
      "Epoch 4/10\n",
      "370978/370978 [==============================] - 85s 229us/step - loss: 1.5163\n",
      "Epoch 5/10\n",
      "370978/370978 [==============================] - 84s 225us/step - loss: 0.8731\n",
      "Epoch 6/10\n",
      "370978/370978 [==============================] - 84s 227us/step - loss: 0.5176\n",
      "Epoch 7/10\n",
      "370978/370978 [==============================] - 84s 226us/step - loss: 0.5040\n",
      "Epoch 8/10\n",
      "370978/370978 [==============================] - 84s 227us/step - loss: 0.6321\n",
      "Epoch 9/10\n",
      "370978/370978 [==============================] - 84s 227us/step - loss: 0.5058\n",
      "Epoch 10/10\n",
      "370978/370978 [==============================] - 85s 228us/step - loss: 0.5243\n",
      "92745/92745 [==============================] - 7s 74us/step\n",
      "Epoch 1/10\n",
      "370978/370978 [==============================] - 85s 228us/step - loss: 1.5273\n",
      "Epoch 2/10\n",
      "370978/370978 [==============================] - 85s 229us/step - loss: 2.5179\n",
      "Epoch 3/10\n",
      "370978/370978 [==============================] - 84s 226us/step - loss: 1.0082\n",
      "Epoch 4/10\n",
      "370978/370978 [==============================] - 83s 225us/step - loss: 1.3296\n",
      "Epoch 5/10\n",
      "370978/370978 [==============================] - 86s 231us/step - loss: 1.0920\n",
      "Epoch 6/10\n",
      "370978/370978 [==============================] - 87s 234us/step - loss: 0.7393\n",
      "Epoch 7/10\n",
      "370978/370978 [==============================] - 86s 233us/step - loss: 0.9030\n",
      "Epoch 8/10\n",
      "370978/370978 [==============================] - 85s 230us/step - loss: 0.5504\n",
      "Epoch 9/10\n",
      "370978/370978 [==============================] - 86s 231us/step - loss: 1.2068\n",
      "Epoch 10/10\n",
      "370978/370978 [==============================] - 85s 230us/step - loss: 1.3029\n",
      "92745/92745 [==============================] - 7s 77us/step\n",
      "Epoch 1/10\n",
      "370979/370979 [==============================] - 84s 228us/step - loss: 1.7789\n",
      "Epoch 2/10\n",
      "370979/370979 [==============================] - 87s 234us/step - loss: 0.6137\n",
      "Epoch 3/10\n",
      "370979/370979 [==============================] - 87s 233us/step - loss: 1.6789\n",
      "Epoch 4/10\n",
      "370979/370979 [==============================] - 85s 230us/step - loss: 0.6316\n",
      "Epoch 5/10\n",
      "370979/370979 [==============================] - 86s 231us/step - loss: 0.6588\n",
      "Epoch 6/10\n",
      "370979/370979 [==============================] - 86s 231us/step - loss: 0.5894\n",
      "Epoch 7/10\n",
      "370979/370979 [==============================] - 83s 225us/step - loss: 0.5602\n",
      "Epoch 8/10\n",
      "370979/370979 [==============================] - 82s 222us/step - loss: 0.5304\n",
      "Epoch 9/10\n",
      "370979/370979 [==============================] - 84s 225us/step - loss: 0.5224\n",
      "Epoch 10/10\n",
      "370979/370979 [==============================] - 84s 225us/step - loss: 0.6520\n",
      "92744/92744 [==============================] - 7s 76us/step\n",
      "Epoch 1/10\n",
      "370979/370979 [==============================] - 85s 230us/step - loss: 1.2747\n",
      "Epoch 2/10\n",
      "370979/370979 [==============================] - 85s 228us/step - loss: 0.4950\n",
      "Epoch 3/10\n",
      "370979/370979 [==============================] - 85s 229us/step - loss: 0.4609\n",
      "Epoch 4/10\n",
      "370979/370979 [==============================] - 85s 228us/step - loss: 0.4554\n",
      "Epoch 5/10\n",
      "370979/370979 [==============================] - 84s 227us/step - loss: 0.4481\n",
      "Epoch 6/10\n",
      "370979/370979 [==============================] - 84s 226us/step - loss: 0.4375\n",
      "Epoch 7/10\n",
      "370979/370979 [==============================] - 85s 228us/step - loss: 0.4154\n",
      "Epoch 8/10\n",
      "370979/370979 [==============================] - 86s 231us/step - loss: 0.4236\n",
      "Epoch 9/10\n",
      "370979/370979 [==============================] - 84s 225us/step - loss: 0.4120\n",
      "Epoch 10/10\n",
      "370979/370979 [==============================] - 85s 228us/step - loss: 0.4028\n",
      "92744/92744 [==============================] - 7s 78us/step\n",
      "Wider: -0.49 (0.09) MSE\n"
     ]
    }
   ],
   "source": [
    "# Regression: Standardized and Wider\n",
    "from pandas import read_csv\n",
    "from keras.models import Sequential\n",
    "from keras.layers import Dense\n",
    "from keras.wrappers.scikit_learn import KerasRegressor\n",
    "from sklearn.model_selection import cross_val_score\n",
    "from sklearn.model_selection import KFold\n",
    "from sklearn.preprocessing import StandardScaler\n",
    "from sklearn.pipeline import Pipeline\n",
    "\n",
    "# define wider model\n",
    "def wider_model():\n",
    "\t# create model\n",
    "\tmodel = Sequential()\n",
    "\tmodel.add(Dense(20, input_dim=5, kernel_initializer='normal', activation='relu'))\n",
    "\tmodel.add(Dense(1, kernel_initializer='normal'))\n",
    "\t# Compile model\n",
    "\tmodel.compile(loss='mean_squared_error', optimizer='adam')\n",
    "\treturn model\n",
    "# evaluate model with standardized dataset\n",
    "estimators = []\n",
    "estimators.append(('standardize', StandardScaler()))\n",
    "estimators.append(('mlp', KerasRegressor(build_fn=wider_model, epochs=10, batch_size=5, verbose=1)))\n",
    "pipeline = Pipeline(estimators)\n",
    "kfold = KFold(n_splits=5)\n",
    "results = cross_val_score(pipeline, X, y, cv=kfold)\n",
    "print(\"Wider: %.2f (%.2f) MSE\" % (results.mean(), results.std()))"
   ]
  },
  {
   "cell_type": "code",
   "execution_count": 14,
   "metadata": {},
   "outputs": [
    {
     "ename": "AttributeError",
     "evalue": "'Pipeline' object has no attribute 'mlp'",
     "output_type": "error",
     "traceback": [
      "\u001b[1;31m---------------------------------------------------------------------------\u001b[0m",
      "\u001b[1;31mAttributeError\u001b[0m                            Traceback (most recent call last)",
      "\u001b[1;32m<ipython-input-14-16c49d96fda7>\u001b[0m in \u001b[0;36m<module>\u001b[1;34m\u001b[0m\n\u001b[0;32m      1\u001b[0m \u001b[1;31m# Get weights from deep learning model\u001b[0m\u001b[1;33m\u001b[0m\u001b[1;33m\u001b[0m\u001b[1;33m\u001b[0m\u001b[0m\n\u001b[1;32m----> 2\u001b[1;33m \u001b[0mweights\u001b[0m \u001b[1;33m=\u001b[0m \u001b[0mpipeline\u001b[0m\u001b[1;33m.\u001b[0m\u001b[0mmlp\u001b[0m\u001b[1;33m.\u001b[0m\u001b[0mlayers\u001b[0m\u001b[1;33m[\u001b[0m\u001b[1;36m0\u001b[0m\u001b[1;33m]\u001b[0m\u001b[1;33m.\u001b[0m\u001b[0mget_weights\u001b[0m\u001b[1;33m[\u001b[0m\u001b[1;36m0\u001b[0m\u001b[1;33m]\u001b[0m\u001b[1;33m\u001b[0m\u001b[1;33m\u001b[0m\u001b[0m\n\u001b[0m\u001b[0;32m      3\u001b[0m \u001b[0mbiases\u001b[0m \u001b[1;33m=\u001b[0m \u001b[0mpipeline\u001b[0m\u001b[1;33m.\u001b[0m\u001b[0mmlp\u001b[0m\u001b[1;33m.\u001b[0m\u001b[0mlayers\u001b[0m\u001b[1;33m[\u001b[0m\u001b[1;36m0\u001b[0m\u001b[1;33m]\u001b[0m\u001b[1;33m.\u001b[0m\u001b[0mget_weights\u001b[0m\u001b[1;33m[\u001b[0m\u001b[1;36m1\u001b[0m\u001b[1;33m]\u001b[0m\u001b[1;33m\u001b[0m\u001b[1;33m\u001b[0m\u001b[0m\n",
      "\u001b[1;31mAttributeError\u001b[0m: 'Pipeline' object has no attribute 'mlp'"
     ]
    }
   ],
   "source": [
    "###### How to get weights from model?\n",
    "# Get weights from deep learning model\n",
    "weights = pipeline.mlp.layers[0].get_weights[0]\n",
    "biases = pipeline.mlp.layers[0].get_weights[1]"
   ]
  },
  {
   "cell_type": "code",
   "execution_count": null,
   "metadata": {},
   "outputs": [],
   "source": []
  },
  {
   "cell_type": "code",
   "execution_count": null,
   "metadata": {},
   "outputs": [],
   "source": []
  },
  {
   "cell_type": "code",
   "execution_count": null,
   "metadata": {},
   "outputs": [],
   "source": []
  },
  {
   "cell_type": "code",
   "execution_count": null,
   "metadata": {},
   "outputs": [],
   "source": []
  },
  {
   "cell_type": "code",
   "execution_count": null,
   "metadata": {},
   "outputs": [],
   "source": []
  },
  {
   "cell_type": "code",
   "execution_count": null,
   "metadata": {},
   "outputs": [],
   "source": []
  },
  {
   "cell_type": "code",
   "execution_count": null,
   "metadata": {},
   "outputs": [],
   "source": []
  },
  {
   "cell_type": "markdown",
   "metadata": {},
   "source": [
    "# <font color = 'red'> Old models using full dataset. Keep?"
   ]
  },
  {
   "cell_type": "code",
   "execution_count": 10,
   "metadata": {},
   "outputs": [],
   "source": [
    "# Create cross validation, standard scalar, and PCA object\n",
    "cv_obj = StratifiedKFold(n_splits = 5, random_state = 6)\n",
    "clf = KNeighborsClassifier(n_jobs = -1)\n",
    "ss = StandardScaler()\n",
    "\n",
    "# Require the number of components used to have 99% variance explained\n",
    "pca = PCA(n_components = .99, svd_solver = 'full', random_state = 6)\n",
    "\n",
    "X = trans.drop(columns = ['price_class']).values\n",
    "y = trans.price_class.values"
   ]
  },
  {
   "cell_type": "code",
   "execution_count": 8,
   "metadata": {},
   "outputs": [
    {
     "name": "stdout",
     "output_type": "stream",
     "text": [
      "Wall time: 1min 1s\n",
      "Wall time: 35.3 s\n",
      "====Iteration 0  ====\n",
      "accuracy 0.5895031718942294\n",
      "confusion matrix\n",
      " [[28409 12493  8278]\n",
      " [15199 33471  2664]\n",
      " [17204  4535 24820]]\n",
      "Recall, Precision, Fscore\n",
      " (array([0.46716109, 0.6628052 , 0.69403277]), array([0.57765352, 0.652024  , 0.53308705]), array([0.51656484, 0.6573704 , 0.60300531]), array([49180, 51334, 46559], dtype=int64))\n",
      "Wall time: 1min 1s\n",
      "Wall time: 36.2 s\n",
      "====Iteration 1  ====\n",
      "accuracy 0.5927232919930374\n",
      "confusion matrix\n",
      " [[26853 12579  9748]\n",
      " [14258 33882  3193]\n",
      " [15270  4851 26438]]\n",
      "Recall, Precision, Fscore\n",
      " (array([0.47627747, 0.66031338, 0.67137307]), array([0.54601464, 0.66004325, 0.56783866]), array([0.50876744, 0.66017828, 0.61528078]), array([49180, 51333, 46559], dtype=int64))\n",
      "Wall time: 1min 1s\n",
      "Wall time: 31.4 s\n",
      "====Iteration 2  ====\n",
      "accuracy 0.3939117841042762\n",
      "confusion matrix\n",
      " [[ 7571  3325 38283]\n",
      " [ 7267  7598 36468]\n",
      " [ 2667  1128 42764]]\n",
      "Recall, Precision, Fscore\n",
      " (array([0.432505  , 0.6304871 , 0.36390248]), array([0.15394782, 0.14801395, 0.91849052]), array([0.22707096, 0.23974505, 0.52127698]), array([49179, 51333, 46559], dtype=int64))\n"
     ]
    }
   ],
   "source": [
    "# Split dataset and fit PCA to data\n",
    "iter_num=0\n",
    "\n",
    "# Iterate over the split data\n",
    "for train_indices, test_indices in cv_obj.split(X,y): \n",
    "\n",
    "    X_train = X[train_indices]\n",
    "    y_train = y[train_indices]\n",
    "    X_test = X[test_indices]\n",
    "    y_test = y[test_indices]\n",
    "    \n",
    "    # Scale training and test data to training data scale\n",
    "    scaled_features = X_train.copy()\n",
    "    X_train = ss.fit_transform(scaled_features)\n",
    "    X_test = ss.fit(scaled_features).transform(X_test)\n",
    "    \n",
    "    # Run the PCA algorithm on the data\n",
    "    %time Xtrain_pca = pca.fit(X_train).transform(X_train)\n",
    "    Xtest_pca = pca.transform(X_test)\n",
    "    \n",
    "    # train the KNN model on the training data\n",
    "    %time clf.fit(Xtrain_pca,y_train)\n",
    "    y_hat = clf.predict(Xtest_pca)\n",
    "\n",
    "    # Print the accuracy, precision, recall, fscore, and confusion matrix for each iteration\n",
    "    acc = mt.accuracy_score(y_test,y_hat)\n",
    "    metrics = mt.precision_recall_fscore_support(y_test, y_hat)\n",
    "    conf = mt.confusion_matrix(y_test,y_hat)\n",
    "    print(\"====Iteration\",iter_num,\" ====\")\n",
    "    print(\"accuracy\", acc )\n",
    "    print(\"confusion matrix\\n\",conf)\n",
    "    print(\"Recall, Precision, Fscore\\n\", metrics)\n",
    "    iter_num+=1"
   ]
  },
  {
   "cell_type": "code",
   "execution_count": 8,
   "metadata": {},
   "outputs": [
    {
     "name": "stdout",
     "output_type": "stream",
     "text": [
      "Wall time: 11.6 s\n",
      "Wall time: 1min 2s\n",
      "Fitting 3 folds for each of 3 candidates, totalling 9 fits\n"
     ]
    },
    {
     "name": "stderr",
     "output_type": "stream",
     "text": [
      "[Parallel(n_jobs=-1)]: Using backend LokyBackend with 32 concurrent workers.\n",
      "[Parallel(n_jobs=-1)]: Done   6 out of   9 | elapsed: 25.6min remaining: 12.8min\n",
      "[Parallel(n_jobs=-1)]: Done   9 out of   9 | elapsed: 34.9min finished\n"
     ]
    },
    {
     "name": "stdout",
     "output_type": "stream",
     "text": [
      "Wall time: 35min 29s\n",
      "Wall time: 1min 39s\n",
      "====Iteration 0  ====\n",
      "accuracy 0.6194134885397048\n",
      "confusion matrix\n",
      " [[29232 11005  8943]\n",
      " [14228 34304  2802]\n",
      " [15565  3431 27563]]\n",
      "Recall, Precision, Fscore\n",
      " (array([0.49524778, 0.70381617, 0.70120586]), array([0.59438796, 0.66825106, 0.59200155]), array([0.54030775, 0.68557268, 0.64199285]), array([49180, 51334, 46559], dtype=int64))\n",
      "best estimator {'n_neighbors': 30}\n",
      "score 0.5326796830113244\n",
      "Wall time: 10.4 s\n",
      "Wall time: 1min 2s\n",
      "Fitting 3 folds for each of 3 candidates, totalling 9 fits\n"
     ]
    },
    {
     "name": "stderr",
     "output_type": "stream",
     "text": [
      "[Parallel(n_jobs=-1)]: Using backend LokyBackend with 32 concurrent workers.\n",
      "[Parallel(n_jobs=-1)]: Done   6 out of   9 | elapsed: 23.8min remaining: 11.9min\n",
      "[Parallel(n_jobs=-1)]: Done   9 out of   9 | elapsed: 35.1min finished\n"
     ]
    },
    {
     "name": "stdout",
     "output_type": "stream",
     "text": [
      "Wall time: 35min 44s\n",
      "Wall time: 1min 32s\n",
      "====Iteration 1  ====\n",
      "accuracy 0.6192069190600522\n",
      "confusion matrix\n",
      " [[27487 11358 10335]\n",
      " [13242 34558  3533]\n",
      " [13565  3971 29023]]\n",
      "Recall, Precision, Fscore\n",
      " (array([0.5062622 , 0.69272556, 0.67666877]), array([0.55890606, 0.67321216, 0.62335961]), array([0.53128322, 0.68282948, 0.64892119]), array([49180, 51333, 46559], dtype=int64))\n",
      "best estimator {'n_neighbors': 30}\n",
      "score 0.5545277143167973\n",
      "Wall time: 11 s\n",
      "Wall time: 1min 3s\n",
      "Fitting 3 folds for each of 3 candidates, totalling 9 fits\n"
     ]
    },
    {
     "name": "stderr",
     "output_type": "stream",
     "text": [
      "[Parallel(n_jobs=-1)]: Using backend LokyBackend with 32 concurrent workers.\n",
      "[Parallel(n_jobs=-1)]: Done   6 out of   9 | elapsed: 14.0min remaining:  7.0min\n",
      "[Parallel(n_jobs=-1)]: Done   9 out of   9 | elapsed: 21.8min finished\n"
     ]
    },
    {
     "name": "stdout",
     "output_type": "stream",
     "text": [
      "Wall time: 22min 21s\n",
      "Wall time: 5min 27s\n",
      "====Iteration 2  ====\n",
      "accuracy 0.38814586152266595\n",
      "confusion matrix\n",
      " [[ 5079  2996 41104]\n",
      " [ 3509  7548 40276]\n",
      " [  722  1379 44458]]\n",
      "Recall, Precision, Fscore\n",
      " (array([0.54554243, 0.63306215, 0.35329551]), array([0.10327579, 0.14703992, 0.95487446]), array([0.17367368, 0.2386493 , 0.51576304]), array([49179, 51333, 46559], dtype=int64))\n",
      "best estimator {'n_neighbors': 30}\n",
      "score 0.6305359601557056\n"
     ]
    }
   ],
   "source": [
    "# Now repeat the above process using a grid search algorithm\n",
    "from sklearn.model_selection import GridSearchCV\n",
    "\n",
    "gs_clf = GridSearchCV(clf, param_grid = {'n_neighbors': [10, 20, 30]}, n_jobs = -1, verbose = 2, cv = 3)\n",
    "\n",
    "# Split dataset and fit PCA to data\n",
    "iter_num=0\n",
    "\n",
    "# Iterate over the split data\n",
    "for train_indices, test_indices in cv_obj.split(X,y): \n",
    "\n",
    "    X_train = X[train_indices]\n",
    "    y_train = y[train_indices]\n",
    "    X_test = X[test_indices]\n",
    "    y_test = y[test_indices]\n",
    "    \n",
    "    # Scale training and test data to training data scale\n",
    "    scaled_features = X_train.copy()\n",
    "    %time X_train = ss.fit_transform(scaled_features)\n",
    "    X_test = ss.fit(scaled_features).transform(X_test)\n",
    "    \n",
    "    # Run the PCA algorithm on the data\n",
    "    %time Xtrain_pca = pca.fit(X_train).transform(X_train)\n",
    "    Xtest_pca = pca.transform(X_test)\n",
    "    \n",
    "    # train the KNN model on the training data\n",
    "    %time gs_clf.fit(Xtrain_pca,y_train)\n",
    "    %time y_hat = gs_clf.predict(Xtest_pca)\n",
    "\n",
    "    # Print the accuracy, precision, recall, fscore, and confusion matrix for each iteration\n",
    "    acc = mt.accuracy_score(y_test,y_hat)\n",
    "    metrics = mt.precision_recall_fscore_support(y_test, y_hat)\n",
    "    conf = mt.confusion_matrix(y_test,y_hat)\n",
    "    print(\"====Iteration\",iter_num,\" ====\")\n",
    "    print(\"accuracy\", acc )\n",
    "    print(\"confusion matrix\\n\",conf)\n",
    "    print(\"Recall, Precision, Fscore\\n\", metrics)\n",
    "    print(\"best estimator\", gs_clf.best_params_)\n",
    "    print(\"score\", gs_clf.best_score_)\n",
    "    iter_num+=1"
   ]
  },
  {
   "cell_type": "markdown",
   "metadata": {},
   "source": [
    "# <font color = 'blue'>V.Modeling and Evaluation 4: Analyzing the results using F1, and Accuracy Metrics\n",
    "\n",
    "<font color = 'blue'>Classification Task Using KNN, RFC, ETC:  Price_class categories: Low, Average, High\n",
    "\n",
    "<font color = 'blue'>                        Accuracy   Precision     Recall    F-Score\n",
    "\n",
    "<font color = 'blue'>KNN:                      85.2\n",
    "\n",
    "<font color = 'blue'>RFC:                      93.4        \n",
    "\n",
    "<font color = 'blue'>ETC:                      92.0\n",
    "\n",
    "\n",
    "<font color = 'blue'>Regression Task using KNN, RFC, ETC to Predict Prices"
   ]
  },
  {
   "cell_type": "markdown",
   "metadata": {},
   "source": [
    "# <font color = 'blue'>VI. Modeling and Evaluation 5: Model Comparisons:  Relative Advantages and Statistical Significance\n"
   ]
  },
  {
   "cell_type": "code",
   "execution_count": 19,
   "metadata": {},
   "outputs": [
    {
     "name": "stdout",
     "output_type": "stream",
     "text": [
      "t statistic: 9.972\n",
      "p value: 0.000\n"
     ]
    }
   ],
   "source": [
    "# Statistical test 5x2 CV t-test\n",
    "from mlxtend.evaluate import paired_ttest_5x2cv\n",
    "\n",
    "# Split data into features and target\n",
    "X = df_num.drop('price_class_final', axis = 1).values\n",
    "y = df_num.price_class_final.values\n",
    "\n",
    "\n",
    "# Create objects for each model you wish to compare\n",
    "rf_pipe = Pipeline([('Scaler', MinMaxScaler(copy = False)),\n",
    "                     ('CLF', RandomForestClassifier(n_jobs = -1, criterion = 'gini', max_features = .35, min_samples_leaf = 2, \n",
    "                                min_samples_split = 16, n_estimators = 100))])\n",
    "\n",
    "et_pipe = Pipeline([('Scaler', MinMaxScaler(copy = False)),\n",
    "                     ('CLF', ExtraTreesClassifier(n_jobs = -1, criterion = 'gini', max_features = .85, min_samples_leaf = 17, \n",
    "                                min_samples_split = 19, n_estimators = 100))])\n",
    "\n",
    "t, p = paired_ttest_5x2cv(estimator1 = rf_pipe, estimator2 = et_pipe, X = X, y = y, random_seed = 6)\n",
    "\n",
    "print('t statistic: %.3f' % t)\n",
    "print('p value: %.3f' % p)"
   ]
  },
  {
   "cell_type": "markdown",
   "metadata": {},
   "source": [
    "<font color = 'blue'>At the alpha = 0.05 significance level, we are 95% confident that these two models, the random forest and extra trees classifiers are statistically different. This indicates that the random forest classifier is the most fitting model to use for classification purposes."
   ]
  },
  {
   "cell_type": "code",
   "execution_count": null,
   "metadata": {},
   "outputs": [],
   "source": [
    "# Compare Random Forest Regression and deep learning model to test for differences\n",
    "rf_reg_pipe = Pipeline([('Scaler', MinMaxScaler(copy = False)),\n",
    "                     ('REG', RandomForestRegressor(n_jobs = -1, bootstrap = False, max_features = .25,\n",
    "                                                  min_samples_leaf = 5, min_samples_split = 12, n_estimators = 100))])\n",
    "\n",
    "# How to get Deep learning model object????? "
   ]
  },
  {
   "cell_type": "code",
   "execution_count": null,
   "metadata": {},
   "outputs": [],
   "source": []
  },
  {
   "cell_type": "code",
   "execution_count": null,
   "metadata": {},
   "outputs": [],
   "source": []
  },
  {
   "cell_type": "code",
   "execution_count": null,
   "metadata": {},
   "outputs": [],
   "source": []
  },
  {
   "cell_type": "code",
   "execution_count": null,
   "metadata": {},
   "outputs": [],
   "source": []
  },
  {
   "cell_type": "markdown",
   "metadata": {},
   "source": [
    "# <font color = 'blue'>VII.Modeling and Evaluation 6: Attribute Importance and Model Usefulness\n",
    "\n"
   ]
  },
  {
   "cell_type": "markdown",
   "metadata": {},
   "source": [
    "# <font color = 'blue'>VIII. Deployment\n",
    "<font color = 'blue'>Our model can be used by potential investors wanting to do due diligence on properties for sale in South America.  In order to stay relevant, the model will need to be updated on a quarterly basis to reflect market fluctuations.  In addition, there is a high degree of data wrangling and preprocessing needed in terms of combining data sets from different countries and quality checks for missing or invalid data values.  Given this detailed maintenance and since regular updates are needed, a user subscription based deployment would be ideal to keep our model accurate and end-user friendly."
   ]
  },
  {
   "cell_type": "markdown",
   "metadata": {},
   "source": [
    "# <font color = 'blue'>VIIII.  Exception Work\n",
    "\n",
    "<font color = 'blue'>Exceptional work credits are requested for the following task:\n",
    "\n",
    "<font color = 'blue'>1.  Data Wrangling: to get to a practical, usable dataset that was representative of properties for sale in South America, we combined separate data sets from five different countries: Argentina, Columbia, Ecuador, Peru, and Uruguay, did quality checks for invalid values and imputed missing data values using feature specific medians.  \n",
    "    \n",
    "<font color = 'blue'>2.  TPOT was used to efficiently evaluate and find the best peforming algorithm and related parameters; In comparison to our initial attempts using GridSearchCV with our large dataset which sometimes took as long as 12 hours to run with 3-fold CV with over 1,214 features, TPOT took about 2 hours to run and resulted in higher performance as measured by accuracy and precision for both our classification and regression tasks.\n"
   ]
  },
  {
   "cell_type": "code",
   "execution_count": null,
   "metadata": {},
   "outputs": [],
   "source": []
  },
  {
   "cell_type": "markdown",
   "metadata": {},
   "source": [
    "## Principal Component Analysis\n",
    "Features in both datasets will be normalized and Principal Component Analysis will be conducted to reduce the dimensionality of our dataset. This will allow us to extract latent information which is thought to be contained within country, province, and department features, while significantly reducing our dataset size and model computation times.\n",
    "\n",
    "# PCA for transformed dataset\n",
    "from sklearn.decomposition import PCA\n",
    "from sklearn.discriminant_analysis import LinearDiscriminantAnalysis as LDA\n",
    "\n",
    "X = trans.drop(columns = ['price_class']).values\n",
    "y = trans.price_class\n",
    "\n",
    "pca = PCA(n_components = 10, random_state = 6)\n",
    "X_pca = pca.fit(X).transform(X)\n",
    "\n",
    "print('pca: ', pca.components_)"
   ]
  },
  {
   "cell_type": "code",
   "execution_count": 15,
   "metadata": {},
   "outputs": [
    {
     "name": "stdout",
     "output_type": "stream",
     "text": [
      "pca variance explained:  [7.25915920e-01 2.68862366e-01 1.16526088e-03 5.90946039e-04\n",
      " 3.93789852e-04 2.69261263e-04 2.33105627e-04 2.02883871e-04\n",
      " 1.62168838e-04 1.45526174e-04]\n",
      "Cumulative  0.9979412291040144\n",
      "first 3  0.9959435474386268\n"
     ]
    }
   ],
   "source": [
    "print('pca variance explained: ', pca.explained_variance_ratio_)\n",
    "print('Cumulative ', sum(pca.explained_variance_ratio_))\n",
    "print('first 3 ', sum(pca.explained_variance_ratio_[0:3]))"
   ]
  },
  {
   "cell_type": "markdown",
   "metadata": {},
   "source": [
    "The PCA on the transformed data with 10 components explains 99.7% of all variance within the data. This is a significant reduction in our dataset size, while still retaining a lot of the information within the data. Further exploration shows that just 3 principal components explain 99.5% of the variation within our data."
   ]
  },
  {
   "cell_type": "code",
   "execution_count": null,
   "metadata": {},
   "outputs": [],
   "source": []
  }
 ],
 "metadata": {
  "kernelspec": {
   "display_name": "Python 3",
   "language": "python",
   "name": "python3"
  },
  "language_info": {
   "codemirror_mode": {
    "name": "ipython",
    "version": 3
   },
   "file_extension": ".py",
   "mimetype": "text/x-python",
   "name": "python",
   "nbconvert_exporter": "python",
   "pygments_lexer": "ipython3",
   "version": "3.7.1"
  }
 },
 "nbformat": 4,
 "nbformat_minor": 4
}
