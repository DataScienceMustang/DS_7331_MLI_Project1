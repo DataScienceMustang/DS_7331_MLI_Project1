{
 "cells": [
  {
   "cell_type": "code",
   "execution_count": 1,
   "metadata": {},
   "outputs": [
    {
     "name": "stderr",
     "output_type": "stream",
     "text": [
      "C:\\Users\\mweather\\AppData\\Local\\Continuum\\anaconda3\\lib\\site-packages\\statsmodels\\tools\\_testing.py:19: FutureWarning: pandas.util.testing is deprecated. Use the functions in the public API at pandas.testing instead.\n",
      "  import pandas.util.testing as tm\n"
     ]
    }
   ],
   "source": [
    "#Import Packages\n",
    "import pandas as pd\n",
    "from pandas import set_option\n",
    "set_option('display.max_columns',400)\n",
    "from pandas_profiling import ProfileReport\n",
    "from pandas import DataFrame\n",
    "from pandas import concat\n",
    "import numpy as np\n",
    "import copy as cp\n",
    "import os\n",
    "import glob\n",
    "import matplotlib"
   ]
  },
  {
   "cell_type": "code",
   "execution_count": 3,
   "metadata": {},
   "outputs": [
    {
     "name": "stdout",
     "output_type": "stream",
     "text": [
      "C:\\Users\\mweather\\Desktop\\Classes\\Term 3\\Machine Learning I\\data\n"
     ]
    }
   ],
   "source": [
    "#os.chdir('C:\\\\Users\\\\mweather\\\\Desktop\\\\MBW\\\\InnFrac\\\\Models\\\\Stage Start_Stop\\\\stage start_stop\\\\test')\n",
    "path = os.getcwd()\n",
    "print(path)"
   ]
  },
  {
   "cell_type": "code",
   "execution_count": 4,
   "metadata": {},
   "outputs": [],
   "source": [
    "#Read and Concat all Training/Test Well Files\n",
    "all_files = glob.glob(path + \"/*.csv\")\n",
    "property_data = []\n",
    "\n",
    "for filename in all_files:\n",
    "    df = pd.read_csv(filename, index_col=None, header=0)\n",
    "    property_data.append(df)\n",
    "\n",
    "traindf = pd.concat(property_data, axis=0, ignore_index=True)"
   ]
  },
  {
   "cell_type": "code",
   "execution_count": 5,
   "metadata": {},
   "outputs": [
    {
     "data": {
      "text/plain": [
       "id                 2281685\n",
       "ad_type            2281685\n",
       "start_date         2281685\n",
       "end_date           2281685\n",
       "created_on         2281685\n",
       "lat                1953595\n",
       "lon                1952582\n",
       "l1                 2281685\n",
       "l2                 2281685\n",
       "l3                 2119106\n",
       "l4                  778205\n",
       "l5                  234886\n",
       "l6                   58402\n",
       "rooms               918136\n",
       "bedrooms            903524\n",
       "bathrooms          1829145\n",
       "surface_total      1131504\n",
       "surface_covered     973429\n",
       "price              2218516\n",
       "currency           2210651\n",
       "price_period        549617\n",
       "title              2281638\n",
       "description        2281610\n",
       "property_type      2281685\n",
       "operation_type     2281685\n",
       "dtype: int64"
      ]
     },
     "execution_count": 5,
     "metadata": {},
     "output_type": "execute_result"
    }
   ],
   "source": [
    "traindf.count()"
   ]
  },
  {
   "cell_type": "code",
   "execution_count": null,
   "metadata": {},
   "outputs": [],
   "source": []
  }
 ],
 "metadata": {
  "kernelspec": {
   "display_name": "Python 3",
   "language": "python",
   "name": "python3"
  },
  "language_info": {
   "codemirror_mode": {
    "name": "ipython",
    "version": 3
   },
   "file_extension": ".py",
   "mimetype": "text/x-python",
   "name": "python",
   "nbconvert_exporter": "python",
   "pygments_lexer": "ipython3",
   "version": "3.7.4"
  }
 },
 "nbformat": 4,
 "nbformat_minor": 2
}
