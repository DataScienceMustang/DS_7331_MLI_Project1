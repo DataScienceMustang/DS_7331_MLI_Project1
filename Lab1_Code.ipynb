{
 "cells": [
  {
   "cell_type": "code",
   "execution_count": 1,
   "metadata": {},
   "outputs": [],
   "source": [
    "# This file is the Jupyter notebook for the Machine Learning 1 Lab 1\n",
    "# Author: Tom Pengilly\n",
    "# Group Members: Tom Pengilly, Quynh Chao, Michael Weatherford, Anish Patel\n",
    "# Date: 9/3/2020\n"
   ]
  },
  {
   "cell_type": "code",
   "execution_count": 2,
   "metadata": {},
   "outputs": [],
   "source": [
    "# Import the required libraries\n",
    "import pandas as pd\n",
    "import numpy as np\n",
    "import matplotlib.pyplot as plt\n",
    "# from pandas.tools.plotting import scatter_matrix # #??? Need this?\n",
    "# from pandas.tools.plotting import parallel_coordinates\n",
    "# import seaborn as sns\n"
   ]
  },
  {
   "cell_type": "code",
   "execution_count": 3,
   "metadata": {},
   "outputs": [],
   "source": [
    "########## Business Understanding (This Section has no code)\n",
    "\n",
    "# What is the purpose of the data? (WHy was it collected?)\n",
    "# How would you define and measure the outcomes from the dataset.... \n",
    "# ....(Why is the data important and how do you know if you have mined useful knowledge from the dataset?)\n",
    "# How would you measure the effectiveness of a good prediction algorithm? Be specific."
   ]
  },
  {
   "cell_type": "code",
   "execution_count": 4,
   "metadata": {},
   "outputs": [],
   "source": [
    "########## Data Understanding ########## \n",
    "\n",
    "# 1. Verify data quality.\n",
    "# Explain and address missing values, duplicate data, and outliers. Are they mistakes? How do you deal with them? Be specific.\n",
    "# Insert Preprocessing code here\n"
   ]
  },
  {
   "cell_type": "code",
   "execution_count": 5,
   "metadata": {},
   "outputs": [],
   "source": [
    "# 2. Give appropriate statistics of the most important attributes in data\n",
    "# Range, mode, mean, median, variance, counts, etc...\n",
    "# Describe what they mean or if you found something interesting about them\n",
    "# You can use data from other sources for comparison\n",
    "# Explain significance of the statistics run and why they are meaningful\n",
    "\n"
   ]
  },
  {
   "cell_type": "code",
   "execution_count": 6,
   "metadata": {},
   "outputs": [],
   "source": [
    "# 3. Visualize the most important attributes appropriately (AT LEAST 5 ATTRIBUTES)\n",
    "# Provide an interpretation for each chart\n",
    "# Explain each attribute why the chosen visualization is appropriate\n"
   ]
  },
  {
   "cell_type": "code",
   "execution_count": 7,
   "metadata": {},
   "outputs": [],
   "source": [
    "# 4. Explain relationships b/t attributes\n",
    "# Scatterplots, correlations, cross-tabulation, group-wise averages, etc. as appropriate and explain interesting relationships.\n"
   ]
  },
  {
   "cell_type": "code",
   "execution_count": 8,
   "metadata": {},
   "outputs": [],
   "source": [
    "# 5. Identify and explain interesting relationships b/t features and the class you are trying to predict (ie. rel b/t\n",
    "# vars and the target classification)\n"
   ]
  },
  {
   "cell_type": "code",
   "execution_count": 9,
   "metadata": {},
   "outputs": [],
   "source": [
    "# 6. Are there other features that could be added to the data or created from existing features? Which ones?\n"
   ]
  },
  {
   "cell_type": "code",
   "execution_count": null,
   "metadata": {},
   "outputs": [],
   "source": [
    "########## Exceptional Work ##########\n",
    "\n",
    "# Free reign to provide additional analyses\n",
    "# Idea: implement dimensionality reduction, then visualize and interpret the results\n",
    "\n",
    "# Other Ideas:"
   ]
  }
 ],
 "metadata": {
  "kernelspec": {
   "display_name": "Python 3",
   "language": "python",
   "name": "python3"
  },
  "language_info": {
   "codemirror_mode": {
    "name": "ipython",
    "version": 3
   },
   "file_extension": ".py",
   "mimetype": "text/x-python",
   "name": "python",
   "nbconvert_exporter": "python",
   "pygments_lexer": "ipython3",
   "version": "3.7.1"
  }
 },
 "nbformat": 4,
 "nbformat_minor": 2
}
