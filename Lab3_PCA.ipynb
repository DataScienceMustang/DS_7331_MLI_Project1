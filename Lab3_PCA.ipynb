{
 "cells": [
  {
   "cell_type": "raw",
   "metadata": {},
   "source": [
    "# Lab 3 Clustering <br>\n",
    "Group Members: Thomas Pengilly, Quynh Chau, Anish Patel, Michael Weatherford <br>\n",
    "Date: 12/06/2020"
   ]
  },
  {
   "cell_type": "markdown",
   "metadata": {},
   "source": [
    "# <font color = 'blue'> I.BUSINESS UNDERSTANDING\n",
    "<font color = 'blue'>Real estate has traditionally been a staple asset for investors that offer potential benefits such as excellent cash flow and diversification of asset portfolios.  When well-chosen, real estates typically appreciate in value over time, thus providing protection against inflation.  For these reasons, data on real estate pricings based listings of properties for sale are collected because they useful to potential investors.  These listings can be used as a starting basis for property valuation given specific group(s) of features.  "
   ]
  },
  {
   "cell_type": "code",
   "execution_count": 2,
   "metadata": {},
   "outputs": [],
   "source": [
    "# Import libraries\n",
    "import numpy as np\n",
    "import pandas as pd\n",
    "from pandas import set_option\n",
    "set_option('display.max_columns',400)\n",
    "import matplotlib.pyplot as plt\n",
    "from sklearn.preprocessing import OneHotEncoder\n",
    "import scipy"
   ]
  },
  {
   "cell_type": "code",
   "execution_count": 3,
   "metadata": {},
   "outputs": [],
   "source": [
    "# Import libraries for clustering\n",
    "\n",
    "from sklearn.preprocessing import MinMaxScaler \n",
    "from sklearn.preprocessing import StandardScaler\n",
    "from sklearn.model_selection import StratifiedKFold\n",
    "from sklearn.model_selection import train_test_split\n",
    "from sklearn.model_selection import GridSearchCV\n",
    "\n",
    "from sklearn import metrics as mt\n",
    "from sklearn.pipeline import Pipeline\n",
    "\n",
    "import seaborn as sns\n",
    "import plotly.express as px\n",
    "from sklearn.decomposition import PCA\n",
    "from sklearn.model_selection import KFold"
   ]
  },
  {
   "cell_type": "markdown",
   "metadata": {},
   "source": [
    "# <font color = 'blue'> II.DATA UNDERSTANDING\n",
    "<font color = 'blue'>A.Meaning and Type of Data for Attributes: Property_type and Country\n",
    "\n",
    "<font color = 'blue'>B.Data Quality: \n",
    "\n",
    "<font color= 'blue'>Outliers:  Outliers were included in the analysis because the dataset has over 400,000 entries, thus making any one outlier's effect on the data minimal.\n",
    "\n",
    "<font color = 'blue'>Missing Values:  the final dataset used in cluster analysis was an imputed dataset using XXXX values for each attribute with missing data.\n"
   ]
  },
  {
   "cell_type": "code",
   "execution_count": 4,
   "metadata": {},
   "outputs": [
    {
     "name": "stdout",
     "output_type": "stream",
     "text": [
      "<class 'pandas.core.frame.DataFrame'>\n",
      "RangeIndex: 463724 entries, 0 to 463723\n",
      "Data columns (total 20 columns):\n",
      " #   Column           Non-Null Count   Dtype  \n",
      "---  ------           --------------   -----  \n",
      " 0   lat              409210 non-null  float64\n",
      " 1   lon              409210 non-null  float64\n",
      " 2   rooms            463724 non-null  float64\n",
      " 3   bedrooms         463724 non-null  float64\n",
      " 4   bathrooms        463724 non-null  float64\n",
      " 5   surface_total    463724 non-null  float64\n",
      " 6   surface_covered  463724 non-null  float64\n",
      " 7   price            463723 non-null  float64\n",
      " 8   log_price        463724 non-null  float64\n",
      " 9   id               463723 non-null  object \n",
      " 10  start_date       463723 non-null  object \n",
      " 11  end_date         463723 non-null  object \n",
      " 12  created_on       463723 non-null  object \n",
      " 13  property_type    463723 non-null  object \n",
      " 14  l1               463723 non-null  object \n",
      " 15  l2               463723 non-null  object \n",
      " 16  l3               441216 non-null  object \n",
      " 17  title            463723 non-null  object \n",
      " 18  description      463717 non-null  object \n",
      " 19  price_class      463723 non-null  object \n",
      "dtypes: float64(9), object(11)\n",
      "memory usage: 70.8+ MB\n"
     ]
    }
   ],
   "source": [
    "# Read in the imputed dataset\n",
    "\n",
    "# Tom\n",
    "df = pd.read_csv('C:\\\\Users\\\\Tpeng\\\\OneDrive\\\\Documents\\\\SMU\\\\Term 3\\\\Machine Learning\\\\Lab1\\\\Imputed_Dataset.csv', sep = ',', header = 0)\n",
    "\n",
    "#Quynh\n",
    "#df = pd.read_csv('Imputed_Dataset.csv', sep = ',', header = 0)\n",
    "\n",
    "# Anish\n",
    "#df = pd.read_csv('filepath, sep = ',', header = 0)\n",
    "\n",
    "# Michael\n",
    "#df = pd.read_csv('filepath', sep = ',', header = 0)\n",
    "\n",
    "# Drop index column\n",
    "df = df.drop(columns = 'Unnamed: 0')\n",
    "df.info()"
   ]
  },
  {
   "cell_type": "code",
   "execution_count": 18,
   "metadata": {},
   "outputs": [],
   "source": [
    "# Remove some outliers (surface_covered) to improve normalization results and allow better visualization\n",
    "# Define Function for removing outliers of numeric columns \n",
    "def remove_outlier(df):\n",
    "    i = []\n",
    "    low = .05\n",
    "    high = .95\n",
    "    quant_df = df.quantile([low, high])\n",
    "    df.loc[(df['surface_covered'] < quant_df.loc[high, 'surface_covered']), 'keep'] = 1\n",
    "    df.loc[(df['surface_covered'] >= quant_df.loc[high, 'surface_covered']), 'keep'] = 0\n",
    "    # This next row also removes surface total outliers\n",
    "    df.loc[(df['surface_total'] >= quant_df.loc[high, 'surface_total']), 'keep'] = 0\n",
    "    df.loc[(df['bedrooms'] >= quant_df.loc[high, 'bedrooms']), 'keep'] = 0\n",
    "    df = df[df.keep == 1]\n",
    "        \n",
    "    #df = df[(df['surface_covered'] < quant_df.loc[high, 'surface_covered'])]\n",
    "    return df"
   ]
  },
  {
   "cell_type": "code",
   "execution_count": 5,
   "metadata": {},
   "outputs": [
    {
     "name": "stdout",
     "output_type": "stream",
     "text": [
      "<class 'pandas.core.frame.DataFrame'>\n",
      "RangeIndex: 427265 entries, 0 to 427264\n",
      "Data columns (total 22 columns):\n",
      " #   Column           Non-Null Count   Dtype  \n",
      "---  ------           --------------   -----  \n",
      " 0   index            427265 non-null  int64  \n",
      " 1   lat              378101 non-null  float64\n",
      " 2   lon              378101 non-null  float64\n",
      " 3   rooms            427265 non-null  float64\n",
      " 4   bedrooms         427265 non-null  float64\n",
      " 5   bathrooms        427265 non-null  float64\n",
      " 6   surface_total    427265 non-null  float64\n",
      " 7   surface_covered  427265 non-null  float64\n",
      " 8   price            427264 non-null  float64\n",
      " 9   log_price        427265 non-null  float64\n",
      " 10  id               427264 non-null  object \n",
      " 11  start_date       427264 non-null  object \n",
      " 12  end_date         427264 non-null  object \n",
      " 13  created_on       427264 non-null  object \n",
      " 14  property_type    427264 non-null  object \n",
      " 15  l1               427264 non-null  object \n",
      " 16  l2               427264 non-null  object \n",
      " 17  l3               408480 non-null  object \n",
      " 18  title            427264 non-null  object \n",
      " 19  description      427258 non-null  object \n",
      " 20  price_class      427264 non-null  object \n",
      " 21  keep             427265 non-null  float64\n",
      "dtypes: float64(10), int64(1), object(11)\n",
      "memory usage: 71.7+ MB\n"
     ]
    }
   ],
   "source": [
    "# Remove outliers and recast data for plotting\n",
    "# df = remove_outlier(df)\n",
    "# df.reset_index(inplace = True)\n",
    "# df.info()"
   ]
  },
  {
   "cell_type": "code",
   "execution_count": 5,
   "metadata": {},
   "outputs": [],
   "source": [
    "# Reformat attributes, excluding categoricals, which aren't supported for the the dummy variable generation method used.\n",
    "ordinal_vars = ['rooms', 'bedrooms', 'bathrooms' ]\n",
    "continuous_vars = ['lat', 'lon', 'surface_total', 'surface_covered', 'price', 'log_price']\n",
    "string_vars = ['id', 'title', 'description','property_type', 'l1','description']\n",
    "time_vars = ['start_date', 'end_date', 'created_on']\n",
    "\n",
    "# Change data types\n",
    "df[ordinal_vars] = df[ordinal_vars].astype('uint8')\n",
    "df[continuous_vars] = df[continuous_vars].astype(np.float64)\n",
    "df[string_vars] = df[string_vars].astype(str)\n",
    "\n",
    "# Remove observations missing l3 and price before encoding \n",
    "df2 = df.dropna(axis = 0, subset = ['price', 'l3'])\n",
    "\n",
    "# Create dataset using numeric attributes, property type and country, make classification variable ordinal\n",
    "df_num = df.copy()\n",
    "df_num = df_num[['rooms', 'bedrooms', 'bathrooms', 'surface_total', 'surface_covered', 'price', 'log_price', 'property_type','l1', 'price_class']]\n",
    "df_num = df_num.dropna()"
   ]
  },
  {
   "cell_type": "code",
   "execution_count": 6,
   "metadata": {},
   "outputs": [
    {
     "name": "stdout",
     "output_type": "stream",
     "text": [
      "<class 'pandas.core.frame.DataFrame'>\n",
      "Int64Index: 463723 entries, 0 to 463722\n",
      "Data columns (total 10 columns):\n",
      " #   Column           Non-Null Count   Dtype  \n",
      "---  ------           --------------   -----  \n",
      " 0   rooms            463723 non-null  uint8  \n",
      " 1   bedrooms         463723 non-null  uint8  \n",
      " 2   bathrooms        463723 non-null  uint8  \n",
      " 3   surface_total    463723 non-null  float64\n",
      " 4   surface_covered  463723 non-null  float64\n",
      " 5   price            463723 non-null  float64\n",
      " 6   log_price        463723 non-null  float64\n",
      " 7   property_type    463723 non-null  object \n",
      " 8   l1               463723 non-null  object \n",
      " 9   price_class      463723 non-null  object \n",
      "dtypes: float64(4), object(3), uint8(3)\n",
      "memory usage: 29.6+ MB\n"
     ]
    }
   ],
   "source": [
    "df_num.info()"
   ]
  },
  {
   "cell_type": "markdown",
   "metadata": {},
   "source": [
    "<font color = 'blue'>C. Visualization of Important Attributes"
   ]
  },
  {
   "cell_type": "markdown",
   "metadata": {},
   "source": [
    "We will create multiple visualizations to explore the potential of clustering for our dataset. We foresee clustering as a useful way to impute missing data, and possibly as an effective alternative to price-classification. These visualizations include 3D Scatterplots, ...,"
   ]
  },
  {
   "cell_type": "code",
   "execution_count": null,
   "metadata": {},
   "outputs": [],
   "source": [
    "# 3D Scatter plot\n",
    "import plotly.express as px\n",
    "fig = px.scatter_3d(df_num, x = 'rooms', y = 'surface_covered', z = 'log_price', color = 'l1', size = 'bathrooms')\n",
    "fig.update_layout(margin=dict(l=0, r=0, b=0, t=0))\n",
    "\n",
    "fig.show()"
   ]
  },
  {
   "cell_type": "markdown",
   "metadata": {},
   "source": [
    "The clustering for each country seem to have a roughly common center, differing only slightly in the distribution of noise points. Clustering wouldn't likely be helpful classifying country on these attributes. We will explore a few more combinations."
   ]
  },
  {
   "cell_type": "code",
   "execution_count": null,
   "metadata": {},
   "outputs": [],
   "source": [
    "# 3D Scatter plot\n",
    "import plotly.express as px\n",
    "\n",
    "casa = df_num[df_num.property_type == 'Casa']\n",
    "casa = remove_outlier(casa)\n",
    "\n",
    "fig = px.scatter_3d(casa, x = 'rooms', y = 'bedrooms', z = 'bathrooms', color = 'l1', size = 'bathrooms')\n",
    "fig.update_layout(margin=dict(l=0, r=0, b=0, t=0))\n",
    "\n",
    "fig.show()"
   ]
  },
  {
   "cell_type": "code",
   "execution_count": null,
   "metadata": {},
   "outputs": [],
   "source": [
    "# Plot rooms, surface_covered, surface_total\n",
    "fig = px.scatter_3d(df_num, x = 'rooms', y = 'surface_covered', z = 'surface_total', color = 'l1', size = 'bathrooms')\n",
    "fig.update_layout(margin=dict(l=0, r=0, b=0, t=0))\n",
    "\n",
    "fig.show()"
   ]
  },
  {
   "cell_type": "markdown",
   "metadata": {},
   "source": [
    "# Clustering geographic location using Latitude and Longitude\n",
    "Use latitude and longitude to cluster country."
   ]
  },
  {
   "cell_type": "code",
   "execution_count": 9,
   "metadata": {},
   "outputs": [],
   "source": [
    "# Remove observations missing l3 and price before encoding \n",
    "df2 = df.dropna(axis = 0, subset = ['price', 'l3'])\n",
    "\n",
    "# Create dataset using numeric attributes, property type and country, make classification variable ordinal\n",
    "df_latlon = df.copy()\n",
    "\n",
    "df_latlon = df_latlon[['rooms', 'bedrooms', 'bathrooms', 'surface_total', 'surface_covered', 'price', 'log_price', 'property_type','l1', 'lat', 'lon']]\n",
    "df_latlon = df_latlon.dropna()"
   ]
  },
  {
   "cell_type": "code",
   "execution_count": null,
   "metadata": {},
   "outputs": [],
   "source": [
    "# Plot lat, lon, country color by property type\n",
    "fig = px.scatter_3d(df_latlon, x = 'lat', y = 'lon', z = 'l1', color = 'property_type', size = 'rooms', \n",
    "                    title = 'Country Clustering by Latitude and Longitude')\n",
    "fig.update_layout(margin=dict(l=0, r=0, b=0, t=0))\n",
    "\n",
    "fig.show()"
   ]
  },
  {
   "cell_type": "markdown",
   "metadata": {},
   "source": [
    "The plot above shows that latitude and longitude could effectively be used to impute an observation's country value in case of missing data. It appears that Ecuador may prove tricky using clustering since it is equidistant between Peru and Colombia, and has few data points. We may want to extend this analysis to a larger subset of the data. This method extends to imputing missing l2 (province) and l3 (department) values as well. If we wanted to include department in the model, this would be worth pursuing."
   ]
  },
  {
   "cell_type": "code",
   "execution_count": null,
   "metadata": {},
   "outputs": [],
   "source": []
  },
  {
   "cell_type": "markdown",
   "metadata": {},
   "source": [
    "# PCA Clustering\n",
    "Cluster observations along principal components"
   ]
  },
  {
   "cell_type": "code",
   "execution_count": 7,
   "metadata": {},
   "outputs": [
    {
     "name": "stderr",
     "output_type": "stream",
     "text": [
      "C:\\Users\\Tpeng\\AppData\\Roaming\\Python\\Python37\\site-packages\\sklearn\\model_selection\\_split.py:297: FutureWarning: Setting a random_state has no effect since shuffle is False. This will raise an error in 0.24. You should leave random_state to its default (None), or set shuffle=True.\n",
      "  FutureWarning\n"
     ]
    }
   ],
   "source": [
    "# Create split object and pca object\n",
    "cv_obj = KFold(n_splits = 10, random_state = 6)\n",
    "pca = PCA(n_components = 20, random_state = 6, svd_solver = 'full')\n"
   ]
  },
  {
   "cell_type": "code",
   "execution_count": 8,
   "metadata": {},
   "outputs": [],
   "source": [
    "# Dummify country vars \n",
    "pca_dummy = pd.get_dummies(df_num, columns = ['l1', 'property_type', 'price_class'], \n",
    "                          prefix = {'l1':'Country', 'property_type':'Property_Type', 'price_class':'Price_Class'}, \n",
    "                          sparse = True, drop_first = False)"
   ]
  },
  {
   "cell_type": "code",
   "execution_count": 9,
   "metadata": {},
   "outputs": [
    {
     "name": "stderr",
     "output_type": "stream",
     "text": [
      "C:\\Users\\Tpeng\\AppData\\Roaming\\Python\\Python37\\site-packages\\sklearn\\utils\\validation.py:509: UserWarning: pandas.DataFrame with sparse columns found.It will be converted to a dense numpy array.\n",
      "  \"pandas.DataFrame with sparse columns found.\"\n",
      "C:\\Users\\Tpeng\\AppData\\Roaming\\Python\\Python37\\site-packages\\sklearn\\utils\\validation.py:509: UserWarning: pandas.DataFrame with sparse columns found.It will be converted to a dense numpy array.\n",
      "  \"pandas.DataFrame with sparse columns found.\"\n"
     ]
    },
    {
     "data": {
      "image/png": "[encoded data removed]",
      "text/plain": [
       "<Figure size 432x288 with 1 Axes>"
      ]
     },
     "metadata": {
      "needs_background": "light"
     },
     "output_type": "display_data"
    }
   ],
   "source": [
    "# Conduct PCA and clustering on property type dataset\n",
    "# Scale data\n",
    "scaler = MinMaxScaler()\n",
    "X_norm = scaler.fit_transform(pca_dummy)\n",
    "X_pca = pca.fit_transform(X_norm)\n",
    "\n",
    "# Plot bar chart of explained variance by principal component\n",
    "features = range(pca.n_components_)\n",
    "plt.bar(features, pca.explained_variance_ratio_, color = 'red')\n",
    "plt.xlabel('PCA Features')\n",
    "plt.ylabel('Explained Variance')\n",
    "plt.xticks(features)\n",
    "\n",
    "PCA_comps = pd.DataFrame(X_pca)"
   ]
  },
  {
   "cell_type": "markdown",
   "metadata": {},
   "source": [
    "After normalizing our features and conducting PCA, a scree plot shows that the first 4 principal components are significant, and principal components 5-6 may also be useful. For the purposes of visualizing clustering along the principal components we will use the first 3 principal components."
   ]
  },
  {
   "cell_type": "code",
   "execution_count": 10,
   "metadata": {},
   "outputs": [
    {
     "name": "stderr",
     "output_type": "stream",
     "text": [
      "C:\\Users\\Tpeng\\AppData\\Roaming\\Python\\Python37\\site-packages\\sklearn\\utils\\validation.py:509: UserWarning: pandas.DataFrame with sparse columns found.It will be converted to a dense numpy array.\n",
      "  \"pandas.DataFrame with sparse columns found.\"\n",
      "C:\\Users\\Tpeng\\AppData\\Roaming\\Python\\Python37\\site-packages\\sklearn\\utils\\validation.py:509: UserWarning: pandas.DataFrame with sparse columns found.It will be converted to a dense numpy array.\n",
      "  \"pandas.DataFrame with sparse columns found.\"\n"
     ]
    }
   ],
   "source": [
    "pca = PCA(n_components = 6, random_state = 6, svd_solver = 'full')\n",
    "\n",
    "# Conduct PCA and clustering on property type dataset\n",
    "# Scale data\n",
    "scaler = MinMaxScaler()\n",
    "X_norm = scaler.fit_transform(pca_dummy)\n",
    "X_pca = pca.fit_transform(X_norm)\n",
    "PCA_comps = pd.DataFrame(X_pca)"
   ]
  },
  {
   "cell_type": "code",
   "execution_count": 11,
   "metadata": {},
   "outputs": [
    {
     "name": "stdout",
     "output_type": "stream",
     "text": [
      "<class 'pandas.core.frame.DataFrame'>\n",
      "RangeIndex: 463723 entries, 0 to 463722\n",
      "Data columns (total 8 columns):\n",
      " #   Column         Non-Null Count   Dtype  \n",
      "---  ------         --------------   -----  \n",
      " 0   PC1            463723 non-null  float64\n",
      " 1   PC2            463723 non-null  float64\n",
      " 2   PC3            463723 non-null  float64\n",
      " 3   PC4            463723 non-null  float64\n",
      " 4   PC5            463723 non-null  float64\n",
      " 5   PC6            463723 non-null  float64\n",
      " 6   l1             463723 non-null  object \n",
      " 7   property_type  463723 non-null  object \n",
      "dtypes: float64(6), object(2)\n",
      "memory usage: 28.3+ MB\n"
     ]
    }
   ],
   "source": [
    "PCA_comps2 = pd.concat([PCA_comps, df_num.l1, df_num.property_type], axis = 1)\n",
    "PCA_comps2.columns = ['PC1', 'PC2', 'PC3', 'PC4', 'PC5', 'PC6', 'l1', 'property_type']\n",
    "PCA_comps2.info()"
   ]
  },
  {
   "cell_type": "markdown",
   "metadata": {},
   "source": [
    "## The cells below plots observations along principal components and colors by country and property type. \n",
    "\n",
    "The Principal components include: 'rooms', 'bedrooms', 'bathrooms', 'surface_total', 'surface_covered', 'price', 'log_price', 'property_type', 'l1', 'price_class'. \n",
    "\n",
    "There are strong clusters associated with casa and departamento. The remaining group of clusters are tightly bound, but are composed of smaller, somewhat well-seperated sub-clusters that represent the other property types."
   ]
  },
  {
   "cell_type": "code",
   "execution_count": null,
   "metadata": {
    "scrolled": false
   },
   "outputs": [],
   "source": [
    "# Visualize observations on principal component axes.\n",
    "# Perform EDA on new clustered dataset, see if clusters correlate with anything\n",
    "# Append property type\n",
    "fig = px.scatter_3d(PCA_comps2, x = 'PC1', y = 'PC2', z = 'PC3', color = 'l1')\n",
    "fig.update_layout(margin=dict(l=0, r=0, b=0, t=0))\n",
    "\n",
    "fig.show()"
   ]
  },
  {
   "cell_type": "code",
   "execution_count": null,
   "metadata": {},
   "outputs": [],
   "source": [
    "# Visualize observations on principal component axes.\n",
    "# Perform EDA on new clustered dataset, see if clusters correlate with anything\n",
    "# Append property type\n",
    "fig = px.scatter_3d(PCA_comps2, x = 'PC1', y = 'PC2', z = 'PC3', color = 'property_type')\n",
    "fig.update_layout(margin=dict(l=0, r=0, b=0, t=0))\n",
    "\n",
    "fig.show()"
   ]
  },
  {
   "cell_type": "code",
   "execution_count": 14,
   "metadata": {},
   "outputs": [
    {
     "name": "stdout",
     "output_type": "stream",
     "text": [
      "[[ 1.25624351e-02  4.61728107e-03  4.26711868e-02  1.68370019e-03\n",
      "   9.85518256e-06 -3.47038817e-04 -1.28337081e-02 -5.90908270e-01\n",
      "   5.51513216e-01  3.91230378e-04  3.44784221e-02  4.52540192e-03\n",
      "   2.64544809e-01 -1.00519876e-03 -3.37853338e-01 -2.51165272e-03\n",
      "   2.40515497e-02 -3.12062749e-03  1.77929839e-03  3.20692513e-02\n",
      "   3.54450576e-03  4.41992405e-02 -2.78066597e-02  2.10882198e-03\n",
      "  -1.42172423e-01 -1.78377523e-01  3.20549946e-01]\n",
      " [ 2.63495789e-02  5.78208262e-03  2.63200646e-02  3.53927619e-04\n",
      "  -4.36695062e-06  3.53895193e-03  4.80244992e-02  2.30106779e-01\n",
      "  -2.06914785e-01  1.09894347e-04 -2.22924533e-02 -1.00943508e-03\n",
      "   5.80689736e-01  1.58916343e-03 -6.71164987e-01  4.55467549e-03\n",
      "  -3.33895258e-03  4.46700303e-03  1.96416660e-02  3.56930304e-03\n",
      "   1.47271354e-02  2.43610956e-03  4.31294812e-02 -3.00333522e-04\n",
      "   8.90251241e-02  1.76748014e-01 -2.65773138e-01]\n",
      " [ 8.66723158e-03  2.16981925e-03  2.14474332e-02  1.58300917e-04\n",
      "   3.25286687e-06  5.92059225e-03  3.58676960e-02 -6.52403517e-02\n",
      "   4.30666438e-02 -1.04479064e-04  1.54380168e-02  6.84017019e-03\n",
      "  -3.88999094e-02 -2.18563495e-04  4.23934213e-02 -4.90834729e-04\n",
      "   2.25881055e-03 -6.44521885e-04 -1.60974841e-03  2.70757208e-03\n",
      "  -1.45076404e-03  3.46758443e-03 -7.70496449e-03  1.91918175e-04\n",
      "  -6.88079615e-01  7.16975752e-01 -2.88961377e-02]\n",
      " [-7.90650340e-03 -2.47672172e-03 -3.59450495e-02 -1.00025437e-03\n",
      "  -3.82994505e-06 -4.15630627e-03 -4.05551330e-02  3.76901827e-01\n",
      "  -2.99223905e-01 -9.53894105e-05 -5.18358955e-02 -2.57466368e-02\n",
      "   1.04137800e-01  1.30803492e-03 -9.63795018e-02  3.63749063e-03\n",
      "  -1.68394922e-02  4.21044654e-03  7.90763635e-03 -2.01070117e-02\n",
      "   4.50799567e-03 -2.78006655e-02  3.68708690e-02 -1.45360219e-03\n",
      "  -4.06135357e-01 -2.92687354e-01  6.98822711e-01]\n",
      " [-3.36227086e-03 -5.26671768e-03 -1.09712883e-02  3.54071907e-03\n",
      "   1.61731180e-05  4.14419218e-03  6.68798044e-03 -3.14150710e-02\n",
      "  -6.91938557e-02 -4.28288696e-05  1.01676240e-01 -1.02448462e-03\n",
      "  -6.59487008e-01  8.33389249e-03 -5.34654037e-01  2.64993842e-02\n",
      "   5.13290397e-02  2.40001123e-02  2.00966324e-01  1.73745244e-01\n",
      "   1.47219049e-01  2.05100166e-01  3.52802226e-01  4.14560694e-03\n",
      "  -2.94057394e-03 -4.77370085e-03  7.71427479e-03]\n",
      " [ 5.28746597e-03 -2.04181347e-03  8.48818156e-03 -1.25812484e-03\n",
      "   9.04115349e-06  3.68929061e-04  7.10506790e-03 -3.67161937e-01\n",
      "  -4.85498679e-01  1.72945719e-03  7.69634260e-01  8.12968988e-02\n",
      "   9.13456933e-02 -1.57876467e-03  5.18190845e-02  9.49691757e-04\n",
      "  -3.10357367e-02 -5.96947001e-03 -7.27748286e-04  6.98101143e-02\n",
      "  -2.40723846e-02 -6.66139244e-02 -8.14521860e-02 -2.47436928e-03\n",
      "  -6.67457826e-03 -2.62254908e-02  3.29000691e-02]]\n"
     ]
    }
   ],
   "source": [
    "print(pca.components_)"
   ]
  },
  {
   "cell_type": "code",
   "execution_count": null,
   "metadata": {},
   "outputs": [],
   "source": []
  },
  {
   "cell_type": "code",
   "execution_count": null,
   "metadata": {},
   "outputs": [],
   "source": []
  },
  {
   "cell_type": "markdown",
   "metadata": {},
   "source": [
    "# End PCA Section"
   ]
  },
  {
   "cell_type": "code",
   "execution_count": null,
   "metadata": {},
   "outputs": [],
   "source": []
  },
  {
   "cell_type": "code",
   "execution_count": null,
   "metadata": {},
   "outputs": [],
   "source": []
  },
  {
   "cell_type": "code",
   "execution_count": null,
   "metadata": {},
   "outputs": [],
   "source": []
  },
  {
   "cell_type": "code",
   "execution_count": null,
   "metadata": {},
   "outputs": [],
   "source": []
  },
  {
   "cell_type": "code",
   "execution_count": null,
   "metadata": {},
   "outputs": [],
   "source": []
  },
  {
   "cell_type": "code",
   "execution_count": 37,
   "metadata": {},
   "outputs": [
    {
     "name": "stderr",
     "output_type": "stream",
     "text": [
      "C:\\Users\\Tpeng\\AppData\\Roaming\\Python\\Python37\\site-packages\\sklearn\\cluster\\_kmeans.py:939: FutureWarning:\n",
      "\n",
      "'n_jobs' was deprecated in version 0.23 and will be removed in 0.25.\n",
      "\n"
     ]
    },
    {
     "name": "stdout",
     "output_type": "stream",
     "text": [
      "Initialization complete\n",
      "Iteration 0, inertia 2.4415682903467436e+16\n",
      "Iteration 1, inertia 1.8964483080743996e+16\n",
      "Iteration 2, inertia 1.7597115902713632e+16\n",
      "Iteration 3, inertia 1.6964855144755258e+16\n",
      "Iteration 4, inertia 1.6516636210104724e+16\n",
      "Iteration 5, inertia 1.6406206847546792e+16\n",
      "Iteration 6, inertia 1.6333176654327202e+16\n",
      "Iteration 7, inertia 1.6231606820318036e+16\n",
      "Iteration 8, inertia 1.6152196247697802e+16\n",
      "Iteration 9, inertia 1.6096817329027718e+16\n",
      "Iteration 10, inertia 1.6001284183539144e+16\n",
      "Iteration 11, inertia 1.5982019768940624e+16\n",
      "Iteration 12, inertia 1.5978968693946356e+16\n",
      "Iteration 13, inertia 1.597870669565071e+16\n",
      "Iteration 14, inertia 1.597859995654476e+16\n",
      "Converged at iteration 14: center shift 969769.8813562095 within tolerance 8424881.491154728.\n",
      "Initialization complete\n",
      "Iteration 0, inertia 1.9853507453860292e+16\n",
      "Iteration 1, inertia 1.853948806549361e+16\n",
      "Iteration 2, inertia 1.8158792375489108e+16\n",
      "Iteration 3, inertia 1.7750910432592434e+16\n",
      "Iteration 4, inertia 1.74695982342974e+16\n",
      "Iteration 5, inertia 1.7134580649797008e+16\n",
      "Iteration 6, inertia 1.685766243639742e+16\n",
      "Iteration 7, inertia 1.668486053969744e+16\n",
      "Iteration 8, inertia 1.6596211910930086e+16\n",
      "Iteration 9, inertia 1.6556284970460648e+16\n",
      "Iteration 10, inertia 1.6463961848466578e+16\n",
      "Iteration 11, inertia 1.6402749110768712e+16\n",
      "Iteration 12, inertia 1.637209446964273e+16\n",
      "Iteration 13, inertia 1.6337537425982804e+16\n",
      "Iteration 14, inertia 1.6314644043955926e+16\n",
      "Iteration 15, inertia 1.6312184282186326e+16\n",
      "Iteration 16, inertia 1.6312042096550246e+16\n",
      "Converged at iteration 16: center shift 170989.82886124295 within tolerance 8424881.491154728.\n",
      "Initialization complete\n",
      "Iteration 0, inertia 2.2909243030355164e+16\n",
      "Iteration 1, inertia 1.937231319273786e+16\n",
      "Iteration 2, inertia 1.7711530063500426e+16\n",
      "Iteration 3, inertia 1.692763577945391e+16\n",
      "Iteration 4, inertia 1.6400925056384556e+16\n",
      "Iteration 5, inertia 1.6147424132121918e+16\n",
      "Iteration 6, inertia 1.6003247795592004e+16\n",
      "Iteration 7, inertia 1.5925220187347508e+16\n",
      "Iteration 8, inertia 1.580457065417746e+16\n",
      "Iteration 9, inertia 1.5752948418257402e+16\n",
      "Iteration 10, inertia 1.5729510330755718e+16\n",
      "Iteration 11, inertia 1.5726793186848264e+16\n",
      "Iteration 12, inertia 1.572673077428496e+16\n",
      "Converged at iteration 12: center shift 347210.9334553267 within tolerance 8424881.491154728.\n",
      "Initialization complete\n",
      "Iteration 0, inertia 1.8838083458385264e+16\n",
      "Iteration 1, inertia 1.7221605144808434e+16\n",
      "Iteration 2, inertia 1.660660853062477e+16\n",
      "Iteration 3, inertia 1.6365371641908784e+16\n",
      "Iteration 4, inertia 1.6249955278689122e+16\n",
      "Iteration 5, inertia 1.61868986009675e+16\n",
      "Iteration 6, inertia 1.606862375112484e+16\n",
      "Iteration 7, inertia 1.6015356429337898e+16\n",
      "Iteration 8, inertia 1.598252494435789e+16\n",
      "Iteration 9, inertia 1.5918830620236348e+16\n",
      "Iteration 10, inertia 1.5887138399967574e+16\n",
      "Iteration 11, inertia 1.5870853308529372e+16\n",
      "Iteration 12, inertia 1.5863537850890146e+16\n",
      "Iteration 13, inertia 1.5847842280279404e+16\n",
      "Iteration 14, inertia 1.5840355676369274e+16\n",
      "Iteration 15, inertia 1.5837565449412482e+16\n",
      "Iteration 16, inertia 1.583698750258815e+16\n",
      "Iteration 17, inertia 1.5834425180754666e+16\n",
      "Converged at iteration 17: center shift 2477742.854564015 within tolerance 8424881.491154728.\n",
      "Initialization complete\n",
      "Iteration 0, inertia 2.0089392168910852e+16\n",
      "Iteration 1, inertia 1.8938706104166076e+16\n",
      "Iteration 2, inertia 1.843817619255111e+16\n",
      "Iteration 3, inertia 1.81007895533141e+16\n",
      "Iteration 4, inertia 1.77871220959812e+16\n",
      "Iteration 5, inertia 1.752514448901097e+16\n",
      "Iteration 6, inertia 1.7184983149328802e+16\n",
      "Iteration 7, inertia 1.687778855202078e+16\n",
      "Iteration 8, inertia 1.6698229214769442e+16\n",
      "Iteration 9, inertia 1.6599241952911104e+16\n",
      "Iteration 10, inertia 1.6556673599711918e+16\n",
      "Iteration 11, inertia 1.6464300752730196e+16\n",
      "Iteration 12, inertia 1.6402751454641078e+16\n",
      "Iteration 13, inertia 1.637209446964273e+16\n",
      "Iteration 14, inertia 1.6337537425982804e+16\n",
      "Iteration 15, inertia 1.6314644043955928e+16\n",
      "Iteration 16, inertia 1.6312184282186326e+16\n",
      "Iteration 17, inertia 1.6312042096550244e+16\n",
      "Converged at iteration 17: center shift 170989.828860657 within tolerance 8424881.491154728.\n",
      "Initialization complete\n",
      "Iteration 0, inertia 1.895882344119172e+16\n",
      "Iteration 1, inertia 1.6989959443913772e+16\n",
      "Iteration 2, inertia 1.6522653153781128e+16\n",
      "Iteration 3, inertia 1.632582030882926e+16\n",
      "Iteration 4, inertia 1.6229105189136072e+16\n",
      "Iteration 5, inertia 1.6106779423276434e+16\n",
      "Iteration 6, inertia 1.6024712720461744e+16\n",
      "Iteration 7, inertia 1.5989052473948028e+16\n",
      "Iteration 8, inertia 1.5920331777766456e+16\n",
      "Iteration 9, inertia 1.5887566507314958e+16\n",
      "Iteration 10, inertia 1.5870897563998896e+16\n",
      "Iteration 11, inertia 1.5863542981640028e+16\n",
      "Iteration 12, inertia 1.5847842280279408e+16\n",
      "Iteration 13, inertia 1.5840355676369274e+16\n",
      "Iteration 14, inertia 1.5837565449412484e+16\n",
      "Iteration 15, inertia 1.5836987502588148e+16\n",
      "Iteration 16, inertia 1.5834425180754666e+16\n",
      "Converged at iteration 16: center shift 2477742.854564029 within tolerance 8424881.491154728.\n",
      "Initialization complete\n",
      "Iteration 0, inertia 2.054784179184419e+16\n",
      "Iteration 1, inertia 1.7091366427594852e+16\n",
      "Iteration 2, inertia 1.6551770278171902e+16\n",
      "Iteration 3, inertia 1.6253331870760446e+16\n",
      "Iteration 4, inertia 1.6090884366038228e+16\n",
      "Iteration 5, inertia 1.5958048490445534e+16\n",
      "Iteration 6, inertia 1.5890703197525226e+16\n",
      "Iteration 7, inertia 1.5848789323745078e+16\n",
      "Iteration 8, inertia 1.5835922891748398e+16\n",
      "Iteration 9, inertia 1.5832546234969932e+16\n",
      "Iteration 10, inertia 1.5828246063696156e+16\n",
      "Iteration 11, inertia 1.581029341525154e+16\n",
      "Iteration 12, inertia 1.5799743813073096e+16\n",
      "Iteration 13, inertia 1.5794000126203316e+16\n",
      "Iteration 14, inertia 1.579373452260238e+16\n",
      "Iteration 15, inertia 1.5793584616156554e+16\n",
      "Iteration 16, inertia 1.5793356145276566e+16\n",
      "Converged at iteration 16: center shift 159601.56550223514 within tolerance 8424881.491154728.\n",
      "Initialization complete\n",
      "Iteration 0, inertia 2.3079831839401144e+16\n",
      "Iteration 1, inertia 1.7993143116718274e+16\n",
      "Iteration 2, inertia 1.737699673384796e+16\n",
      "Iteration 3, inertia 1.7101934637882542e+16\n",
      "Iteration 4, inertia 1.677253122523407e+16\n",
      "Iteration 5, inertia 1.6622045079962892e+16\n",
      "Iteration 6, inertia 1.6579872248790292e+16\n",
      "Iteration 7, inertia 1.653483822910565e+16\n",
      "Iteration 8, inertia 1.6423155450475484e+16\n",
      "Iteration 9, inertia 1.6376673029648706e+16\n",
      "Iteration 10, inertia 1.6349913982205172e+16\n",
      "Iteration 11, inertia 1.6333290407948152e+16\n",
      "Iteration 12, inertia 1.6314337721065292e+16\n",
      "Iteration 13, inertia 1.631216498469746e+16\n",
      "Iteration 14, inertia 1.6312042036097982e+16\n",
      "Converged at iteration 14: center shift 170546.69201952603 within tolerance 8424881.491154728.\n",
      "Initialization complete\n",
      "Iteration 0, inertia 2.0320619711612296e+16\n",
      "Iteration 1, inertia 1.7626624162925498e+16\n",
      "Iteration 2, inertia 1.6839700553604704e+16\n",
      "Iteration 3, inertia 1.6412861316534136e+16\n",
      "Iteration 4, inertia 1.609519914626488e+16\n",
      "Iteration 5, inertia 1.5855037704398064e+16\n",
      "Iteration 6, inertia 1.5807026628705778e+16\n",
      "Iteration 7, inertia 1.5791808369527164e+16\n",
      "Iteration 8, inertia 1.578815996363632e+16\n",
      "Iteration 9, inertia 1.5786560652113386e+16\n",
      "Iteration 10, inertia 1.5769335557536624e+16\n",
      "Iteration 11, inertia 1.5759391313831368e+16\n",
      "Iteration 12, inertia 1.5748045870738746e+16\n",
      "Iteration 13, inertia 1.5742109553327512e+16\n",
      "Iteration 14, inertia 1.5741248081139428e+16\n",
      "Iteration 15, inertia 1.5737347004969736e+16\n",
      "Iteration 16, inertia 1.5735972683421074e+16\n",
      "Iteration 17, inertia 1.5735287343185016e+16\n",
      "Converged at iteration 17: center shift 542914.952164543 within tolerance 8424881.491154728.\n",
      "Initialization complete\n",
      "Iteration 0, inertia 1.933586254094817e+16\n",
      "Iteration 1, inertia 1.7144969960974428e+16\n",
      "Iteration 2, inertia 1.6506608384211194e+16\n",
      "Iteration 3, inertia 1.6208442024034328e+16\n",
      "Iteration 4, inertia 1.5965569375760792e+16\n",
      "Iteration 5, inertia 1.5915432611653978e+16\n",
      "Iteration 6, inertia 1.585146004886494e+16\n",
      "Iteration 7, inertia 1.584072433962876e+16\n",
      "Iteration 8, inertia 1.5833557827518044e+16\n",
      "Iteration 9, inertia 1.583035343841113e+16\n",
      "Iteration 10, inertia 1.5827984130863898e+16\n",
      "Iteration 11, inertia 1.5823889944291148e+16\n",
      "Converged at iteration 11: center shift 5336082.427627479 within tolerance 8424881.491154728.\n"
     ]
    }
   ],
   "source": [
    "# Plot observations in the new 3-component PCA space to see if clusters exist\n",
    "from sklearn.cluster import KMeans\n",
    "# N clusters = 5 for 5 countries\n",
    "cls = KMeans(n_clusters = 5, init = 'k-means++', random_state = 6, verbose = 1, n_jobs = 20)\n",
    "cluster = cls.fit_transform(X_pca)\n",
    "\n",
    "pt_cluster_labels = cluster.labels_\n",
    "cluster_centers = cluster.cluster_centers_\n"
   ]
  },
  {
   "cell_type": "code",
   "execution_count": null,
   "metadata": {},
   "outputs": [],
   "source": [
    "PCA_comps = pd.DataFrame()"
   ]
  },
  {
   "cell_type": "code",
   "execution_count": 83,
   "metadata": {},
   "outputs": [
    {
     "data": {
      "text/html": [
       "<div>\n",
       "<style scoped>\n",
       "    .dataframe tbody tr th:only-of-type {\n",
       "        vertical-align: middle;\n",
       "    }\n",
       "\n",
       "    .dataframe tbody tr th {\n",
       "        vertical-align: top;\n",
       "    }\n",
       "\n",
       "    .dataframe thead th {\n",
       "        text-align: right;\n",
       "    }\n",
       "</style>\n",
       "<table border=\"1\" class=\"dataframe\">\n",
       "  <thead>\n",
       "    <tr style=\"text-align: right;\">\n",
       "      <th></th>\n",
       "      <th>rooms</th>\n",
       "      <th>bedrooms</th>\n",
       "      <th>bathrooms</th>\n",
       "      <th>surface_total</th>\n",
       "      <th>surface_covered</th>\n",
       "      <th>price</th>\n",
       "      <th>l1</th>\n",
       "      <th>cluster</th>\n",
       "    </tr>\n",
       "  </thead>\n",
       "  <tbody>\n",
       "    <tr>\n",
       "      <th>0</th>\n",
       "      <td>4</td>\n",
       "      <td>3</td>\n",
       "      <td>2</td>\n",
       "      <td>198.0</td>\n",
       "      <td>150.0</td>\n",
       "      <td>385000.0</td>\n",
       "      <td>Argentina</td>\n",
       "      <td>3</td>\n",
       "    </tr>\n",
       "    <tr>\n",
       "      <th>1</th>\n",
       "      <td>4</td>\n",
       "      <td>3</td>\n",
       "      <td>2</td>\n",
       "      <td>198.0</td>\n",
       "      <td>150.0</td>\n",
       "      <td>385000.0</td>\n",
       "      <td>Argentina</td>\n",
       "      <td>3</td>\n",
       "    </tr>\n",
       "    <tr>\n",
       "      <th>2</th>\n",
       "      <td>7</td>\n",
       "      <td>3</td>\n",
       "      <td>2</td>\n",
       "      <td>173.0</td>\n",
       "      <td>173.0</td>\n",
       "      <td>195000.0</td>\n",
       "      <td>Argentina</td>\n",
       "      <td>3</td>\n",
       "    </tr>\n",
       "    <tr>\n",
       "      <th>3</th>\n",
       "      <td>3</td>\n",
       "      <td>3</td>\n",
       "      <td>1</td>\n",
       "      <td>49.0</td>\n",
       "      <td>40.0</td>\n",
       "      <td>85000.0</td>\n",
       "      <td>Argentina</td>\n",
       "      <td>3</td>\n",
       "    </tr>\n",
       "    <tr>\n",
       "      <th>4</th>\n",
       "      <td>3</td>\n",
       "      <td>3</td>\n",
       "      <td>1</td>\n",
       "      <td>49.0</td>\n",
       "      <td>40.0</td>\n",
       "      <td>85000.0</td>\n",
       "      <td>Argentina</td>\n",
       "      <td>3</td>\n",
       "    </tr>\n",
       "    <tr>\n",
       "      <th>...</th>\n",
       "      <td>...</td>\n",
       "      <td>...</td>\n",
       "      <td>...</td>\n",
       "      <td>...</td>\n",
       "      <td>...</td>\n",
       "      <td>...</td>\n",
       "      <td>...</td>\n",
       "      <td>...</td>\n",
       "    </tr>\n",
       "    <tr>\n",
       "      <th>427259</th>\n",
       "      <td>5</td>\n",
       "      <td>2</td>\n",
       "      <td>1</td>\n",
       "      <td>214.0</td>\n",
       "      <td>107.0</td>\n",
       "      <td>129000.0</td>\n",
       "      <td>Uruguay</td>\n",
       "      <td>3</td>\n",
       "    </tr>\n",
       "    <tr>\n",
       "      <th>427260</th>\n",
       "      <td>2</td>\n",
       "      <td>2</td>\n",
       "      <td>1</td>\n",
       "      <td>63.0</td>\n",
       "      <td>62.0</td>\n",
       "      <td>210000.0</td>\n",
       "      <td>Uruguay</td>\n",
       "      <td>3</td>\n",
       "    </tr>\n",
       "    <tr>\n",
       "      <th>427261</th>\n",
       "      <td>4</td>\n",
       "      <td>2</td>\n",
       "      <td>2</td>\n",
       "      <td>255.0</td>\n",
       "      <td>128.0</td>\n",
       "      <td>150000.0</td>\n",
       "      <td>Uruguay</td>\n",
       "      <td>3</td>\n",
       "    </tr>\n",
       "    <tr>\n",
       "      <th>427262</th>\n",
       "      <td>4</td>\n",
       "      <td>3</td>\n",
       "      <td>2</td>\n",
       "      <td>114.0</td>\n",
       "      <td>114.0</td>\n",
       "      <td>98500.0</td>\n",
       "      <td>Uruguay</td>\n",
       "      <td>3</td>\n",
       "    </tr>\n",
       "    <tr>\n",
       "      <th>427263</th>\n",
       "      <td>2</td>\n",
       "      <td>2</td>\n",
       "      <td>1</td>\n",
       "      <td>54.0</td>\n",
       "      <td>45.0</td>\n",
       "      <td>105000.0</td>\n",
       "      <td>Uruguay</td>\n",
       "      <td>3</td>\n",
       "    </tr>\n",
       "  </tbody>\n",
       "</table>\n",
       "<p>427264 rows × 8 columns</p>\n",
       "</div>"
      ],
      "text/plain": [
       "        rooms  bedrooms  bathrooms  surface_total  surface_covered     price  \\\n",
       "0           4         3          2          198.0            150.0  385000.0   \n",
       "1           4         3          2          198.0            150.0  385000.0   \n",
       "2           7         3          2          173.0            173.0  195000.0   \n",
       "3           3         3          1           49.0             40.0   85000.0   \n",
       "4           3         3          1           49.0             40.0   85000.0   \n",
       "...       ...       ...        ...            ...              ...       ...   \n",
       "427259      5         2          1          214.0            107.0  129000.0   \n",
       "427260      2         2          1           63.0             62.0  210000.0   \n",
       "427261      4         2          2          255.0            128.0  150000.0   \n",
       "427262      4         3          2          114.0            114.0   98500.0   \n",
       "427263      2         2          1           54.0             45.0  105000.0   \n",
       "\n",
       "               l1 cluster  \n",
       "0       Argentina       3  \n",
       "1       Argentina       3  \n",
       "2       Argentina       3  \n",
       "3       Argentina       3  \n",
       "4       Argentina       3  \n",
       "...           ...     ...  \n",
       "427259    Uruguay       3  \n",
       "427260    Uruguay       3  \n",
       "427261    Uruguay       3  \n",
       "427262    Uruguay       3  \n",
       "427263    Uruguay       3  \n",
       "\n",
       "[427264 rows x 8 columns]"
      ]
     },
     "execution_count": 83,
     "metadata": {},
     "output_type": "execute_result"
    }
   ],
   "source": [
    "# Append cluster numbers to original dataset for EDA\n",
    "pt_cluster_labels_df = pd.DataFrame(data = pt_cluster_labels)\n",
    "\n",
    "property_type_clustered = pd.concat([prop_type_pca, pt_cluster_labels_df, ], axis = 1)\n",
    "property_type_clustered.columns = ['rooms', 'bedrooms', 'bathrooms', 'surface_total', 'surface_covered', \n",
    "                                'price', 'l1', 'cluster']\n",
    "property_type_clustered.cluster = property_type_clustered.cluster.astype('str')\n",
    "property_type_clustered"
   ]
  },
  {
   "cell_type": "code",
   "execution_count": 84,
   "metadata": {},
   "outputs": [
    {
     "name": "stdout",
     "output_type": "stream",
     "text": [
      "<class 'pandas.core.frame.DataFrame'>\n",
      "Int64Index: 427264 entries, 0 to 427263\n",
      "Data columns (total 8 columns):\n",
      " #   Column           Non-Null Count   Dtype  \n",
      "---  ------           --------------   -----  \n",
      " 0   rooms            427264 non-null  uint8  \n",
      " 1   bedrooms         427264 non-null  uint8  \n",
      " 2   bathrooms        427264 non-null  uint8  \n",
      " 3   surface_total    427264 non-null  float64\n",
      " 4   surface_covered  427264 non-null  float64\n",
      " 5   price            427264 non-null  float64\n",
      " 6   l1               427264 non-null  object \n",
      " 7   cluster          427264 non-null  object \n",
      "dtypes: float64(3), object(2), uint8(3)\n",
      "memory usage: 20.8+ MB\n"
     ]
    }
   ],
   "source": [
    "property_type_clustered.info()"
   ]
  },
  {
   "cell_type": "markdown",
   "metadata": {},
   "source": [
    "Density based clustering may be somewhat effective at determining "
   ]
  },
  {
   "cell_type": "code",
   "execution_count": 93,
   "metadata": {},
   "outputs": [],
   "source": [
    "# Removed outliers of bedrooms at upper 95% for easier visualization, don't do?\n",
    "pt_clustered = pd.concat([property_type_clustered, df_num.property_type], axis = 1)\n"
   ]
  },
  {
   "cell_type": "code",
   "execution_count": null,
   "metadata": {
    "scrolled": false
   },
   "outputs": [],
   "source": [
    "# Perform EDA on new clustered dataset, see if clusters correlate with anything\n",
    "# Append property type\n",
    "fig = px.scatter_3d(pt_clustered, x = 'property_type', y = 'bedrooms', z = 'bathrooms', color = 'cluster')\n",
    "fig.update_layout(margin=dict(l=0, r=0, b=0, t=0))\n",
    "\n",
    "fig.show()"
   ]
  },
  {
   "cell_type": "markdown",
   "metadata": {},
   "source": [
    "Clustering on country and numeric variables does seem to provide some information"
   ]
  },
  {
   "cell_type": "code",
   "execution_count": null,
   "metadata": {},
   "outputs": [],
   "source": []
  },
  {
   "cell_type": "code",
   "execution_count": null,
   "metadata": {},
   "outputs": [],
   "source": []
  },
  {
   "cell_type": "code",
   "execution_count": null,
   "metadata": {},
   "outputs": [],
   "source": []
  },
  {
   "cell_type": "code",
   "execution_count": null,
   "metadata": {},
   "outputs": [],
   "source": []
  },
  {
   "cell_type": "code",
   "execution_count": null,
   "metadata": {},
   "outputs": [],
   "source": []
  },
  {
   "cell_type": "code",
   "execution_count": null,
   "metadata": {},
   "outputs": [],
   "source": []
  },
  {
   "cell_type": "code",
   "execution_count": null,
   "metadata": {},
   "outputs": [],
   "source": []
  },
  {
   "cell_type": "code",
   "execution_count": null,
   "metadata": {},
   "outputs": [],
   "source": []
  },
  {
   "cell_type": "code",
   "execution_count": null,
   "metadata": {},
   "outputs": [],
   "source": []
  },
  {
   "cell_type": "code",
   "execution_count": null,
   "metadata": {},
   "outputs": [],
   "source": []
  },
  {
   "cell_type": "code",
   "execution_count": null,
   "metadata": {},
   "outputs": [],
   "source": []
  },
  {
   "cell_type": "code",
   "execution_count": null,
   "metadata": {},
   "outputs": [],
   "source": []
  },
  {
   "cell_type": "code",
   "execution_count": null,
   "metadata": {},
   "outputs": [],
   "source": []
  },
  {
   "cell_type": "code",
   "execution_count": null,
   "metadata": {},
   "outputs": [],
   "source": []
  },
  {
   "cell_type": "code",
   "execution_count": null,
   "metadata": {},
   "outputs": [],
   "source": []
  },
  {
   "cell_type": "code",
   "execution_count": null,
   "metadata": {},
   "outputs": [],
   "source": []
  },
  {
   "cell_type": "code",
   "execution_count": null,
   "metadata": {},
   "outputs": [],
   "source": []
  },
  {
   "cell_type": "code",
   "execution_count": null,
   "metadata": {},
   "outputs": [],
   "source": []
  },
  {
   "cell_type": "code",
   "execution_count": null,
   "metadata": {},
   "outputs": [],
   "source": []
  },
  {
   "cell_type": "markdown",
   "metadata": {},
   "source": [
    "# <font color = 'blue'>III. MODELING AND EVALUATION: CLUSTER ANALYSIS - Train and Adjust Parameters\n",
    "\n",
    "\n"
   ]
  },
  {
   "cell_type": "markdown",
   "metadata": {},
   "source": [
    "# <font color = 'blue'>III. MODELING AND EVALUATION: CLUSTER ANALYSIS - Evaluate and Compare\n",
    "\n"
   ]
  },
  {
   "cell_type": "markdown",
   "metadata": {},
   "source": [
    "# <font color = 'blue'>III. MODELING AND EVALUATION: CLUSTER ANALYSIS - Visualize Results\n",
    "\n"
   ]
  },
  {
   "cell_type": "markdown",
   "metadata": {},
   "source": [
    "# <font color = 'blue'>III. MODELING AND EVALUATION: Summarize the Rammications from Cluster Analysis"
   ]
  },
  {
   "cell_type": "markdown",
   "metadata": {},
   "source": [
    "# <font color = 'blue'>IV. Deployment\n",
    "<font color = 'blue'>Our model can be used by potential investors wanting to do due diligence on properties for sale in South America.  In order to stay relevant, the model will need to be updated on a quarterly basis to reflect market fluctuations.  In addition, there is a high degree of data wrangling and preprocessing needed in terms of combining data sets from different countries and quality checks for missing or invalid data values.  Given this detailed maintenance and since regular updates are needed, a user subscription based deployment would be ideal to keep our model accurate and end-user friendly."
   ]
  },
  {
   "cell_type": "markdown",
   "metadata": {},
   "source": [
    "# <font color = 'blue'>V.  Exceptional Work\n",
    "\n",
    "\n"
   ]
  },
  {
   "cell_type": "code",
   "execution_count": null,
   "metadata": {},
   "outputs": [],
   "source": []
  }
 ],
 "metadata": {
  "kernelspec": {
   "display_name": "Python 3",
   "language": "python",
   "name": "python3"
  },
  "language_info": {
   "codemirror_mode": {
    "name": "ipython",
    "version": 3
   },
   "file_extension": ".py",
   "mimetype": "text/x-python",
   "name": "python",
   "nbconvert_exporter": "python",
   "pygments_lexer": "ipython3",
   "version": "3.7.1"
  }
 },
 "nbformat": 4,
 "nbformat_minor": 4
}
